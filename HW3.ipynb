{
  "nbformat": 4,
  "nbformat_minor": 0,
  "metadata": {
    "accelerator": "GPU",
    "colab": {
      "name": "HW3.ipynb",
      "provenance": [],
      "collapsed_sections": [],
      "include_colab_link": true
    },
    "kernelspec": {
      "display_name": "Python 3",
      "language": "python",
      "name": "python3"
    },
    "language_info": {
      "codemirror_mode": {
        "name": "ipython",
        "version": 3
      },
      "file_extension": ".py",
      "mimetype": "text/x-python",
      "name": "python",
      "nbconvert_exporter": "python",
      "pygments_lexer": "ipython3",
      "version": "3.7.3"
    },
    "widgets": {
      "application/vnd.jupyter.widget-state+json": {
        "d827307c5a91409ab427435d1a981a22": {
          "model_module": "@jupyter-widgets/controls",
          "model_name": "HBoxModel",
          "state": {
            "_view_name": "HBoxView",
            "_dom_classes": [],
            "_model_name": "HBoxModel",
            "_view_module": "@jupyter-widgets/controls",
            "_model_module_version": "1.5.0",
            "_view_count": null,
            "_view_module_version": "1.5.0",
            "box_style": "",
            "layout": "IPY_MODEL_8195e386c5754684b4abdf1abdd0132f",
            "_model_module": "@jupyter-widgets/controls",
            "children": [
              "IPY_MODEL_cd38a91b395844988d734b3a2663c4a5",
              "IPY_MODEL_465087bb9f43415e9843a29365a72b8b"
            ]
          }
        },
        "8195e386c5754684b4abdf1abdd0132f": {
          "model_module": "@jupyter-widgets/base",
          "model_name": "LayoutModel",
          "state": {
            "_view_name": "LayoutView",
            "grid_template_rows": null,
            "right": null,
            "justify_content": null,
            "_view_module": "@jupyter-widgets/base",
            "overflow": null,
            "_model_module_version": "1.2.0",
            "_view_count": null,
            "flex_flow": null,
            "width": null,
            "min_width": null,
            "border": null,
            "align_items": null,
            "bottom": null,
            "_model_module": "@jupyter-widgets/base",
            "top": null,
            "grid_column": null,
            "overflow_y": null,
            "overflow_x": null,
            "grid_auto_flow": null,
            "grid_area": null,
            "grid_template_columns": null,
            "flex": null,
            "_model_name": "LayoutModel",
            "justify_items": null,
            "grid_row": null,
            "max_height": null,
            "align_content": null,
            "visibility": null,
            "align_self": null,
            "height": null,
            "min_height": null,
            "padding": null,
            "grid_auto_rows": null,
            "grid_gap": null,
            "max_width": null,
            "order": null,
            "_view_module_version": "1.2.0",
            "grid_template_areas": null,
            "object_position": null,
            "object_fit": null,
            "grid_auto_columns": null,
            "margin": null,
            "display": null,
            "left": null
          }
        },
        "cd38a91b395844988d734b3a2663c4a5": {
          "model_module": "@jupyter-widgets/controls",
          "model_name": "FloatProgressModel",
          "state": {
            "_view_name": "ProgressView",
            "style": "IPY_MODEL_aba819084bfc4dc18ba46633df1cf901",
            "_dom_classes": [],
            "description": "100%",
            "_model_name": "FloatProgressModel",
            "bar_style": "success",
            "max": 6038,
            "_view_module": "@jupyter-widgets/controls",
            "_model_module_version": "1.5.0",
            "value": 6038,
            "_view_count": null,
            "_view_module_version": "1.5.0",
            "orientation": "horizontal",
            "min": 0,
            "description_tooltip": null,
            "_model_module": "@jupyter-widgets/controls",
            "layout": "IPY_MODEL_1f0af58c54b14b0da7ae4948612eded3"
          }
        },
        "465087bb9f43415e9843a29365a72b8b": {
          "model_module": "@jupyter-widgets/controls",
          "model_name": "HTMLModel",
          "state": {
            "_view_name": "HTMLView",
            "style": "IPY_MODEL_254ed5db0d2442f0a203f94f9f2531b3",
            "_dom_classes": [],
            "description": "",
            "_model_name": "HTMLModel",
            "placeholder": "​",
            "_view_module": "@jupyter-widgets/controls",
            "_model_module_version": "1.5.0",
            "value": " 6038/6038 [02:45&lt;00:00, 36.47it/s]",
            "_view_count": null,
            "_view_module_version": "1.5.0",
            "description_tooltip": null,
            "_model_module": "@jupyter-widgets/controls",
            "layout": "IPY_MODEL_5bac94bfea914eb6b4316aea3511710e"
          }
        },
        "aba819084bfc4dc18ba46633df1cf901": {
          "model_module": "@jupyter-widgets/controls",
          "model_name": "ProgressStyleModel",
          "state": {
            "_view_name": "StyleView",
            "_model_name": "ProgressStyleModel",
            "description_width": "initial",
            "_view_module": "@jupyter-widgets/base",
            "_model_module_version": "1.5.0",
            "_view_count": null,
            "_view_module_version": "1.2.0",
            "bar_color": null,
            "_model_module": "@jupyter-widgets/controls"
          }
        },
        "1f0af58c54b14b0da7ae4948612eded3": {
          "model_module": "@jupyter-widgets/base",
          "model_name": "LayoutModel",
          "state": {
            "_view_name": "LayoutView",
            "grid_template_rows": null,
            "right": null,
            "justify_content": null,
            "_view_module": "@jupyter-widgets/base",
            "overflow": null,
            "_model_module_version": "1.2.0",
            "_view_count": null,
            "flex_flow": null,
            "width": null,
            "min_width": null,
            "border": null,
            "align_items": null,
            "bottom": null,
            "_model_module": "@jupyter-widgets/base",
            "top": null,
            "grid_column": null,
            "overflow_y": null,
            "overflow_x": null,
            "grid_auto_flow": null,
            "grid_area": null,
            "grid_template_columns": null,
            "flex": null,
            "_model_name": "LayoutModel",
            "justify_items": null,
            "grid_row": null,
            "max_height": null,
            "align_content": null,
            "visibility": null,
            "align_self": null,
            "height": null,
            "min_height": null,
            "padding": null,
            "grid_auto_rows": null,
            "grid_gap": null,
            "max_width": null,
            "order": null,
            "_view_module_version": "1.2.0",
            "grid_template_areas": null,
            "object_position": null,
            "object_fit": null,
            "grid_auto_columns": null,
            "margin": null,
            "display": null,
            "left": null
          }
        },
        "254ed5db0d2442f0a203f94f9f2531b3": {
          "model_module": "@jupyter-widgets/controls",
          "model_name": "DescriptionStyleModel",
          "state": {
            "_view_name": "StyleView",
            "_model_name": "DescriptionStyleModel",
            "description_width": "",
            "_view_module": "@jupyter-widgets/base",
            "_model_module_version": "1.5.0",
            "_view_count": null,
            "_view_module_version": "1.2.0",
            "_model_module": "@jupyter-widgets/controls"
          }
        },
        "5bac94bfea914eb6b4316aea3511710e": {
          "model_module": "@jupyter-widgets/base",
          "model_name": "LayoutModel",
          "state": {
            "_view_name": "LayoutView",
            "grid_template_rows": null,
            "right": null,
            "justify_content": null,
            "_view_module": "@jupyter-widgets/base",
            "overflow": null,
            "_model_module_version": "1.2.0",
            "_view_count": null,
            "flex_flow": null,
            "width": null,
            "min_width": null,
            "border": null,
            "align_items": null,
            "bottom": null,
            "_model_module": "@jupyter-widgets/base",
            "top": null,
            "grid_column": null,
            "overflow_y": null,
            "overflow_x": null,
            "grid_auto_flow": null,
            "grid_area": null,
            "grid_template_columns": null,
            "flex": null,
            "_model_name": "LayoutModel",
            "justify_items": null,
            "grid_row": null,
            "max_height": null,
            "align_content": null,
            "visibility": null,
            "align_self": null,
            "height": null,
            "min_height": null,
            "padding": null,
            "grid_auto_rows": null,
            "grid_gap": null,
            "max_width": null,
            "order": null,
            "_view_module_version": "1.2.0",
            "grid_template_areas": null,
            "object_position": null,
            "object_fit": null,
            "grid_auto_columns": null,
            "margin": null,
            "display": null,
            "left": null
          }
        },
        "8ccbc55b646e45539957ecfcc1fc1b9f": {
          "model_module": "@jupyter-widgets/controls",
          "model_name": "HBoxModel",
          "state": {
            "_view_name": "HBoxView",
            "_dom_classes": [],
            "_model_name": "HBoxModel",
            "_view_module": "@jupyter-widgets/controls",
            "_model_module_version": "1.5.0",
            "_view_count": null,
            "_view_module_version": "1.5.0",
            "box_style": "",
            "layout": "IPY_MODEL_f279142d548e4fccb296d46587e1bc5e",
            "_model_module": "@jupyter-widgets/controls",
            "children": [
              "IPY_MODEL_5f1366f9e79442108d2f9ccbac1f78b3",
              "IPY_MODEL_96fddde516f1442d88bb3964129269f4"
            ]
          }
        },
        "f279142d548e4fccb296d46587e1bc5e": {
          "model_module": "@jupyter-widgets/base",
          "model_name": "LayoutModel",
          "state": {
            "_view_name": "LayoutView",
            "grid_template_rows": null,
            "right": null,
            "justify_content": null,
            "_view_module": "@jupyter-widgets/base",
            "overflow": null,
            "_model_module_version": "1.2.0",
            "_view_count": null,
            "flex_flow": null,
            "width": null,
            "min_width": null,
            "border": null,
            "align_items": null,
            "bottom": null,
            "_model_module": "@jupyter-widgets/base",
            "top": null,
            "grid_column": null,
            "overflow_y": null,
            "overflow_x": null,
            "grid_auto_flow": null,
            "grid_area": null,
            "grid_template_columns": null,
            "flex": null,
            "_model_name": "LayoutModel",
            "justify_items": null,
            "grid_row": null,
            "max_height": null,
            "align_content": null,
            "visibility": null,
            "align_self": null,
            "height": null,
            "min_height": null,
            "padding": null,
            "grid_auto_rows": null,
            "grid_gap": null,
            "max_width": null,
            "order": null,
            "_view_module_version": "1.2.0",
            "grid_template_areas": null,
            "object_position": null,
            "object_fit": null,
            "grid_auto_columns": null,
            "margin": null,
            "display": null,
            "left": null
          }
        },
        "5f1366f9e79442108d2f9ccbac1f78b3": {
          "model_module": "@jupyter-widgets/controls",
          "model_name": "FloatProgressModel",
          "state": {
            "_view_name": "ProgressView",
            "style": "IPY_MODEL_26bc285c494f4e738d69bc471859fdd9",
            "_dom_classes": [],
            "description": "100%",
            "_model_name": "FloatProgressModel",
            "bar_style": "success",
            "max": 6037,
            "_view_module": "@jupyter-widgets/controls",
            "_model_module_version": "1.5.0",
            "value": 6037,
            "_view_count": null,
            "_view_module_version": "1.5.0",
            "orientation": "horizontal",
            "min": 0,
            "description_tooltip": null,
            "_model_module": "@jupyter-widgets/controls",
            "layout": "IPY_MODEL_364f71ba8aef437b99b9416f0e505627"
          }
        },
        "96fddde516f1442d88bb3964129269f4": {
          "model_module": "@jupyter-widgets/controls",
          "model_name": "HTMLModel",
          "state": {
            "_view_name": "HTMLView",
            "style": "IPY_MODEL_22ec679251674e39a412ab040aee2abe",
            "_dom_classes": [],
            "description": "",
            "_model_name": "HTMLModel",
            "placeholder": "​",
            "_view_module": "@jupyter-widgets/controls",
            "_model_module_version": "1.5.0",
            "value": " 6037/6037 [00:04&lt;00:00, 1233.25it/s]",
            "_view_count": null,
            "_view_module_version": "1.5.0",
            "description_tooltip": null,
            "_model_module": "@jupyter-widgets/controls",
            "layout": "IPY_MODEL_55560d7c41ee4ea0bad56c7bd2839309"
          }
        },
        "26bc285c494f4e738d69bc471859fdd9": {
          "model_module": "@jupyter-widgets/controls",
          "model_name": "ProgressStyleModel",
          "state": {
            "_view_name": "StyleView",
            "_model_name": "ProgressStyleModel",
            "description_width": "initial",
            "_view_module": "@jupyter-widgets/base",
            "_model_module_version": "1.5.0",
            "_view_count": null,
            "_view_module_version": "1.2.0",
            "bar_color": null,
            "_model_module": "@jupyter-widgets/controls"
          }
        },
        "364f71ba8aef437b99b9416f0e505627": {
          "model_module": "@jupyter-widgets/base",
          "model_name": "LayoutModel",
          "state": {
            "_view_name": "LayoutView",
            "grid_template_rows": null,
            "right": null,
            "justify_content": null,
            "_view_module": "@jupyter-widgets/base",
            "overflow": null,
            "_model_module_version": "1.2.0",
            "_view_count": null,
            "flex_flow": null,
            "width": null,
            "min_width": null,
            "border": null,
            "align_items": null,
            "bottom": null,
            "_model_module": "@jupyter-widgets/base",
            "top": null,
            "grid_column": null,
            "overflow_y": null,
            "overflow_x": null,
            "grid_auto_flow": null,
            "grid_area": null,
            "grid_template_columns": null,
            "flex": null,
            "_model_name": "LayoutModel",
            "justify_items": null,
            "grid_row": null,
            "max_height": null,
            "align_content": null,
            "visibility": null,
            "align_self": null,
            "height": null,
            "min_height": null,
            "padding": null,
            "grid_auto_rows": null,
            "grid_gap": null,
            "max_width": null,
            "order": null,
            "_view_module_version": "1.2.0",
            "grid_template_areas": null,
            "object_position": null,
            "object_fit": null,
            "grid_auto_columns": null,
            "margin": null,
            "display": null,
            "left": null
          }
        },
        "22ec679251674e39a412ab040aee2abe": {
          "model_module": "@jupyter-widgets/controls",
          "model_name": "DescriptionStyleModel",
          "state": {
            "_view_name": "StyleView",
            "_model_name": "DescriptionStyleModel",
            "description_width": "",
            "_view_module": "@jupyter-widgets/base",
            "_model_module_version": "1.5.0",
            "_view_count": null,
            "_view_module_version": "1.2.0",
            "_model_module": "@jupyter-widgets/controls"
          }
        },
        "55560d7c41ee4ea0bad56c7bd2839309": {
          "model_module": "@jupyter-widgets/base",
          "model_name": "LayoutModel",
          "state": {
            "_view_name": "LayoutView",
            "grid_template_rows": null,
            "right": null,
            "justify_content": null,
            "_view_module": "@jupyter-widgets/base",
            "overflow": null,
            "_model_module_version": "1.2.0",
            "_view_count": null,
            "flex_flow": null,
            "width": null,
            "min_width": null,
            "border": null,
            "align_items": null,
            "bottom": null,
            "_model_module": "@jupyter-widgets/base",
            "top": null,
            "grid_column": null,
            "overflow_y": null,
            "overflow_x": null,
            "grid_auto_flow": null,
            "grid_area": null,
            "grid_template_columns": null,
            "flex": null,
            "_model_name": "LayoutModel",
            "justify_items": null,
            "grid_row": null,
            "max_height": null,
            "align_content": null,
            "visibility": null,
            "align_self": null,
            "height": null,
            "min_height": null,
            "padding": null,
            "grid_auto_rows": null,
            "grid_gap": null,
            "max_width": null,
            "order": null,
            "_view_module_version": "1.2.0",
            "grid_template_areas": null,
            "object_position": null,
            "object_fit": null,
            "grid_auto_columns": null,
            "margin": null,
            "display": null,
            "left": null
          }
        },
        "ca5f2275a2334a07966d623443110027": {
          "model_module": "@jupyter-widgets/controls",
          "model_name": "HBoxModel",
          "state": {
            "_view_name": "HBoxView",
            "_dom_classes": [],
            "_model_name": "HBoxModel",
            "_view_module": "@jupyter-widgets/controls",
            "_model_module_version": "1.5.0",
            "_view_count": null,
            "_view_module_version": "1.5.0",
            "box_style": "",
            "layout": "IPY_MODEL_3916667a679b42a1899cbc783b61b110",
            "_model_module": "@jupyter-widgets/controls",
            "children": [
              "IPY_MODEL_0a94b30cac9144e28826418bd3350add",
              "IPY_MODEL_37e3ee8896a0413e8fc4ca8fe26eaa3d"
            ]
          }
        },
        "3916667a679b42a1899cbc783b61b110": {
          "model_module": "@jupyter-widgets/base",
          "model_name": "LayoutModel",
          "state": {
            "_view_name": "LayoutView",
            "grid_template_rows": null,
            "right": null,
            "justify_content": null,
            "_view_module": "@jupyter-widgets/base",
            "overflow": null,
            "_model_module_version": "1.2.0",
            "_view_count": null,
            "flex_flow": null,
            "width": null,
            "min_width": null,
            "border": null,
            "align_items": null,
            "bottom": null,
            "_model_module": "@jupyter-widgets/base",
            "top": null,
            "grid_column": null,
            "overflow_y": null,
            "overflow_x": null,
            "grid_auto_flow": null,
            "grid_area": null,
            "grid_template_columns": null,
            "flex": null,
            "_model_name": "LayoutModel",
            "justify_items": null,
            "grid_row": null,
            "max_height": null,
            "align_content": null,
            "visibility": null,
            "align_self": null,
            "height": null,
            "min_height": null,
            "padding": null,
            "grid_auto_rows": null,
            "grid_gap": null,
            "max_width": null,
            "order": null,
            "_view_module_version": "1.2.0",
            "grid_template_areas": null,
            "object_position": null,
            "object_fit": null,
            "grid_auto_columns": null,
            "margin": null,
            "display": null,
            "left": null
          }
        },
        "0a94b30cac9144e28826418bd3350add": {
          "model_module": "@jupyter-widgets/controls",
          "model_name": "FloatProgressModel",
          "state": {
            "_view_name": "ProgressView",
            "style": "IPY_MODEL_ad36b0fabc834781b294bd56705d2834",
            "_dom_classes": [],
            "description": "100%",
            "_model_name": "FloatProgressModel",
            "bar_style": "success",
            "max": 50,
            "_view_module": "@jupyter-widgets/controls",
            "_model_module_version": "1.5.0",
            "value": 50,
            "_view_count": null,
            "_view_module_version": "1.5.0",
            "orientation": "horizontal",
            "min": 0,
            "description_tooltip": null,
            "_model_module": "@jupyter-widgets/controls",
            "layout": "IPY_MODEL_d93f2276db3a44e18908d8c616d8bff9"
          }
        },
        "37e3ee8896a0413e8fc4ca8fe26eaa3d": {
          "model_module": "@jupyter-widgets/controls",
          "model_name": "HTMLModel",
          "state": {
            "_view_name": "HTMLView",
            "style": "IPY_MODEL_84a8f46a4adb4c71a62750e69d0bc0d3",
            "_dom_classes": [],
            "description": "",
            "_model_name": "HTMLModel",
            "placeholder": "​",
            "_view_module": "@jupyter-widgets/controls",
            "_model_module_version": "1.5.0",
            "value": " 50/50 [19:46&lt;00:00, 23.73s/it]",
            "_view_count": null,
            "_view_module_version": "1.5.0",
            "description_tooltip": null,
            "_model_module": "@jupyter-widgets/controls",
            "layout": "IPY_MODEL_663758a9166c41c584fc82a6ab0d4520"
          }
        },
        "ad36b0fabc834781b294bd56705d2834": {
          "model_module": "@jupyter-widgets/controls",
          "model_name": "ProgressStyleModel",
          "state": {
            "_view_name": "StyleView",
            "_model_name": "ProgressStyleModel",
            "description_width": "initial",
            "_view_module": "@jupyter-widgets/base",
            "_model_module_version": "1.5.0",
            "_view_count": null,
            "_view_module_version": "1.2.0",
            "bar_color": null,
            "_model_module": "@jupyter-widgets/controls"
          }
        },
        "d93f2276db3a44e18908d8c616d8bff9": {
          "model_module": "@jupyter-widgets/base",
          "model_name": "LayoutModel",
          "state": {
            "_view_name": "LayoutView",
            "grid_template_rows": null,
            "right": null,
            "justify_content": null,
            "_view_module": "@jupyter-widgets/base",
            "overflow": null,
            "_model_module_version": "1.2.0",
            "_view_count": null,
            "flex_flow": null,
            "width": null,
            "min_width": null,
            "border": null,
            "align_items": null,
            "bottom": null,
            "_model_module": "@jupyter-widgets/base",
            "top": null,
            "grid_column": null,
            "overflow_y": null,
            "overflow_x": null,
            "grid_auto_flow": null,
            "grid_area": null,
            "grid_template_columns": null,
            "flex": null,
            "_model_name": "LayoutModel",
            "justify_items": null,
            "grid_row": null,
            "max_height": null,
            "align_content": null,
            "visibility": null,
            "align_self": null,
            "height": null,
            "min_height": null,
            "padding": null,
            "grid_auto_rows": null,
            "grid_gap": null,
            "max_width": null,
            "order": null,
            "_view_module_version": "1.2.0",
            "grid_template_areas": null,
            "object_position": null,
            "object_fit": null,
            "grid_auto_columns": null,
            "margin": null,
            "display": null,
            "left": null
          }
        },
        "84a8f46a4adb4c71a62750e69d0bc0d3": {
          "model_module": "@jupyter-widgets/controls",
          "model_name": "DescriptionStyleModel",
          "state": {
            "_view_name": "StyleView",
            "_model_name": "DescriptionStyleModel",
            "description_width": "",
            "_view_module": "@jupyter-widgets/base",
            "_model_module_version": "1.5.0",
            "_view_count": null,
            "_view_module_version": "1.2.0",
            "_model_module": "@jupyter-widgets/controls"
          }
        },
        "663758a9166c41c584fc82a6ab0d4520": {
          "model_module": "@jupyter-widgets/base",
          "model_name": "LayoutModel",
          "state": {
            "_view_name": "LayoutView",
            "grid_template_rows": null,
            "right": null,
            "justify_content": null,
            "_view_module": "@jupyter-widgets/base",
            "overflow": null,
            "_model_module_version": "1.2.0",
            "_view_count": null,
            "flex_flow": null,
            "width": null,
            "min_width": null,
            "border": null,
            "align_items": null,
            "bottom": null,
            "_model_module": "@jupyter-widgets/base",
            "top": null,
            "grid_column": null,
            "overflow_y": null,
            "overflow_x": null,
            "grid_auto_flow": null,
            "grid_area": null,
            "grid_template_columns": null,
            "flex": null,
            "_model_name": "LayoutModel",
            "justify_items": null,
            "grid_row": null,
            "max_height": null,
            "align_content": null,
            "visibility": null,
            "align_self": null,
            "height": null,
            "min_height": null,
            "padding": null,
            "grid_auto_rows": null,
            "grid_gap": null,
            "max_width": null,
            "order": null,
            "_view_module_version": "1.2.0",
            "grid_template_areas": null,
            "object_position": null,
            "object_fit": null,
            "grid_auto_columns": null,
            "margin": null,
            "display": null,
            "left": null
          }
        },
        "47682eba017d4be7be51d73110b9d697": {
          "model_module": "@jupyter-widgets/controls",
          "model_name": "HBoxModel",
          "state": {
            "_view_name": "HBoxView",
            "_dom_classes": [],
            "_model_name": "HBoxModel",
            "_view_module": "@jupyter-widgets/controls",
            "_model_module_version": "1.5.0",
            "_view_count": null,
            "_view_module_version": "1.5.0",
            "box_style": "",
            "layout": "IPY_MODEL_6378fbc885be4989a147d944aa6b600c",
            "_model_module": "@jupyter-widgets/controls",
            "children": [
              "IPY_MODEL_e3c51269c9e44a10bd821198fd608a63",
              "IPY_MODEL_19ee1e52e9304ba1ade998df1bf5cf85"
            ]
          }
        },
        "6378fbc885be4989a147d944aa6b600c": {
          "model_module": "@jupyter-widgets/base",
          "model_name": "LayoutModel",
          "state": {
            "_view_name": "LayoutView",
            "grid_template_rows": null,
            "right": null,
            "justify_content": null,
            "_view_module": "@jupyter-widgets/base",
            "overflow": null,
            "_model_module_version": "1.2.0",
            "_view_count": null,
            "flex_flow": null,
            "width": null,
            "min_width": null,
            "border": null,
            "align_items": null,
            "bottom": null,
            "_model_module": "@jupyter-widgets/base",
            "top": null,
            "grid_column": null,
            "overflow_y": null,
            "overflow_x": null,
            "grid_auto_flow": null,
            "grid_area": null,
            "grid_template_columns": null,
            "flex": null,
            "_model_name": "LayoutModel",
            "justify_items": null,
            "grid_row": null,
            "max_height": null,
            "align_content": null,
            "visibility": null,
            "align_self": null,
            "height": null,
            "min_height": null,
            "padding": null,
            "grid_auto_rows": null,
            "grid_gap": null,
            "max_width": null,
            "order": null,
            "_view_module_version": "1.2.0",
            "grid_template_areas": null,
            "object_position": null,
            "object_fit": null,
            "grid_auto_columns": null,
            "margin": null,
            "display": null,
            "left": null
          }
        },
        "e3c51269c9e44a10bd821198fd608a63": {
          "model_module": "@jupyter-widgets/controls",
          "model_name": "FloatProgressModel",
          "state": {
            "_view_name": "ProgressView",
            "style": "IPY_MODEL_2cc48986bae54cc297b06d861496935b",
            "_dom_classes": [],
            "description": "100%",
            "_model_name": "FloatProgressModel",
            "bar_style": "success",
            "max": 6037,
            "_view_module": "@jupyter-widgets/controls",
            "_model_module_version": "1.5.0",
            "value": 6037,
            "_view_count": null,
            "_view_module_version": "1.5.0",
            "orientation": "horizontal",
            "min": 0,
            "description_tooltip": null,
            "_model_module": "@jupyter-widgets/controls",
            "layout": "IPY_MODEL_f71ba8ead0784c8db5f17d1c8a1620b3"
          }
        },
        "19ee1e52e9304ba1ade998df1bf5cf85": {
          "model_module": "@jupyter-widgets/controls",
          "model_name": "HTMLModel",
          "state": {
            "_view_name": "HTMLView",
            "style": "IPY_MODEL_e8e0e87f36434b8887e55547ca4bd936",
            "_dom_classes": [],
            "description": "",
            "_model_name": "HTMLModel",
            "placeholder": "​",
            "_view_module": "@jupyter-widgets/controls",
            "_model_module_version": "1.5.0",
            "value": " 6037/6037 [00:19&lt;00:00, 308.22it/s]",
            "_view_count": null,
            "_view_module_version": "1.5.0",
            "description_tooltip": null,
            "_model_module": "@jupyter-widgets/controls",
            "layout": "IPY_MODEL_84bf693904134f51aff1e53ed4faa7be"
          }
        },
        "2cc48986bae54cc297b06d861496935b": {
          "model_module": "@jupyter-widgets/controls",
          "model_name": "ProgressStyleModel",
          "state": {
            "_view_name": "StyleView",
            "_model_name": "ProgressStyleModel",
            "description_width": "initial",
            "_view_module": "@jupyter-widgets/base",
            "_model_module_version": "1.5.0",
            "_view_count": null,
            "_view_module_version": "1.2.0",
            "bar_color": null,
            "_model_module": "@jupyter-widgets/controls"
          }
        },
        "f71ba8ead0784c8db5f17d1c8a1620b3": {
          "model_module": "@jupyter-widgets/base",
          "model_name": "LayoutModel",
          "state": {
            "_view_name": "LayoutView",
            "grid_template_rows": null,
            "right": null,
            "justify_content": null,
            "_view_module": "@jupyter-widgets/base",
            "overflow": null,
            "_model_module_version": "1.2.0",
            "_view_count": null,
            "flex_flow": null,
            "width": null,
            "min_width": null,
            "border": null,
            "align_items": null,
            "bottom": null,
            "_model_module": "@jupyter-widgets/base",
            "top": null,
            "grid_column": null,
            "overflow_y": null,
            "overflow_x": null,
            "grid_auto_flow": null,
            "grid_area": null,
            "grid_template_columns": null,
            "flex": null,
            "_model_name": "LayoutModel",
            "justify_items": null,
            "grid_row": null,
            "max_height": null,
            "align_content": null,
            "visibility": null,
            "align_self": null,
            "height": null,
            "min_height": null,
            "padding": null,
            "grid_auto_rows": null,
            "grid_gap": null,
            "max_width": null,
            "order": null,
            "_view_module_version": "1.2.0",
            "grid_template_areas": null,
            "object_position": null,
            "object_fit": null,
            "grid_auto_columns": null,
            "margin": null,
            "display": null,
            "left": null
          }
        },
        "e8e0e87f36434b8887e55547ca4bd936": {
          "model_module": "@jupyter-widgets/controls",
          "model_name": "DescriptionStyleModel",
          "state": {
            "_view_name": "StyleView",
            "_model_name": "DescriptionStyleModel",
            "description_width": "",
            "_view_module": "@jupyter-widgets/base",
            "_model_module_version": "1.5.0",
            "_view_count": null,
            "_view_module_version": "1.2.0",
            "_model_module": "@jupyter-widgets/controls"
          }
        },
        "84bf693904134f51aff1e53ed4faa7be": {
          "model_module": "@jupyter-widgets/base",
          "model_name": "LayoutModel",
          "state": {
            "_view_name": "LayoutView",
            "grid_template_rows": null,
            "right": null,
            "justify_content": null,
            "_view_module": "@jupyter-widgets/base",
            "overflow": null,
            "_model_module_version": "1.2.0",
            "_view_count": null,
            "flex_flow": null,
            "width": null,
            "min_width": null,
            "border": null,
            "align_items": null,
            "bottom": null,
            "_model_module": "@jupyter-widgets/base",
            "top": null,
            "grid_column": null,
            "overflow_y": null,
            "overflow_x": null,
            "grid_auto_flow": null,
            "grid_area": null,
            "grid_template_columns": null,
            "flex": null,
            "_model_name": "LayoutModel",
            "justify_items": null,
            "grid_row": null,
            "max_height": null,
            "align_content": null,
            "visibility": null,
            "align_self": null,
            "height": null,
            "min_height": null,
            "padding": null,
            "grid_auto_rows": null,
            "grid_gap": null,
            "max_width": null,
            "order": null,
            "_view_module_version": "1.2.0",
            "grid_template_areas": null,
            "object_position": null,
            "object_fit": null,
            "grid_auto_columns": null,
            "margin": null,
            "display": null,
            "left": null
          }
        },
        "d719b1bf11204084ae2840d820307ba5": {
          "model_module": "@jupyter-widgets/controls",
          "model_name": "HBoxModel",
          "state": {
            "_view_name": "HBoxView",
            "_dom_classes": [],
            "_model_name": "HBoxModel",
            "_view_module": "@jupyter-widgets/controls",
            "_model_module_version": "1.5.0",
            "_view_count": null,
            "_view_module_version": "1.5.0",
            "box_style": "",
            "layout": "IPY_MODEL_aba818a4762a4f8bbdb6fb1efc223322",
            "_model_module": "@jupyter-widgets/controls",
            "children": [
              "IPY_MODEL_5bee4883acdc46218b71e0722b53035e",
              "IPY_MODEL_d878831e2f7e48c5aa2025aa46a28b49"
            ]
          }
        },
        "aba818a4762a4f8bbdb6fb1efc223322": {
          "model_module": "@jupyter-widgets/base",
          "model_name": "LayoutModel",
          "state": {
            "_view_name": "LayoutView",
            "grid_template_rows": null,
            "right": null,
            "justify_content": null,
            "_view_module": "@jupyter-widgets/base",
            "overflow": null,
            "_model_module_version": "1.2.0",
            "_view_count": null,
            "flex_flow": null,
            "width": null,
            "min_width": null,
            "border": null,
            "align_items": null,
            "bottom": null,
            "_model_module": "@jupyter-widgets/base",
            "top": null,
            "grid_column": null,
            "overflow_y": null,
            "overflow_x": null,
            "grid_auto_flow": null,
            "grid_area": null,
            "grid_template_columns": null,
            "flex": null,
            "_model_name": "LayoutModel",
            "justify_items": null,
            "grid_row": null,
            "max_height": null,
            "align_content": null,
            "visibility": null,
            "align_self": null,
            "height": null,
            "min_height": null,
            "padding": null,
            "grid_auto_rows": null,
            "grid_gap": null,
            "max_width": null,
            "order": null,
            "_view_module_version": "1.2.0",
            "grid_template_areas": null,
            "object_position": null,
            "object_fit": null,
            "grid_auto_columns": null,
            "margin": null,
            "display": null,
            "left": null
          }
        },
        "5bee4883acdc46218b71e0722b53035e": {
          "model_module": "@jupyter-widgets/controls",
          "model_name": "FloatProgressModel",
          "state": {
            "_view_name": "ProgressView",
            "style": "IPY_MODEL_50d2258c58b04aa8ac6816091dfeccd8",
            "_dom_classes": [],
            "description": " 84%",
            "_model_name": "FloatProgressModel",
            "bar_style": "",
            "max": 50,
            "_view_module": "@jupyter-widgets/controls",
            "_model_module_version": "1.5.0",
            "value": 42,
            "_view_count": null,
            "_view_module_version": "1.5.0",
            "orientation": "horizontal",
            "min": 0,
            "description_tooltip": null,
            "_model_module": "@jupyter-widgets/controls",
            "layout": "IPY_MODEL_dcbcc9c4cf4f4bc28846e1dba226fb6c"
          }
        },
        "d878831e2f7e48c5aa2025aa46a28b49": {
          "model_module": "@jupyter-widgets/controls",
          "model_name": "HTMLModel",
          "state": {
            "_view_name": "HTMLView",
            "style": "IPY_MODEL_a665793b06a540148c0b88cc614bd4a3",
            "_dom_classes": [],
            "description": "",
            "_model_name": "HTMLModel",
            "placeholder": "​",
            "_view_module": "@jupyter-widgets/controls",
            "_model_module_version": "1.5.0",
            "value": " 42/50 [15:40&lt;02:57, 22.16s/it]",
            "_view_count": null,
            "_view_module_version": "1.5.0",
            "description_tooltip": null,
            "_model_module": "@jupyter-widgets/controls",
            "layout": "IPY_MODEL_eb3c8225ec2e4864a16f1485623591a4"
          }
        },
        "50d2258c58b04aa8ac6816091dfeccd8": {
          "model_module": "@jupyter-widgets/controls",
          "model_name": "ProgressStyleModel",
          "state": {
            "_view_name": "StyleView",
            "_model_name": "ProgressStyleModel",
            "description_width": "initial",
            "_view_module": "@jupyter-widgets/base",
            "_model_module_version": "1.5.0",
            "_view_count": null,
            "_view_module_version": "1.2.0",
            "bar_color": null,
            "_model_module": "@jupyter-widgets/controls"
          }
        },
        "dcbcc9c4cf4f4bc28846e1dba226fb6c": {
          "model_module": "@jupyter-widgets/base",
          "model_name": "LayoutModel",
          "state": {
            "_view_name": "LayoutView",
            "grid_template_rows": null,
            "right": null,
            "justify_content": null,
            "_view_module": "@jupyter-widgets/base",
            "overflow": null,
            "_model_module_version": "1.2.0",
            "_view_count": null,
            "flex_flow": null,
            "width": null,
            "min_width": null,
            "border": null,
            "align_items": null,
            "bottom": null,
            "_model_module": "@jupyter-widgets/base",
            "top": null,
            "grid_column": null,
            "overflow_y": null,
            "overflow_x": null,
            "grid_auto_flow": null,
            "grid_area": null,
            "grid_template_columns": null,
            "flex": null,
            "_model_name": "LayoutModel",
            "justify_items": null,
            "grid_row": null,
            "max_height": null,
            "align_content": null,
            "visibility": null,
            "align_self": null,
            "height": null,
            "min_height": null,
            "padding": null,
            "grid_auto_rows": null,
            "grid_gap": null,
            "max_width": null,
            "order": null,
            "_view_module_version": "1.2.0",
            "grid_template_areas": null,
            "object_position": null,
            "object_fit": null,
            "grid_auto_columns": null,
            "margin": null,
            "display": null,
            "left": null
          }
        },
        "a665793b06a540148c0b88cc614bd4a3": {
          "model_module": "@jupyter-widgets/controls",
          "model_name": "DescriptionStyleModel",
          "state": {
            "_view_name": "StyleView",
            "_model_name": "DescriptionStyleModel",
            "description_width": "",
            "_view_module": "@jupyter-widgets/base",
            "_model_module_version": "1.5.0",
            "_view_count": null,
            "_view_module_version": "1.2.0",
            "_model_module": "@jupyter-widgets/controls"
          }
        },
        "eb3c8225ec2e4864a16f1485623591a4": {
          "model_module": "@jupyter-widgets/base",
          "model_name": "LayoutModel",
          "state": {
            "_view_name": "LayoutView",
            "grid_template_rows": null,
            "right": null,
            "justify_content": null,
            "_view_module": "@jupyter-widgets/base",
            "overflow": null,
            "_model_module_version": "1.2.0",
            "_view_count": null,
            "flex_flow": null,
            "width": null,
            "min_width": null,
            "border": null,
            "align_items": null,
            "bottom": null,
            "_model_module": "@jupyter-widgets/base",
            "top": null,
            "grid_column": null,
            "overflow_y": null,
            "overflow_x": null,
            "grid_auto_flow": null,
            "grid_area": null,
            "grid_template_columns": null,
            "flex": null,
            "_model_name": "LayoutModel",
            "justify_items": null,
            "grid_row": null,
            "max_height": null,
            "align_content": null,
            "visibility": null,
            "align_self": null,
            "height": null,
            "min_height": null,
            "padding": null,
            "grid_auto_rows": null,
            "grid_gap": null,
            "max_width": null,
            "order": null,
            "_view_module_version": "1.2.0",
            "grid_template_areas": null,
            "object_position": null,
            "object_fit": null,
            "grid_auto_columns": null,
            "margin": null,
            "display": null,
            "left": null
          }
        },
        "618f55db9e644faf8e6ef26b45aa433b": {
          "model_module": "@jupyter-widgets/controls",
          "model_name": "HBoxModel",
          "state": {
            "_view_name": "HBoxView",
            "_dom_classes": [],
            "_model_name": "HBoxModel",
            "_view_module": "@jupyter-widgets/controls",
            "_model_module_version": "1.5.0",
            "_view_count": null,
            "_view_module_version": "1.5.0",
            "box_style": "",
            "layout": "IPY_MODEL_a3ec9e45c46c424e9d0514fa9a39270d",
            "_model_module": "@jupyter-widgets/controls",
            "children": [
              "IPY_MODEL_7d78b9dc9b504c31aa7c469d26bdf414",
              "IPY_MODEL_823e846b65d0419489b9221dc92cdfbd"
            ]
          }
        },
        "a3ec9e45c46c424e9d0514fa9a39270d": {
          "model_module": "@jupyter-widgets/base",
          "model_name": "LayoutModel",
          "state": {
            "_view_name": "LayoutView",
            "grid_template_rows": null,
            "right": null,
            "justify_content": null,
            "_view_module": "@jupyter-widgets/base",
            "overflow": null,
            "_model_module_version": "1.2.0",
            "_view_count": null,
            "flex_flow": null,
            "width": null,
            "min_width": null,
            "border": null,
            "align_items": null,
            "bottom": null,
            "_model_module": "@jupyter-widgets/base",
            "top": null,
            "grid_column": null,
            "overflow_y": null,
            "overflow_x": null,
            "grid_auto_flow": null,
            "grid_area": null,
            "grid_template_columns": null,
            "flex": null,
            "_model_name": "LayoutModel",
            "justify_items": null,
            "grid_row": null,
            "max_height": null,
            "align_content": null,
            "visibility": null,
            "align_self": null,
            "height": null,
            "min_height": null,
            "padding": null,
            "grid_auto_rows": null,
            "grid_gap": null,
            "max_width": null,
            "order": null,
            "_view_module_version": "1.2.0",
            "grid_template_areas": null,
            "object_position": null,
            "object_fit": null,
            "grid_auto_columns": null,
            "margin": null,
            "display": null,
            "left": null
          }
        },
        "7d78b9dc9b504c31aa7c469d26bdf414": {
          "model_module": "@jupyter-widgets/controls",
          "model_name": "FloatProgressModel",
          "state": {
            "_view_name": "ProgressView",
            "style": "IPY_MODEL_961e70b3eabd49768c6c2159d46cbf3c",
            "_dom_classes": [],
            "description": "100%",
            "_model_name": "FloatProgressModel",
            "bar_style": "success",
            "max": 6037,
            "_view_module": "@jupyter-widgets/controls",
            "_model_module_version": "1.5.0",
            "value": 6037,
            "_view_count": null,
            "_view_module_version": "1.5.0",
            "orientation": "horizontal",
            "min": 0,
            "description_tooltip": null,
            "_model_module": "@jupyter-widgets/controls",
            "layout": "IPY_MODEL_1fe3e01dcfda48a0a3cc8bc49a386620"
          }
        },
        "823e846b65d0419489b9221dc92cdfbd": {
          "model_module": "@jupyter-widgets/controls",
          "model_name": "HTMLModel",
          "state": {
            "_view_name": "HTMLView",
            "style": "IPY_MODEL_fce24e0eb12e49cab1c9910e4e53fb71",
            "_dom_classes": [],
            "description": "",
            "_model_name": "HTMLModel",
            "placeholder": "​",
            "_view_module": "@jupyter-widgets/controls",
            "_model_module_version": "1.5.0",
            "value": " 6037/6037 [00:13&lt;00:00, 432.42it/s]",
            "_view_count": null,
            "_view_module_version": "1.5.0",
            "description_tooltip": null,
            "_model_module": "@jupyter-widgets/controls",
            "layout": "IPY_MODEL_368774e606904a3eaea5f1e91690a084"
          }
        },
        "961e70b3eabd49768c6c2159d46cbf3c": {
          "model_module": "@jupyter-widgets/controls",
          "model_name": "ProgressStyleModel",
          "state": {
            "_view_name": "StyleView",
            "_model_name": "ProgressStyleModel",
            "description_width": "initial",
            "_view_module": "@jupyter-widgets/base",
            "_model_module_version": "1.5.0",
            "_view_count": null,
            "_view_module_version": "1.2.0",
            "bar_color": null,
            "_model_module": "@jupyter-widgets/controls"
          }
        },
        "1fe3e01dcfda48a0a3cc8bc49a386620": {
          "model_module": "@jupyter-widgets/base",
          "model_name": "LayoutModel",
          "state": {
            "_view_name": "LayoutView",
            "grid_template_rows": null,
            "right": null,
            "justify_content": null,
            "_view_module": "@jupyter-widgets/base",
            "overflow": null,
            "_model_module_version": "1.2.0",
            "_view_count": null,
            "flex_flow": null,
            "width": null,
            "min_width": null,
            "border": null,
            "align_items": null,
            "bottom": null,
            "_model_module": "@jupyter-widgets/base",
            "top": null,
            "grid_column": null,
            "overflow_y": null,
            "overflow_x": null,
            "grid_auto_flow": null,
            "grid_area": null,
            "grid_template_columns": null,
            "flex": null,
            "_model_name": "LayoutModel",
            "justify_items": null,
            "grid_row": null,
            "max_height": null,
            "align_content": null,
            "visibility": null,
            "align_self": null,
            "height": null,
            "min_height": null,
            "padding": null,
            "grid_auto_rows": null,
            "grid_gap": null,
            "max_width": null,
            "order": null,
            "_view_module_version": "1.2.0",
            "grid_template_areas": null,
            "object_position": null,
            "object_fit": null,
            "grid_auto_columns": null,
            "margin": null,
            "display": null,
            "left": null
          }
        },
        "fce24e0eb12e49cab1c9910e4e53fb71": {
          "model_module": "@jupyter-widgets/controls",
          "model_name": "DescriptionStyleModel",
          "state": {
            "_view_name": "StyleView",
            "_model_name": "DescriptionStyleModel",
            "description_width": "",
            "_view_module": "@jupyter-widgets/base",
            "_model_module_version": "1.5.0",
            "_view_count": null,
            "_view_module_version": "1.2.0",
            "_model_module": "@jupyter-widgets/controls"
          }
        },
        "368774e606904a3eaea5f1e91690a084": {
          "model_module": "@jupyter-widgets/base",
          "model_name": "LayoutModel",
          "state": {
            "_view_name": "LayoutView",
            "grid_template_rows": null,
            "right": null,
            "justify_content": null,
            "_view_module": "@jupyter-widgets/base",
            "overflow": null,
            "_model_module_version": "1.2.0",
            "_view_count": null,
            "flex_flow": null,
            "width": null,
            "min_width": null,
            "border": null,
            "align_items": null,
            "bottom": null,
            "_model_module": "@jupyter-widgets/base",
            "top": null,
            "grid_column": null,
            "overflow_y": null,
            "overflow_x": null,
            "grid_auto_flow": null,
            "grid_area": null,
            "grid_template_columns": null,
            "flex": null,
            "_model_name": "LayoutModel",
            "justify_items": null,
            "grid_row": null,
            "max_height": null,
            "align_content": null,
            "visibility": null,
            "align_self": null,
            "height": null,
            "min_height": null,
            "padding": null,
            "grid_auto_rows": null,
            "grid_gap": null,
            "max_width": null,
            "order": null,
            "_view_module_version": "1.2.0",
            "grid_template_areas": null,
            "object_position": null,
            "object_fit": null,
            "grid_auto_columns": null,
            "margin": null,
            "display": null,
            "left": null
          }
        },
        "30f9de76201d4f8eae7e9ed9d86275f8": {
          "model_module": "@jupyter-widgets/controls",
          "model_name": "HBoxModel",
          "state": {
            "_view_name": "HBoxView",
            "_dom_classes": [],
            "_model_name": "HBoxModel",
            "_view_module": "@jupyter-widgets/controls",
            "_model_module_version": "1.5.0",
            "_view_count": null,
            "_view_module_version": "1.5.0",
            "box_style": "",
            "layout": "IPY_MODEL_1bc2a3ff31e046679ebda51dc9db2349",
            "_model_module": "@jupyter-widgets/controls",
            "children": [
              "IPY_MODEL_533dc5979bd04600ba5a9893365626f9",
              "IPY_MODEL_bc5060876b4d4ba99353ec321806a7f4"
            ]
          }
        },
        "1bc2a3ff31e046679ebda51dc9db2349": {
          "model_module": "@jupyter-widgets/base",
          "model_name": "LayoutModel",
          "state": {
            "_view_name": "LayoutView",
            "grid_template_rows": null,
            "right": null,
            "justify_content": null,
            "_view_module": "@jupyter-widgets/base",
            "overflow": null,
            "_model_module_version": "1.2.0",
            "_view_count": null,
            "flex_flow": null,
            "width": null,
            "min_width": null,
            "border": null,
            "align_items": null,
            "bottom": null,
            "_model_module": "@jupyter-widgets/base",
            "top": null,
            "grid_column": null,
            "overflow_y": null,
            "overflow_x": null,
            "grid_auto_flow": null,
            "grid_area": null,
            "grid_template_columns": null,
            "flex": null,
            "_model_name": "LayoutModel",
            "justify_items": null,
            "grid_row": null,
            "max_height": null,
            "align_content": null,
            "visibility": null,
            "align_self": null,
            "height": null,
            "min_height": null,
            "padding": null,
            "grid_auto_rows": null,
            "grid_gap": null,
            "max_width": null,
            "order": null,
            "_view_module_version": "1.2.0",
            "grid_template_areas": null,
            "object_position": null,
            "object_fit": null,
            "grid_auto_columns": null,
            "margin": null,
            "display": null,
            "left": null
          }
        },
        "533dc5979bd04600ba5a9893365626f9": {
          "model_module": "@jupyter-widgets/controls",
          "model_name": "FloatProgressModel",
          "state": {
            "_view_name": "ProgressView",
            "style": "IPY_MODEL_3857f7ecdb654e02b359608dc878b7bc",
            "_dom_classes": [],
            "description": "100%",
            "_model_name": "FloatProgressModel",
            "bar_style": "success",
            "max": 10,
            "_view_module": "@jupyter-widgets/controls",
            "_model_module_version": "1.5.0",
            "value": 10,
            "_view_count": null,
            "_view_module_version": "1.5.0",
            "orientation": "horizontal",
            "min": 0,
            "description_tooltip": null,
            "_model_module": "@jupyter-widgets/controls",
            "layout": "IPY_MODEL_32eee3763d884ecc93ac19caa4cdcc9f"
          }
        },
        "bc5060876b4d4ba99353ec321806a7f4": {
          "model_module": "@jupyter-widgets/controls",
          "model_name": "HTMLModel",
          "state": {
            "_view_name": "HTMLView",
            "style": "IPY_MODEL_8937952d6f814a5eb7732e8bd8fa7101",
            "_dom_classes": [],
            "description": "",
            "_model_name": "HTMLModel",
            "placeholder": "​",
            "_view_module": "@jupyter-widgets/controls",
            "_model_module_version": "1.5.0",
            "value": " 10/10 [04:05&lt;00:00, 24.54s/it]",
            "_view_count": null,
            "_view_module_version": "1.5.0",
            "description_tooltip": null,
            "_model_module": "@jupyter-widgets/controls",
            "layout": "IPY_MODEL_923994f9f0a141fcbdb8e1087d999b29"
          }
        },
        "3857f7ecdb654e02b359608dc878b7bc": {
          "model_module": "@jupyter-widgets/controls",
          "model_name": "ProgressStyleModel",
          "state": {
            "_view_name": "StyleView",
            "_model_name": "ProgressStyleModel",
            "description_width": "initial",
            "_view_module": "@jupyter-widgets/base",
            "_model_module_version": "1.5.0",
            "_view_count": null,
            "_view_module_version": "1.2.0",
            "bar_color": null,
            "_model_module": "@jupyter-widgets/controls"
          }
        },
        "32eee3763d884ecc93ac19caa4cdcc9f": {
          "model_module": "@jupyter-widgets/base",
          "model_name": "LayoutModel",
          "state": {
            "_view_name": "LayoutView",
            "grid_template_rows": null,
            "right": null,
            "justify_content": null,
            "_view_module": "@jupyter-widgets/base",
            "overflow": null,
            "_model_module_version": "1.2.0",
            "_view_count": null,
            "flex_flow": null,
            "width": null,
            "min_width": null,
            "border": null,
            "align_items": null,
            "bottom": null,
            "_model_module": "@jupyter-widgets/base",
            "top": null,
            "grid_column": null,
            "overflow_y": null,
            "overflow_x": null,
            "grid_auto_flow": null,
            "grid_area": null,
            "grid_template_columns": null,
            "flex": null,
            "_model_name": "LayoutModel",
            "justify_items": null,
            "grid_row": null,
            "max_height": null,
            "align_content": null,
            "visibility": null,
            "align_self": null,
            "height": null,
            "min_height": null,
            "padding": null,
            "grid_auto_rows": null,
            "grid_gap": null,
            "max_width": null,
            "order": null,
            "_view_module_version": "1.2.0",
            "grid_template_areas": null,
            "object_position": null,
            "object_fit": null,
            "grid_auto_columns": null,
            "margin": null,
            "display": null,
            "left": null
          }
        },
        "8937952d6f814a5eb7732e8bd8fa7101": {
          "model_module": "@jupyter-widgets/controls",
          "model_name": "DescriptionStyleModel",
          "state": {
            "_view_name": "StyleView",
            "_model_name": "DescriptionStyleModel",
            "description_width": "",
            "_view_module": "@jupyter-widgets/base",
            "_model_module_version": "1.5.0",
            "_view_count": null,
            "_view_module_version": "1.2.0",
            "_model_module": "@jupyter-widgets/controls"
          }
        },
        "923994f9f0a141fcbdb8e1087d999b29": {
          "model_module": "@jupyter-widgets/base",
          "model_name": "LayoutModel",
          "state": {
            "_view_name": "LayoutView",
            "grid_template_rows": null,
            "right": null,
            "justify_content": null,
            "_view_module": "@jupyter-widgets/base",
            "overflow": null,
            "_model_module_version": "1.2.0",
            "_view_count": null,
            "flex_flow": null,
            "width": null,
            "min_width": null,
            "border": null,
            "align_items": null,
            "bottom": null,
            "_model_module": "@jupyter-widgets/base",
            "top": null,
            "grid_column": null,
            "overflow_y": null,
            "overflow_x": null,
            "grid_auto_flow": null,
            "grid_area": null,
            "grid_template_columns": null,
            "flex": null,
            "_model_name": "LayoutModel",
            "justify_items": null,
            "grid_row": null,
            "max_height": null,
            "align_content": null,
            "visibility": null,
            "align_self": null,
            "height": null,
            "min_height": null,
            "padding": null,
            "grid_auto_rows": null,
            "grid_gap": null,
            "max_width": null,
            "order": null,
            "_view_module_version": "1.2.0",
            "grid_template_areas": null,
            "object_position": null,
            "object_fit": null,
            "grid_auto_columns": null,
            "margin": null,
            "display": null,
            "left": null
          }
        },
        "61cf3ed1cdd84ce8890deb3582543220": {
          "model_module": "@jupyter-widgets/controls",
          "model_name": "HBoxModel",
          "state": {
            "_view_name": "HBoxView",
            "_dom_classes": [],
            "_model_name": "HBoxModel",
            "_view_module": "@jupyter-widgets/controls",
            "_model_module_version": "1.5.0",
            "_view_count": null,
            "_view_module_version": "1.5.0",
            "box_style": "",
            "layout": "IPY_MODEL_a118722799d74341bf7fb5da8a160eff",
            "_model_module": "@jupyter-widgets/controls",
            "children": [
              "IPY_MODEL_85b59f3a55e742e3b9a7831ec4e8d1a6",
              "IPY_MODEL_ed5a4db715b14561b09ac7302fd8e54c"
            ]
          }
        },
        "a118722799d74341bf7fb5da8a160eff": {
          "model_module": "@jupyter-widgets/base",
          "model_name": "LayoutModel",
          "state": {
            "_view_name": "LayoutView",
            "grid_template_rows": null,
            "right": null,
            "justify_content": null,
            "_view_module": "@jupyter-widgets/base",
            "overflow": null,
            "_model_module_version": "1.2.0",
            "_view_count": null,
            "flex_flow": null,
            "width": null,
            "min_width": null,
            "border": null,
            "align_items": null,
            "bottom": null,
            "_model_module": "@jupyter-widgets/base",
            "top": null,
            "grid_column": null,
            "overflow_y": null,
            "overflow_x": null,
            "grid_auto_flow": null,
            "grid_area": null,
            "grid_template_columns": null,
            "flex": null,
            "_model_name": "LayoutModel",
            "justify_items": null,
            "grid_row": null,
            "max_height": null,
            "align_content": null,
            "visibility": null,
            "align_self": null,
            "height": null,
            "min_height": null,
            "padding": null,
            "grid_auto_rows": null,
            "grid_gap": null,
            "max_width": null,
            "order": null,
            "_view_module_version": "1.2.0",
            "grid_template_areas": null,
            "object_position": null,
            "object_fit": null,
            "grid_auto_columns": null,
            "margin": null,
            "display": null,
            "left": null
          }
        },
        "85b59f3a55e742e3b9a7831ec4e8d1a6": {
          "model_module": "@jupyter-widgets/controls",
          "model_name": "FloatProgressModel",
          "state": {
            "_view_name": "ProgressView",
            "style": "IPY_MODEL_0bcaadf594bf43b2be4cd37031993811",
            "_dom_classes": [],
            "description": "100%",
            "_model_name": "FloatProgressModel",
            "bar_style": "success",
            "max": 6037,
            "_view_module": "@jupyter-widgets/controls",
            "_model_module_version": "1.5.0",
            "value": 6037,
            "_view_count": null,
            "_view_module_version": "1.5.0",
            "orientation": "horizontal",
            "min": 0,
            "description_tooltip": null,
            "_model_module": "@jupyter-widgets/controls",
            "layout": "IPY_MODEL_8468165c9ae7425aa6b9da7484a6387f"
          }
        },
        "ed5a4db715b14561b09ac7302fd8e54c": {
          "model_module": "@jupyter-widgets/controls",
          "model_name": "HTMLModel",
          "state": {
            "_view_name": "HTMLView",
            "style": "IPY_MODEL_f58d6a6462af47b8b7e98897c2c53661",
            "_dom_classes": [],
            "description": "",
            "_model_name": "HTMLModel",
            "placeholder": "​",
            "_view_module": "@jupyter-widgets/controls",
            "_model_module_version": "1.5.0",
            "value": " 6037/6037 [10:33&lt;00:00,  9.53it/s]",
            "_view_count": null,
            "_view_module_version": "1.5.0",
            "description_tooltip": null,
            "_model_module": "@jupyter-widgets/controls",
            "layout": "IPY_MODEL_45944645aa86455dbcb328c9dcb2957e"
          }
        },
        "0bcaadf594bf43b2be4cd37031993811": {
          "model_module": "@jupyter-widgets/controls",
          "model_name": "ProgressStyleModel",
          "state": {
            "_view_name": "StyleView",
            "_model_name": "ProgressStyleModel",
            "description_width": "initial",
            "_view_module": "@jupyter-widgets/base",
            "_model_module_version": "1.5.0",
            "_view_count": null,
            "_view_module_version": "1.2.0",
            "bar_color": null,
            "_model_module": "@jupyter-widgets/controls"
          }
        },
        "8468165c9ae7425aa6b9da7484a6387f": {
          "model_module": "@jupyter-widgets/base",
          "model_name": "LayoutModel",
          "state": {
            "_view_name": "LayoutView",
            "grid_template_rows": null,
            "right": null,
            "justify_content": null,
            "_view_module": "@jupyter-widgets/base",
            "overflow": null,
            "_model_module_version": "1.2.0",
            "_view_count": null,
            "flex_flow": null,
            "width": null,
            "min_width": null,
            "border": null,
            "align_items": null,
            "bottom": null,
            "_model_module": "@jupyter-widgets/base",
            "top": null,
            "grid_column": null,
            "overflow_y": null,
            "overflow_x": null,
            "grid_auto_flow": null,
            "grid_area": null,
            "grid_template_columns": null,
            "flex": null,
            "_model_name": "LayoutModel",
            "justify_items": null,
            "grid_row": null,
            "max_height": null,
            "align_content": null,
            "visibility": null,
            "align_self": null,
            "height": null,
            "min_height": null,
            "padding": null,
            "grid_auto_rows": null,
            "grid_gap": null,
            "max_width": null,
            "order": null,
            "_view_module_version": "1.2.0",
            "grid_template_areas": null,
            "object_position": null,
            "object_fit": null,
            "grid_auto_columns": null,
            "margin": null,
            "display": null,
            "left": null
          }
        },
        "f58d6a6462af47b8b7e98897c2c53661": {
          "model_module": "@jupyter-widgets/controls",
          "model_name": "DescriptionStyleModel",
          "state": {
            "_view_name": "StyleView",
            "_model_name": "DescriptionStyleModel",
            "description_width": "",
            "_view_module": "@jupyter-widgets/base",
            "_model_module_version": "1.5.0",
            "_view_count": null,
            "_view_module_version": "1.2.0",
            "_model_module": "@jupyter-widgets/controls"
          }
        },
        "45944645aa86455dbcb328c9dcb2957e": {
          "model_module": "@jupyter-widgets/base",
          "model_name": "LayoutModel",
          "state": {
            "_view_name": "LayoutView",
            "grid_template_rows": null,
            "right": null,
            "justify_content": null,
            "_view_module": "@jupyter-widgets/base",
            "overflow": null,
            "_model_module_version": "1.2.0",
            "_view_count": null,
            "flex_flow": null,
            "width": null,
            "min_width": null,
            "border": null,
            "align_items": null,
            "bottom": null,
            "_model_module": "@jupyter-widgets/base",
            "top": null,
            "grid_column": null,
            "overflow_y": null,
            "overflow_x": null,
            "grid_auto_flow": null,
            "grid_area": null,
            "grid_template_columns": null,
            "flex": null,
            "_model_name": "LayoutModel",
            "justify_items": null,
            "grid_row": null,
            "max_height": null,
            "align_content": null,
            "visibility": null,
            "align_self": null,
            "height": null,
            "min_height": null,
            "padding": null,
            "grid_auto_rows": null,
            "grid_gap": null,
            "max_width": null,
            "order": null,
            "_view_module_version": "1.2.0",
            "grid_template_areas": null,
            "object_position": null,
            "object_fit": null,
            "grid_auto_columns": null,
            "margin": null,
            "display": null,
            "left": null
          }
        }
      }
    }
  },
  "cells": [
    {
      "cell_type": "markdown",
      "metadata": {
        "id": "view-in-github",
        "colab_type": "text"
      },
      "source": [
        "<a href=\"https://colab.research.google.com/github/Alina9/HSE_RecSys2020/blob/master/HW3.ipynb\" target=\"_parent\"><img src=\"https://colab.research.google.com/assets/colab-badge.svg\" alt=\"Open In Colab\"/></a>"
      ]
    },
    {
      "cell_type": "code",
      "metadata": {
        "colab": {
          "base_uri": "https://localhost:8080/"
        },
        "id": "ECrWg7Nvpmjd",
        "outputId": "1b4ed7dc-972b-48fa-a9a5-d20d2edb6b26"
      },
      "source": [
        "!pip install lightfm"
      ],
      "execution_count": 1,
      "outputs": [
        {
          "output_type": "stream",
          "text": [
            "Requirement already satisfied: lightfm in /usr/local/lib/python3.6/dist-packages (1.16)\n",
            "Requirement already satisfied: numpy in /usr/local/lib/python3.6/dist-packages (from lightfm) (1.18.5)\n",
            "Requirement already satisfied: requests in /usr/local/lib/python3.6/dist-packages (from lightfm) (2.23.0)\n",
            "Requirement already satisfied: scikit-learn in /usr/local/lib/python3.6/dist-packages (from lightfm) (0.22.2.post1)\n",
            "Requirement already satisfied: scipy>=0.17.0 in /usr/local/lib/python3.6/dist-packages (from lightfm) (1.4.1)\n",
            "Requirement already satisfied: idna<3,>=2.5 in /usr/local/lib/python3.6/dist-packages (from requests->lightfm) (2.10)\n",
            "Requirement already satisfied: certifi>=2017.4.17 in /usr/local/lib/python3.6/dist-packages (from requests->lightfm) (2020.11.8)\n",
            "Requirement already satisfied: chardet<4,>=3.0.2 in /usr/local/lib/python3.6/dist-packages (from requests->lightfm) (3.0.4)\n",
            "Requirement already satisfied: urllib3!=1.25.0,!=1.25.1,<1.26,>=1.21.1 in /usr/local/lib/python3.6/dist-packages (from requests->lightfm) (1.24.3)\n",
            "Requirement already satisfied: joblib>=0.11 in /usr/local/lib/python3.6/dist-packages (from scikit-learn->lightfm) (0.17.0)\n"
          ],
          "name": "stdout"
        }
      ]
    },
    {
      "cell_type": "code",
      "metadata": {
        "id": "9qy-SK25g_Dh"
      },
      "source": [
        "import pandas as pd\n",
        "import numpy as np\n",
        "import scipy.sparse as sp\n",
        "import warnings\n",
        "from lightfm import LightFM\n",
        "from lightfm.evaluation import auc_score"
      ],
      "execution_count": 2,
      "outputs": []
    },
    {
      "cell_type": "code",
      "metadata": {
        "id": "ULjPaxA3g_Di"
      },
      "source": [
        "import torch\n",
        "import torch.nn as nn\n",
        "from torch.nn import functional as F\n",
        "import torch.optim as optim\n",
        "from torch.utils.data import Dataset, DataLoader\n",
        "from torch.autograd import Variable\n",
        "from sklearn.model_selection import train_test_split\n",
        "from sklearn.metrics import roc_auc_score\n",
        "warnings.filterwarnings('ignore') "
      ],
      "execution_count": 3,
      "outputs": []
    },
    {
      "cell_type": "code",
      "metadata": {
        "id": "u1IfJPZKg_Di"
      },
      "source": [
        "from sklearn.model_selection import train_test_split\n",
        "from sklearn.metrics import ndcg_score"
      ],
      "execution_count": 4,
      "outputs": []
    },
    {
      "cell_type": "code",
      "metadata": {
        "id": "pghfpQHiyxTm"
      },
      "source": [
        "from tqdm.notebook import tqdm"
      ],
      "execution_count": 5,
      "outputs": []
    },
    {
      "cell_type": "code",
      "metadata": {
        "colab": {
          "base_uri": "https://localhost:8080/"
        },
        "id": "umjZ_r2tpZa0",
        "outputId": "72f18525-2c83-4190-b1fb-9802df4f143c"
      },
      "source": [
        "from google.colab import drive\n",
        "drive.mount('/content/gdrive')"
      ],
      "execution_count": 6,
      "outputs": [
        {
          "output_type": "stream",
          "text": [
            "Drive already mounted at /content/gdrive; to attempt to forcibly remount, call drive.mount(\"/content/gdrive\", force_remount=True).\n"
          ],
          "name": "stdout"
        }
      ]
    },
    {
      "cell_type": "code",
      "metadata": {
        "id": "H_8iecwepsa7"
      },
      "source": [
        "path = '/content/gdrive/My Drive/Colab Notebooks/'"
      ],
      "execution_count": 7,
      "outputs": []
    },
    {
      "cell_type": "markdown",
      "metadata": {
        "id": "_5r2mnxpg_Di"
      },
      "source": [
        "## Датасет MovieLens"
      ]
    },
    {
      "cell_type": "code",
      "metadata": {
        "id": "kd8jUrWmg_Di"
      },
      "source": [
        "ratings = pd.read_csv(path + 'RecSysHSE/ml-1m/ratings.dat', delimiter='::', header=None, \n",
        "        names=['user_id', 'movie_id', 'rating', 'timestamp'], \n",
        "        usecols=['user_id', 'movie_id', 'rating'], engine='python')"
      ],
      "execution_count": 8,
      "outputs": []
    },
    {
      "cell_type": "code",
      "metadata": {
        "id": "pYTCBhk3g_Dj"
      },
      "source": [
        "movie_info = pd.read_csv(path + 'RecSysHSE/ml-1m/movies.dat', delimiter='::', header=None, \n",
        "        names=['movie_id', 'name', 'category'], engine='python')"
      ],
      "execution_count": 9,
      "outputs": []
    },
    {
      "cell_type": "code",
      "metadata": {
        "colab": {
          "base_uri": "https://localhost:8080/",
          "height": 139
        },
        "id": "JCoyN0LCg_Dj",
        "outputId": "2a4b5d38-a7f7-4b4e-e413-6ffcc4df0c9d"
      },
      "source": [
        "movie_info = movie_info.sort_values(by = ['movie_id'])\n",
        "movie_info.head(3)"
      ],
      "execution_count": 10,
      "outputs": [
        {
          "output_type": "execute_result",
          "data": {
            "text/html": [
              "<div>\n",
              "<style scoped>\n",
              "    .dataframe tbody tr th:only-of-type {\n",
              "        vertical-align: middle;\n",
              "    }\n",
              "\n",
              "    .dataframe tbody tr th {\n",
              "        vertical-align: top;\n",
              "    }\n",
              "\n",
              "    .dataframe thead th {\n",
              "        text-align: right;\n",
              "    }\n",
              "</style>\n",
              "<table border=\"1\" class=\"dataframe\">\n",
              "  <thead>\n",
              "    <tr style=\"text-align: right;\">\n",
              "      <th></th>\n",
              "      <th>movie_id</th>\n",
              "      <th>name</th>\n",
              "      <th>category</th>\n",
              "    </tr>\n",
              "  </thead>\n",
              "  <tbody>\n",
              "    <tr>\n",
              "      <th>0</th>\n",
              "      <td>1</td>\n",
              "      <td>Toy Story (1995)</td>\n",
              "      <td>Animation|Children's|Comedy</td>\n",
              "    </tr>\n",
              "    <tr>\n",
              "      <th>1</th>\n",
              "      <td>2</td>\n",
              "      <td>Jumanji (1995)</td>\n",
              "      <td>Adventure|Children's|Fantasy</td>\n",
              "    </tr>\n",
              "    <tr>\n",
              "      <th>2</th>\n",
              "      <td>3</td>\n",
              "      <td>Grumpier Old Men (1995)</td>\n",
              "      <td>Comedy|Romance</td>\n",
              "    </tr>\n",
              "  </tbody>\n",
              "</table>\n",
              "</div>"
            ],
            "text/plain": [
              "   movie_id                     name                      category\n",
              "0         1         Toy Story (1995)   Animation|Children's|Comedy\n",
              "1         2           Jumanji (1995)  Adventure|Children's|Fantasy\n",
              "2         3  Grumpier Old Men (1995)                Comedy|Romance"
            ]
          },
          "metadata": {
            "tags": []
          },
          "execution_count": 10
        }
      ]
    },
    {
      "cell_type": "code",
      "metadata": {
        "id": "hucaO8Ytg_Dj"
      },
      "source": [
        "ratings = ratings.sort_values(by = ['user_id', 'movie_id'])"
      ],
      "execution_count": 11,
      "outputs": []
    },
    {
      "cell_type": "code",
      "metadata": {
        "colab": {
          "base_uri": "https://localhost:8080/",
          "height": 139
        },
        "id": "rBDU0T8Pg_Dj",
        "outputId": "dc8a7b51-c226-4d00-8302-f6f13e0b50d5"
      },
      "source": [
        "ratings.head(3)"
      ],
      "execution_count": 12,
      "outputs": [
        {
          "output_type": "execute_result",
          "data": {
            "text/html": [
              "<div>\n",
              "<style scoped>\n",
              "    .dataframe tbody tr th:only-of-type {\n",
              "        vertical-align: middle;\n",
              "    }\n",
              "\n",
              "    .dataframe tbody tr th {\n",
              "        vertical-align: top;\n",
              "    }\n",
              "\n",
              "    .dataframe thead th {\n",
              "        text-align: right;\n",
              "    }\n",
              "</style>\n",
              "<table border=\"1\" class=\"dataframe\">\n",
              "  <thead>\n",
              "    <tr style=\"text-align: right;\">\n",
              "      <th></th>\n",
              "      <th>user_id</th>\n",
              "      <th>movie_id</th>\n",
              "      <th>rating</th>\n",
              "    </tr>\n",
              "  </thead>\n",
              "  <tbody>\n",
              "    <tr>\n",
              "      <th>40</th>\n",
              "      <td>1</td>\n",
              "      <td>1</td>\n",
              "      <td>5</td>\n",
              "    </tr>\n",
              "    <tr>\n",
              "      <th>25</th>\n",
              "      <td>1</td>\n",
              "      <td>48</td>\n",
              "      <td>5</td>\n",
              "    </tr>\n",
              "    <tr>\n",
              "      <th>39</th>\n",
              "      <td>1</td>\n",
              "      <td>150</td>\n",
              "      <td>5</td>\n",
              "    </tr>\n",
              "  </tbody>\n",
              "</table>\n",
              "</div>"
            ],
            "text/plain": [
              "    user_id  movie_id  rating\n",
              "40        1         1       5\n",
              "25        1        48       5\n",
              "39        1       150       5"
            ]
          },
          "metadata": {
            "tags": []
          },
          "execution_count": 12
        }
      ]
    },
    {
      "cell_type": "markdown",
      "metadata": {
        "id": "sGgtFmLNg_Dj"
      },
      "source": [
        "## implicit dataset"
      ]
    },
    {
      "cell_type": "code",
      "metadata": {
        "id": "auGjY-Uyg_Dk"
      },
      "source": [
        "implicit_ratings = ratings.loc[(ratings['rating'] >= 4)]\n",
        "implicit_ratings['rating'] = 1"
      ],
      "execution_count": 13,
      "outputs": []
    },
    {
      "cell_type": "markdown",
      "metadata": {
        "id": "41fgI2byg_Dj"
      },
      "source": [
        "Нумерация фильмов и юзеров идет не подряд. Перенумеруем."
      ]
    },
    {
      "cell_type": "code",
      "metadata": {
        "id": "oWXOQ_6og_Dj"
      },
      "source": [
        "users = np.unique(implicit_ratings[\"user_id\"])\n",
        "user_old2new = {i: j+1 for (j, i) in enumerate(users)}\n",
        "user_num = len(users)\n",
        "movies = np.unique(movie_info[\"movie_id\"])\n",
        "movies_num = len(movies)\n",
        "old2new = {i: j+1 for (j, i) in enumerate(movies)}\n",
        "new_id = [i+1 for i, j in enumerate(movies)]"
      ],
      "execution_count": 14,
      "outputs": []
    },
    {
      "cell_type": "code",
      "metadata": {
        "id": "Gc0BUMaXg_Dj"
      },
      "source": [
        "movie_info['movie_id'] = new_id"
      ],
      "execution_count": 15,
      "outputs": []
    },
    {
      "cell_type": "code",
      "metadata": {
        "id": "2h2DVI6gg_Dj"
      },
      "source": [
        "implicit_ratings['movie_id'] = implicit_ratings['movie_id'].apply(lambda x: old2new[x]) \n",
        "implicit_ratings['user_id'] = implicit_ratings['user_id'].apply(lambda x: user_old2new[x])"
      ],
      "execution_count": 16,
      "outputs": []
    },
    {
      "cell_type": "markdown",
      "metadata": {
        "id": "s9qEmH_Ewmzu"
      },
      "source": [
        "сделаем предподсчет просмотренных и непросмотренных фильмов для каждого юзера. и разделим данные на train и test"
      ]
    },
    {
      "cell_type": "code",
      "metadata": {
        "id": "DV95Yu-2yFYF"
      },
      "source": [
        "neg_dict = {}\n",
        "pos_dict = {}\n",
        "test = np.empty((0,2), int)\n",
        "train = np.empty((0,2), int)"
      ],
      "execution_count": 17,
      "outputs": []
    },
    {
      "cell_type": "code",
      "metadata": {
        "colab": {
          "base_uri": "https://localhost:8080/",
          "height": 67,
          "referenced_widgets": [
            "d827307c5a91409ab427435d1a981a22",
            "8195e386c5754684b4abdf1abdd0132f",
            "cd38a91b395844988d734b3a2663c4a5",
            "465087bb9f43415e9843a29365a72b8b",
            "aba819084bfc4dc18ba46633df1cf901",
            "1f0af58c54b14b0da7ae4948612eded3",
            "254ed5db0d2442f0a203f94f9f2531b3",
            "5bac94bfea914eb6b4316aea3511710e"
          ]
        },
        "id": "dkK0gqjPwlC9",
        "outputId": "d5d2e356-694a-43a2-9aa2-920e5ec8dede"
      },
      "source": [
        "for i in tqdm(range(user_num)):\n",
        "    watched_movies_data = implicit_ratings[implicit_ratings['user_id'] == i+1]\n",
        "    watched_movies = set(watched_movies_data['movie_id'])\n",
        "    watched_movies_data = np.array(watched_movies_data)[:,:2]    \n",
        "    unwatched_movies = set(np.arange(1, movies_num + 1)) - watched_movies\n",
        "    unwatched_movies = np.array(list(unwatched_movies), dtype=int)\n",
        "    neg_dict[i+1] = unwatched_movies\n",
        "    pos_dict[i+1] = np.array(list(watched_movies), dtype=int)\n",
        "    if len(watched_movies) > 1:        \n",
        "        k = np.random.randint(0, len(watched_movies_data))\n",
        "        test = np.vstack((test, watched_movies_data[k]))\n",
        "        train = np.vstack((train, watched_movies_data[:k], watched_movies_data[k+1:]))\n",
        "        "
      ],
      "execution_count": 18,
      "outputs": [
        {
          "output_type": "display_data",
          "data": {
            "application/vnd.jupyter.widget-view+json": {
              "model_id": "d827307c5a91409ab427435d1a981a22",
              "version_minor": 0,
              "version_major": 2
            },
            "text/plain": [
              "HBox(children=(FloatProgress(value=0.0, max=6038.0), HTML(value='')))"
            ]
          },
          "metadata": {
            "tags": []
          }
        },
        {
          "output_type": "stream",
          "text": [
            "\n"
          ],
          "name": "stdout"
        }
      ]
    },
    {
      "cell_type": "markdown",
      "metadata": {
        "id": "nB6Pt07sg_Dk"
      },
      "source": [
        "## Вспомогательные функции"
      ]
    },
    {
      "cell_type": "code",
      "metadata": {
        "id": "rsBTNSkkg_Dk"
      },
      "source": [
        "def similar_items(item_id, model, N=10):\n",
        "    (item_biased, item_representations) = model.get_item_representations()\n",
        "    item_norms = np.linalg.norm(item_representations, axis=1).reshape(-1,1)\n",
        "    item_norms[item_norms == 0] = 1e-10\n",
        "    item_representations /= item_norms \n",
        "    scores = item_representations.dot(item_representations[item_id])    \n",
        "    best = np.argpartition(scores, -N)[-N:]\n",
        "    return sorted(zip(best, scores[best]), key=lambda x: x[1], reverse=True)"
      ],
      "execution_count": 19,
      "outputs": []
    },
    {
      "cell_type": "code",
      "metadata": {
        "id": "jULb8EMog_Dk"
      },
      "source": [
        "def recommendation(user_id, model, N=10):\n",
        "    watched_movies = pos_dict[user_id]\n",
        "    unwatched_movies = neg_dict[user_id]\n",
        "    scores = model.predict(user_id, unwatched_movies)\n",
        "    best = sorted(zip(unwatched_movies, scores), key=lambda x: x[1], reverse=True)[:N]\n",
        "    return best"
      ],
      "execution_count": 20,
      "outputs": []
    },
    {
      "cell_type": "code",
      "metadata": {
        "id": "ZYhxQcKEg_Dk"
      },
      "source": [
        "get_similars = lambda item_id, model : [(movie_info[movie_info[\"movie_id\"] == x[0]][\"name\"].to_string(), x[1])\n",
        "                                        for x in similar_items(item_id, model)]"
      ],
      "execution_count": 21,
      "outputs": []
    },
    {
      "cell_type": "code",
      "metadata": {
        "id": "PqBBJUCTg_Dk"
      },
      "source": [
        "get_recommendations = lambda user_id,  model: [(movie_info[movie_info[\"movie_id\"] == x[0]][\"name\"].to_string(), x[1]) \n",
        "                                               for x in recommendation(user_id, model)]"
      ],
      "execution_count": 22,
      "outputs": []
    },
    {
      "cell_type": "code",
      "metadata": {
        "id": "TDVQI4RBg_Dk"
      },
      "source": [
        "get_user_history = lambda user_id, implicit_ratings : [movie_info[movie_info[\"movie_id\"] == x][\"name\"].to_string() \n",
        "                                            for x in implicit_ratings[implicit_ratings[\"user_id\"] == user_id][\"movie_id\"]]"
      ],
      "execution_count": 23,
      "outputs": []
    },
    {
      "cell_type": "markdown",
      "metadata": {
        "id": "fMFSIIfh2usO"
      },
      "source": [
        "## Метрики "
      ]
    },
    {
      "cell_type": "code",
      "metadata": {
        "id": "jZ964pXh2ynR"
      },
      "source": [
        "def get_hitrate_ndcg(model, test, type_model = \"warp\"):\n",
        "    y_true = np.zeros(100, dtype=int)\n",
        "    y_true[0] = 1 \n",
        "    ndcg = []\n",
        "    hitrate = []  \n",
        "    for i in tqdm(range(len(test))):\n",
        "        pos_ex = test[i].copy()\n",
        "        u = pos_ex[0]\n",
        "        neg_ex = np.vstack((u * np.ones(99), np.random.choice(neg_dict[u], 99, replace=False))).T\n",
        "        test_u = np.vstack((pos_ex, neg_ex))\n",
        "        if type_model == \"warp\":\n",
        "          y_pred = model.predict(test_u[:,0], test_u[:,1])\n",
        "        else:\n",
        "          y_pred = model.predict(test_u)\n",
        "        ndcg.append(ndcg_score([y_true], \n",
        "                               [y_pred], \n",
        "                               k=10))\n",
        "        hitrate.append((np.argsort(y_pred)[::-1][:10] == 0).sum())\n",
        "    print(f\"nDCG@k = {np.mean(ndcg):4f}\")\n",
        "    print(f\"hit rate@k = {np.mean(hitrate):4f}\")\n",
        "    return np.mean(ndcg), np.mean(hitrate)"
      ],
      "execution_count": 24,
      "outputs": []
    },
    {
      "cell_type": "markdown",
      "metadata": {
        "id": "KJKO2Njzg_Dk"
      },
      "source": [
        "## Sparse matrix"
      ]
    },
    {
      "cell_type": "code",
      "metadata": {
        "id": "VvKz-ANpg_Dk"
      },
      "source": [
        "users = train[:,0]\n",
        "movies = train[:,1]\n",
        "user_item = sp.coo_matrix((np.ones_like(users), (users, movies)), \n",
        "                          shape=(user_num+1, movies_num+1))\n",
        "train_csr = user_item.tocsr()"
      ],
      "execution_count": 25,
      "outputs": []
    },
    {
      "cell_type": "code",
      "metadata": {
        "id": "Aql3GsHwg_Dk"
      },
      "source": [
        "users = test[:,0]\n",
        "movies = test[:,1]\n",
        "user_item = sp.coo_matrix((np.ones_like(users), (users, movies)),\n",
        "                          shape=(user_num+1, movies_num+1))\n",
        "test_csr = user_item.tocsr()"
      ],
      "execution_count": 26,
      "outputs": []
    },
    {
      "cell_type": "markdown",
      "metadata": {
        "id": "ZOdVH5hS22g-"
      },
      "source": [
        "## WARP"
      ]
    },
    {
      "cell_type": "code",
      "metadata": {
        "id": "ORRUpqykg_Dk"
      },
      "source": [
        "warp = LightFM(no_components = 100,\n",
        "                loss='warp', \n",
        "                learning_schedule='adagrad',\n",
        "                learning_rate = 0.05,  \n",
        "                item_alpha = 1e-3,\n",
        "                user_alpha = 1e-3, \n",
        "                max_sampled = 100)\n"
      ],
      "execution_count": 27,
      "outputs": []
    },
    {
      "cell_type": "code",
      "metadata": {
        "colab": {
          "base_uri": "https://localhost:8080/"
        },
        "id": "hHQ8Tvy_g_Dk",
        "outputId": "a74c0625-2208-4088-bb7d-2758aa745396"
      },
      "source": [
        "warp.fit(train_csr, epochs=50, verbose=True, num_threads=4)"
      ],
      "execution_count": 28,
      "outputs": [
        {
          "output_type": "stream",
          "text": [
            "Epoch: 100%|██████████| 50/50 [02:26<00:00,  2.93s/it]\n"
          ],
          "name": "stderr"
        },
        {
          "output_type": "execute_result",
          "data": {
            "text/plain": [
              "<lightfm.lightfm.LightFM at 0x7f2bad278da0>"
            ]
          },
          "metadata": {
            "tags": []
          },
          "execution_count": 28
        }
      ]
    },
    {
      "cell_type": "code",
      "metadata": {
        "colab": {
          "base_uri": "https://localhost:8080/"
        },
        "id": "NRoTJLx5g_Dk",
        "outputId": "5b2e0792-979a-4287-e2c2-123d5c10a832"
      },
      "source": [
        "get_similars(1, warp)"
      ],
      "execution_count": 29,
      "outputs": [
        {
          "output_type": "execute_result",
          "data": {
            "text/plain": [
              "[('0    Toy Story (1995)', 0.9999999),\n",
              " ('3045    Toy Story 2 (1999)', 0.9835939),\n",
              " (\"2286    Bug's Life, A (1998)\", 0.96215945),\n",
              " ('1245    Groundhog Day (1993)', 0.9582454),\n",
              " ('1179    Princess Bride, The (1987)', 0.95182085),\n",
              " ('2647    Ghostbusters (1984)', 0.94361424),\n",
              " ('2252    Pleasantville (1998)', 0.9310724),\n",
              " ('584    Aladdin (1992)', 0.9308308),\n",
              " ('2918    Who Framed Roger Rabbit? (1988)', 0.93006325),\n",
              " ('1250    Back to the Future (1985)', 0.92690927)]"
            ]
          },
          "metadata": {
            "tags": []
          },
          "execution_count": 29
        }
      ]
    },
    {
      "cell_type": "code",
      "metadata": {
        "colab": {
          "base_uri": "https://localhost:8080/"
        },
        "id": "km9b1gmeg_Dk",
        "outputId": "a5ed2621-1ec5-4b13-aa18-0f5b3b9bde9e"
      },
      "source": [
        "get_recommendations(4, warp)"
      ],
      "execution_count": 30,
      "outputs": [
        {
          "output_type": "execute_result",
          "data": {
            "text/plain": [
              "[('1178    Star Wars: Episode V - The Empire Strikes Back...', 0.8165656),\n",
              " ('1192    Star Wars: Episode VI - Return of the Jedi (1983)', 0.7388539),\n",
              " ('585    Terminator 2: Judgment Day (1991)', 0.73195136),\n",
              " ('2789    American Beauty (1999)', 0.72457457),\n",
              " ('2502    Matrix, The (1999)', 0.7150441),\n",
              " ('108    Braveheart (1995)', 0.6964187),\n",
              " ('847    Godfather, The (1972)', 0.68702996),\n",
              " ('589    Silence of the Lambs, The (1991)', 0.68054193),\n",
              " ('1250    Back to the Future (1985)', 0.6618697),\n",
              " ('1179    Princess Bride, The (1987)', 0.6484508)]"
            ]
          },
          "metadata": {
            "tags": []
          },
          "execution_count": 30
        }
      ]
    },
    {
      "cell_type": "code",
      "metadata": {
        "colab": {
          "base_uri": "https://localhost:8080/"
        },
        "id": "II1ycwGyg_Dk",
        "outputId": "2aa541b4-91a5-4b6f-cb51-c98bcabc667b"
      },
      "source": [
        "get_user_history(4, implicit_ratings)"
      ],
      "execution_count": 31,
      "outputs": [
        {
          "output_type": "execute_result",
          "data": {
            "text/plain": [
              "['257    Star Wars: Episode IV - A New Hope (1977)',\n",
              " '476    Jurassic Park (1993)',\n",
              " '1023    Die Hard (1988)',\n",
              " '1081    E.T. the Extra-Terrestrial (1982)',\n",
              " '1180    Raiders of the Lost Ark (1981)',\n",
              " '1183    Good, The Bad and The Ugly, The (1966)',\n",
              " '1196    Alien (1979)',\n",
              " '1220    Terminator, The (1984)',\n",
              " '1366    Jaws (1975)',\n",
              " '1885    Rocky (1976)',\n",
              " '1959    Saving Private Ryan (1998)',\n",
              " '2297    King Kong (1933)',\n",
              " '2623    Run Lola Run (Lola rennt) (1998)',\n",
              " '2878    Goldfinger (1964)',\n",
              " '2882    Fistful of Dollars, A (1964)',\n",
              " '3349    Thelma & Louise (1991)',\n",
              " '3399    Hustler, The (1961)',\n",
              " '3633    Mad Max (1979)']"
            ]
          },
          "metadata": {
            "tags": []
          },
          "execution_count": 31
        }
      ]
    },
    {
      "cell_type": "code",
      "metadata": {
        "colab": {
          "base_uri": "https://localhost:8080/",
          "height": 102,
          "referenced_widgets": [
            "8ccbc55b646e45539957ecfcc1fc1b9f",
            "f279142d548e4fccb296d46587e1bc5e",
            "5f1366f9e79442108d2f9ccbac1f78b3",
            "96fddde516f1442d88bb3964129269f4",
            "26bc285c494f4e738d69bc471859fdd9",
            "364f71ba8aef437b99b9416f0e505627",
            "22ec679251674e39a412ab040aee2abe",
            "55560d7c41ee4ea0bad56c7bd2839309"
          ]
        },
        "id": "s0M-CmpjIqdn",
        "outputId": "fde178b5-7203-40bc-eb36-cdb7abb00b40"
      },
      "source": [
        "ndcg, hr = get_hitrate_ndcg(warp, test)"
      ],
      "execution_count": 32,
      "outputs": [
        {
          "output_type": "display_data",
          "data": {
            "application/vnd.jupyter.widget-view+json": {
              "model_id": "8ccbc55b646e45539957ecfcc1fc1b9f",
              "version_minor": 0,
              "version_major": 2
            },
            "text/plain": [
              "HBox(children=(FloatProgress(value=0.0, max=6037.0), HTML(value='')))"
            ]
          },
          "metadata": {
            "tags": []
          }
        },
        {
          "output_type": "stream",
          "text": [
            "\n",
            "nDCG@k = 0.483991\n",
            "hit rate@k = 0.747391\n"
          ],
          "name": "stdout"
        }
      ]
    },
    {
      "cell_type": "markdown",
      "metadata": {
        "id": "KP1OsRg-g_Dk"
      },
      "source": [
        "# NCF"
      ]
    },
    {
      "cell_type": "code",
      "metadata": {
        "id": "5I8RPt16lcP1"
      },
      "source": [
        "device = torch.device('cuda' if torch.cuda.is_available() else \"cpu\")"
      ],
      "execution_count": 33,
      "outputs": []
    },
    {
      "cell_type": "code",
      "metadata": {
        "id": "2eNsKRI3g_Dk"
      },
      "source": [
        "class GMF(nn.Module):\n",
        "    def __init__(self, embedding_size, num_users, num_items, pos_dict = None, neg_dict = None):\n",
        "        super(GMF, self).__init__()\n",
        "        self.num_users = num_users\n",
        "        self.num_items = num_items\n",
        "        self.embedding_size = embedding_size\n",
        "        self.pos_dict = pos_dict\n",
        "        self.neg_dict = neg_dict\n",
        "\n",
        "        self.embedding_user = nn.Embedding(num_embeddings=self.num_users, embedding_dim=self.embedding_size)\n",
        "        self.embedding_item = nn.Embedding(num_embeddings=self.num_items, embedding_dim=self.embedding_size)\n",
        "\n",
        "        self.linear = nn.Linear(in_features=self.embedding_size, out_features=1)\n",
        "        self.sigmoid = nn.Sigmoid()\n",
        "        self.bceloss = nn.BCELoss()\n",
        "\n",
        "    def forward(self, user_id, item_id):\n",
        "        user_embedding = self.embedding_user(user_id)\n",
        "        item_embedding = self.embedding_item(item_id)\n",
        "        element_product = torch.mul(user_embedding, item_embedding)\n",
        "        score = self.sigmoid(self.linear(element_product))\n",
        "        return score\n",
        "\n",
        "    def part_forward(self, user_id, item_id):\n",
        "        user_embedding = self.embedding_user(user_id)\n",
        "        item_embedding = self.embedding_item(item_id)\n",
        "        element_product = torch.mul(user_embedding, item_embedding)\n",
        "        return element_product\n",
        "    \n",
        "    def loss(self, user_id, item_id, target):\n",
        "        y = self.forward(user_id, item_id)\n",
        "        return self.bceloss(y, target.reshape(-1, 1).float())\n",
        "\n",
        "    def predict(self, test):\n",
        "        y_pred = None    \n",
        "        loader = DataLoader(test, batch_size=512)\n",
        "        for x in loader:\n",
        "            users = x[:,0].to(device).long()\n",
        "            items = x[:,1].to(device).long()\n",
        "            out = self(users, items)\n",
        "            if y_pred is None:\n",
        "                y_pred = out.squeeze().cpu().detach().numpy()\n",
        "            else:\n",
        "                y_pred = np.hstack((y_pred, out.squeeze().cpu().detach().numpy()))\n",
        "        return y_pred\n",
        "\n",
        "    def embeddings(self):\n",
        "        self.item_embed = self.embedding_item.weight.detach().cpu().numpy()\n",
        "        self.user_embed = self.embedding_user.weight.detach().cpu().numpy()\n",
        "        item_norms = np.linalg.norm(self.item_embed, axis=-1).reshape(-1, 1)\n",
        "        self.item_embed/=item_norms\n",
        "        user_norms = np.linalg.norm(self.user_embed, axis=-1).reshape(-1, 1)\n",
        "        self.user_embed/=user_norms\n",
        "\n",
        "    def similar_items(self, item_id, N=10):\n",
        "        scores = self.item_embed @ self.item_embed[item_id]\n",
        "        best = np.argpartition(scores, -N)[-N:]\n",
        "        return sorted(zip(best, scores[best]), key=lambda x: x[1], reverse=True)\n",
        "\n",
        "    def recommendation(self, user_id, N=10):\n",
        "        unwatched_movies = self.neg_dict[user_id]\n",
        "        user = np.array([user_id]*len(unwatched_movies))\n",
        "        data = np.concatenate([user.reshape(-1,1),unwatched_movies.reshape(-1,1)], 1)\n",
        "        scores = self.predict(data)\n",
        "        best = sorted(zip(unwatched_movies, scores), key=lambda x: x[1], reverse=True)[:N]\n",
        "        return best"
      ],
      "execution_count": 81,
      "outputs": []
    },
    {
      "cell_type": "code",
      "metadata": {
        "id": "CkT-bzYgg_Dk"
      },
      "source": [
        "class MLP(nn.Module):\n",
        "    def __init__(self, embedding_size, num_users, num_items, layers_size, pos_dict = None, neg_dict = None):\n",
        "        super(MLP, self).__init__()\n",
        "        self.num_users = num_users\n",
        "        self.num_items = num_items\n",
        "        self.embedding_size = embedding_size\n",
        "        self.layers_size = layers_size\n",
        "        self.pos_dict = pos_dict\n",
        "        self.neg_dict = neg_dict\n",
        "\n",
        "        self.embedding_user = nn.Embedding(num_embeddings=self.num_users, embedding_dim=self.embedding_size)\n",
        "        self.embedding_item = nn.Embedding(num_embeddings=self.num_items, embedding_dim=self.embedding_size)\n",
        "        \n",
        "        self.layers_size = [2*self.embedding_size] + self.layers_size\n",
        "        self.linear_layers = nn.ModuleList()\n",
        "        for idx, (in_size, out_size) in enumerate(zip(self.layers_size[:-1], self.layers_size[1:])):\n",
        "            self.linear_layers.append(nn.Linear(in_size, out_size))\n",
        "\n",
        "        self.linear = nn.Linear(in_features=self.layers_size[-1], out_features=1)\n",
        "        self.sigmoid = nn.Sigmoid()\n",
        "        self.relu = nn.ReLU()\n",
        "        self.bceloss = nn.BCELoss()\n",
        "        \n",
        "    def forward(self, user_id, item_id):\n",
        "        user_embedding = self.embedding_user(user_id)\n",
        "        item_embedding = self.embedding_item(item_id)\n",
        "        output = torch.cat([user_embedding, item_embedding], dim=-1)  # the concat latent vector\n",
        "        for linear in self.linear_layers:\n",
        "            output = self.relu(linear(output))\n",
        "            \n",
        "        logits = self.linear(output)\n",
        "        score = self.sigmoid(logits)\n",
        "        return score\n",
        "    \n",
        "    def part_forward(self, user_id, item_id):\n",
        "        user_embedding = self.embedding_user(user_id)\n",
        "        item_embedding = self.embedding_item(item_id)\n",
        "        output = torch.cat([user_embedding, item_embedding], dim=-1)  # the concat latent vector\n",
        "        for linear in self.linear_layers:\n",
        "            output = self.relu(linear(output))\n",
        "            \n",
        "        return output\n",
        "\n",
        "    def loss(self, user_id, item_id, target):\n",
        "        y = self.forward(user_id, item_id)\n",
        "        return self.bceloss(y, target.reshape(-1, 1).float())\n",
        "    \n",
        "    def predict(self, test):\n",
        "        y_pred = None    \n",
        "        loader = DataLoader(test, batch_size=512)\n",
        "        for x in loader:\n",
        "            users = x[:,0].to(device).long()\n",
        "            items = x[:,1].to(device).long()\n",
        "            out = self(users, items)\n",
        "            if y_pred is None:\n",
        "                y_pred = out.squeeze().cpu().detach().numpy()\n",
        "            else:\n",
        "                y_pred = np.hstack((y_pred, out.squeeze().cpu().detach().numpy()))\n",
        "        return y_pred\n",
        "    \n",
        "    def embeddings(self):\n",
        "        self.item_embed = self.embedding_item.weight.detach().cpu().numpy()\n",
        "        self.user_embed = self.embedding_user.weight.detach().cpu().numpy()\n",
        "        item_norms = np.linalg.norm(self.item_embed, axis=-1).reshape(-1, 1)\n",
        "        self.item_embed/=item_norms\n",
        "        user_norms = np.linalg.norm(self.user_embed, axis=-1).reshape(-1, 1)\n",
        "        self.user_embed/=user_norms\n",
        "    \n",
        "    def similar_items(self, item_id, N=10):\n",
        "        scores = self.item_embed @ self.item_embed[item_id]\n",
        "        best = np.argpartition(scores, -N)[-N:]\n",
        "        return sorted(zip(best, scores[best]), key=lambda x: x[1], reverse=True)\n",
        "\n",
        "    def recommendation(self, user_id, N=10):\n",
        "        unwatched_movies = self.neg_dict[user_id]\n",
        "        user = np.array([user_id]*len(unwatched_movies))\n",
        "        data = np.concatenate([user.reshape(-1,1),unwatched_movies.reshape(-1,1)], 1)\n",
        "        scores = self.predict(data)\n",
        "        best = sorted(zip(unwatched_movies, scores), key=lambda x: x[1], reverse=True)[:N]\n",
        "        return best"
      ],
      "execution_count": 82,
      "outputs": []
    },
    {
      "cell_type": "code",
      "metadata": {
        "id": "1zMf51WZg_Dk"
      },
      "source": [
        "class NCF(nn.Module):\n",
        "    def __init__(self, embedding_size, num_users, num_items, layers_size, pos_dict, neg_dict):\n",
        "        super(NCF, self).__init__()\n",
        "        self.num_users = num_users\n",
        "        self.num_items = num_items\n",
        "        self.embedding_size = embedding_size\n",
        "        self.layers_size = layers_size\n",
        "        self.pos_dict = pos_dict\n",
        "        self.neg_dict = neg_dict\n",
        "        \n",
        "        self.MLP = MLP(embedding_size, num_users, num_items, layers_size)\n",
        "        self.GMF = GMF(embedding_size, num_users, num_items)\n",
        "        \n",
        "        self.linear = nn.Linear(layers_size[-1] + embedding_size, 1)\n",
        "        self.sigmoid = nn.Sigmoid()\n",
        "        self.bceloss = nn.BCELoss()\n",
        "        \n",
        "    def forward(self, user_id, item_id):\n",
        "        mlp_output = self.MLP.part_forward(user_id, item_id)\n",
        "        gmf_output = self.GMF.part_forward(user_id, item_id)\n",
        "        output = torch.cat([mlp_output, gmf_output], dim=-1)\n",
        "        score = self.sigmoid(self.linear(output))        \n",
        "        return score\n",
        "    \n",
        "    def loss(self, user_id, item_id, target):\n",
        "        y = self.forward(user_id, item_id)\n",
        "        return self.bceloss(y, target.reshape(-1, 1).float())\n",
        "\n",
        "    def predict(self, test):\n",
        "        y_pred = None    \n",
        "        loader = DataLoader(test, batch_size=512)\n",
        "        for x in loader:\n",
        "            users = x[:,0].to(device).long()\n",
        "            items = x[:,1].to(device).long()\n",
        "            out = self(users, items)\n",
        "            if y_pred is None:\n",
        "                y_pred = out.squeeze().cpu().detach().numpy()\n",
        "            else:\n",
        "                y_pred = np.hstack((y_pred, out.squeeze().cpu().detach().numpy()))\n",
        "        return y_pred\n",
        "\n",
        "    def embeddings(self):\n",
        "        self.item_embed = np.hstack((self.GMF.embedding_item.weight.detach().cpu().numpy(), \n",
        "                            self.MLP.embedding_item.weight.detach().cpu().numpy()))\n",
        "        self.user_embed = np.hstack((self.GMF.embedding_user.weight.detach().cpu().numpy(), \n",
        "                            self.MLP.embedding_user.weight.detach().cpu().numpy()))\n",
        "        item_norms = np.linalg.norm(self.item_embed, axis=-1).reshape(-1, 1)\n",
        "        self.item_embed/=item_norms\n",
        "        user_norms = np.linalg.norm(self.user_embed, axis=-1).reshape(-1, 1)\n",
        "        self.user_embed/=user_norms\n",
        "    \n",
        "    def similar_items(self, item_id, N=10):\n",
        "        scores = self.item_embed @ self.item_embed[item_id]\n",
        "        best = np.argpartition(scores, -N)[-N:]\n",
        "        return sorted(zip(best, scores[best]), key=lambda x: x[1], reverse=True)\n",
        "\n",
        "    def recommendation(self, user_id, N=10):\n",
        "        unwatched_movies = self.neg_dict[user_id]\n",
        "        user = np.array([user_id]*len(unwatched_movies))\n",
        "        data = np.concatenate([user.reshape(-1,1),unwatched_movies.reshape(-1,1)], 1)\n",
        "        scores = self.predict(data)\n",
        "        best = sorted(zip(unwatched_movies, scores), key=lambda x: x[1], reverse=True)[:N]\n",
        "        return best"
      ],
      "execution_count": 76,
      "outputs": []
    },
    {
      "cell_type": "code",
      "metadata": {
        "id": "ieOuXlRsg_Dk"
      },
      "source": [
        "class Data:\n",
        "    def __init__(self, implicit_ratings, unwatched_movies):\n",
        "        self.implicit_ratings = implicit_ratings\n",
        "        self.unique_users = np.unique(implicit_ratings[:,0])\n",
        "        self.unique_items = np.unique(implicit_ratings[:,1])\n",
        "        self.treshold = len(self.implicit_ratings)\n",
        "        \n",
        "        self.watched_movies = {}\n",
        "        self.unwatched_movies = unwatched_movies\n",
        "\n",
        "        for u in range(1, len(self.unique_users) + 1):\n",
        "            self.watched_movies[u] = np.array(implicit_ratings[implicit_ratings[:,0] == u][:,1], dtype=int)\n",
        "        \n",
        "\n",
        "    def __getitem__(self, index):\n",
        "        if index < self.treshold:\n",
        "            user, item = self.implicit_ratings[index,0], self.implicit_ratings[index,1]\n",
        "            y=1\n",
        "        else:\n",
        "            user = np.random.choice(self.unique_users, 1)[0]\n",
        "            item = np.random.choice(self.unwatched_movies[user], 1)[0]\n",
        "            y=0\n",
        "        return user, item, y\n",
        "\n",
        "    def __len__(self):\n",
        "        return 2*self.treshold"
      ],
      "execution_count": 37,
      "outputs": []
    },
    {
      "cell_type": "code",
      "metadata": {
        "id": "QfxUDSLig_Dk"
      },
      "source": [
        "def train_model(model, train_loader, optimizer, epoch):\n",
        "    train_losses = []\n",
        "    for e in tqdm(range(epoch)):\n",
        "        model.train()    \n",
        "        epoch_losses = []\n",
        "        for user_id, item_id, target in train_loader:\n",
        "            user_id = user_id.to(device)\n",
        "            item_id = item_id.to(device)\n",
        "            target = target.to(device)\n",
        "            loss = model.loss(user_id, item_id, target)\n",
        "            optimizer.zero_grad()\n",
        "            loss.backward()\n",
        "            optimizer.step()\n",
        "            epoch_losses.append(loss.item())\n",
        "        if e%5 == 0:\n",
        "            print(f'Epoch {e}, Train loss {np.mean(epoch_losses)}')\n",
        "        train_losses.append(np.mean(epoch_losses))\n",
        "\n",
        "    return train_losses"
      ],
      "execution_count": 38,
      "outputs": []
    },
    {
      "cell_type": "code",
      "metadata": {
        "id": "dn8Rtmu4CQVH"
      },
      "source": [
        "get_similars = lambda item_id, model: [(movie_info[movie_info[\"movie_id\"] == x[0]][\"name\"].to_string(), x[1])\n",
        "                                        for x in model.similar_items(item_id)]\n",
        "\n",
        "get_recommendations = lambda user_id, model: [(movie_info[movie_info[\"movie_id\"] == x[0]][\"name\"].to_string(), x[1]) \n",
        "                                        for x in model.recommendation(user_id)]"
      ],
      "execution_count": 39,
      "outputs": []
    },
    {
      "cell_type": "code",
      "metadata": {
        "id": "Erq9ceW4g_Dk"
      },
      "source": [
        "train_data = Data(train, neg_dict)\n",
        "train_loader = DataLoader(train_data, batch_size=1024, shuffle=True)"
      ],
      "execution_count": 40,
      "outputs": []
    },
    {
      "cell_type": "code",
      "metadata": {
        "id": "qAbE-zYYAqNg"
      },
      "source": [
        "num_items = np.max(implicit_ratings[\"movie_id\"])+1\n",
        "num_users = np.max(implicit_ratings['user_id'])+1"
      ],
      "execution_count": 41,
      "outputs": []
    },
    {
      "cell_type": "code",
      "metadata": {
        "colab": {
          "base_uri": "https://localhost:8080/",
          "height": 244,
          "referenced_widgets": [
            "ca5f2275a2334a07966d623443110027",
            "3916667a679b42a1899cbc783b61b110",
            "0a94b30cac9144e28826418bd3350add",
            "37e3ee8896a0413e8fc4ca8fe26eaa3d",
            "ad36b0fabc834781b294bd56705d2834",
            "d93f2276db3a44e18908d8c616d8bff9",
            "84a8f46a4adb4c71a62750e69d0bc0d3",
            "663758a9166c41c584fc82a6ab0d4520"
          ]
        },
        "id": "f3nmo_6t_Eg4",
        "outputId": "3b668002-5574-4d3a-e82b-ffb369aa500b"
      },
      "source": [
        "mlp = MLP(embedding_size = 100,num_users = num_users, num_items = num_items, layers_size = [100, 128, 100], pos_dict=pos_dict,\n",
        "          neg_dict = neg_dict).to(device)\n",
        "optimizer = optim.Adam(mlp.parameters(), 1e-2)\n",
        "train_loss = train_model(mlp, train_loader, optimizer, epoch = 50)"
      ],
      "execution_count": 83,
      "outputs": [
        {
          "output_type": "display_data",
          "data": {
            "application/vnd.jupyter.widget-view+json": {
              "model_id": "ca5f2275a2334a07966d623443110027",
              "version_minor": 0,
              "version_major": 2
            },
            "text/plain": [
              "HBox(children=(FloatProgress(value=0.0, max=50.0), HTML(value='')))"
            ]
          },
          "metadata": {
            "tags": []
          }
        },
        {
          "output_type": "stream",
          "text": [
            "Epoch 0, Train loss 0.3902831724811372\n",
            "Epoch 5, Train loss 0.30957080158505507\n",
            "Epoch 10, Train loss 0.252731146197096\n",
            "Epoch 15, Train loss 0.220617319088724\n",
            "Epoch 20, Train loss 0.20027695037424564\n",
            "Epoch 25, Train loss 0.18813080332583662\n",
            "Epoch 30, Train loss 0.17847342409273917\n",
            "Epoch 35, Train loss 0.1705655303495608\n",
            "Epoch 40, Train loss 0.16227200980425524\n",
            "Epoch 45, Train loss 0.1576569453283823\n",
            "\n"
          ],
          "name": "stdout"
        }
      ]
    },
    {
      "cell_type": "code",
      "metadata": {
        "id": "y9CAgNnKS0hF"
      },
      "source": [
        "torch.save(mlp.state_dict(), 'mlp.pcl')"
      ],
      "execution_count": 84,
      "outputs": []
    },
    {
      "cell_type": "code",
      "metadata": {
        "colab": {
          "base_uri": "https://localhost:8080/"
        },
        "id": "3VehhBsI_R-8",
        "outputId": "282cd234-e09d-4a51-c621-d636713382b4"
      },
      "source": [
        "mlp.embeddings()\n",
        "get_similars(1, mlp)"
      ],
      "execution_count": 85,
      "outputs": [
        {
          "output_type": "execute_result",
          "data": {
            "text/plain": [
              "[('0    Toy Story (1995)', 1.0),\n",
              " ('1245    Groundhog Day (1993)', 0.78759384),\n",
              " ('3045    Toy Story 2 (1999)', 0.7658341),\n",
              " ('33    Babe (1995)', 0.7007741),\n",
              " ('2252    Pleasantville (1998)', 0.69936085),\n",
              " ('584    Aladdin (1992)', 0.6900675),\n",
              " ('1595    Full Monty, The (1997)', 0.68354833),\n",
              " ('38    Clueless (1995)', 0.67325187),\n",
              " (\"1854    There's Something About Mary (1998)\", 0.6597947),\n",
              " ('1120    Monty Python and the Holy Grail (1974)', 0.6588289)]"
            ]
          },
          "metadata": {
            "tags": []
          },
          "execution_count": 85
        }
      ]
    },
    {
      "cell_type": "code",
      "metadata": {
        "colab": {
          "base_uri": "https://localhost:8080/"
        },
        "id": "b3cWGam7BCp7",
        "outputId": "34d03436-26b7-4ad9-f34e-c0363abc0461"
      },
      "source": [
        "get_recommendations(4, mlp)"
      ],
      "execution_count": 86,
      "outputs": [
        {
          "output_type": "execute_result",
          "data": {
            "text/plain": [
              "[('453    Fugitive, The (1993)', 0.9888192),\n",
              " ('1178    Star Wars: Episode V - The Empire Strikes Back...', 0.9881108),\n",
              " ('847    Godfather, The (1972)', 0.9879046),\n",
              " ('1203    Godfather: Part II, The (1974)', 0.9860721),\n",
              " ('108    Braveheart (1995)', 0.98573905),\n",
              " ('1568    Hunt for Red October, The (1990)', 0.98003024),\n",
              " ('585    Terminator 2: Judgment Day (1991)', 0.9778397),\n",
              " ('912    2001: A Space Odyssey (1968)', 0.9751076),\n",
              " ('1192    Star Wars: Episode VI - Return of the Jedi (1983)', 0.97223026),\n",
              " ('1182    Aliens (1986)', 0.97135746)]"
            ]
          },
          "metadata": {
            "tags": []
          },
          "execution_count": 86
        }
      ]
    },
    {
      "cell_type": "code",
      "metadata": {
        "id": "x2uClFy3BUO1",
        "colab": {
          "base_uri": "https://localhost:8080/",
          "height": 102,
          "referenced_widgets": [
            "47682eba017d4be7be51d73110b9d697",
            "6378fbc885be4989a147d944aa6b600c",
            "e3c51269c9e44a10bd821198fd608a63",
            "19ee1e52e9304ba1ade998df1bf5cf85",
            "2cc48986bae54cc297b06d861496935b",
            "f71ba8ead0784c8db5f17d1c8a1620b3",
            "e8e0e87f36434b8887e55547ca4bd936",
            "84bf693904134f51aff1e53ed4faa7be"
          ]
        },
        "outputId": "c4d03cd9-ab22-4f95-8006-453430d64eaf"
      },
      "source": [
        "ndcg, hr = get_hitrate_ndcg(mlp, test, \"mlp\")"
      ],
      "execution_count": 97,
      "outputs": [
        {
          "output_type": "display_data",
          "data": {
            "application/vnd.jupyter.widget-view+json": {
              "model_id": "47682eba017d4be7be51d73110b9d697",
              "version_minor": 0,
              "version_major": 2
            },
            "text/plain": [
              "HBox(children=(FloatProgress(value=0.0, max=6037.0), HTML(value='')))"
            ]
          },
          "metadata": {
            "tags": []
          }
        },
        {
          "output_type": "stream",
          "text": [
            "\n",
            "nDCG@k = 0.540103\n",
            "hit rate@k = 0.794931\n"
          ],
          "name": "stdout"
        }
      ]
    },
    {
      "cell_type": "code",
      "metadata": {
        "id": "jD1E54LCAOQZ",
        "colab": {
          "base_uri": "https://localhost:8080/",
          "height": 209,
          "referenced_widgets": [
            "d719b1bf11204084ae2840d820307ba5",
            "aba818a4762a4f8bbdb6fb1efc223322",
            "5bee4883acdc46218b71e0722b53035e",
            "d878831e2f7e48c5aa2025aa46a28b49",
            "50d2258c58b04aa8ac6816091dfeccd8",
            "dcbcc9c4cf4f4bc28846e1dba226fb6c",
            "a665793b06a540148c0b88cc614bd4a3",
            "eb3c8225ec2e4864a16f1485623591a4"
          ]
        },
        "outputId": "7826c1ce-767c-4d33-efb2-b3626ed6aae1"
      },
      "source": [
        "gmf = GMF(embedding_size = 100,num_users = num_users, num_items = num_items,\n",
        "          pos_dict = pos_dict, neg_dict = neg_dict).to(device)\n",
        "optimizer = optim.Adam(gmf.parameters(), 1e-2)\n",
        "train_loss = train_model(gmf, train_loader, optimizer, epoch = 50)"
      ],
      "execution_count": null,
      "outputs": [
        {
          "output_type": "display_data",
          "data": {
            "application/vnd.jupyter.widget-view+json": {
              "model_id": "d719b1bf11204084ae2840d820307ba5",
              "version_minor": 0,
              "version_major": 2
            },
            "text/plain": [
              "HBox(children=(FloatProgress(value=0.0, max=50.0), HTML(value='')))"
            ]
          },
          "metadata": {
            "tags": []
          }
        },
        {
          "output_type": "stream",
          "text": [
            "Epoch 0, Train loss 0.6359700821340084\n",
            "Epoch 5, Train loss 0.22124563263421007\n",
            "Epoch 10, Train loss 0.14551844630095598\n",
            "Epoch 15, Train loss 0.12363653299700228\n",
            "Epoch 20, Train loss 0.11095296659526958\n",
            "Epoch 25, Train loss 0.10519833636316035\n",
            "Epoch 30, Train loss 0.09880313544581049\n",
            "Epoch 35, Train loss 0.09556728786380171\n",
            "Epoch 40, Train loss 0.0924173431544692\n"
          ],
          "name": "stdout"
        }
      ]
    },
    {
      "cell_type": "code",
      "metadata": {
        "id": "MY-DVzbAS4dX"
      },
      "source": [
        "torch.save(gmf.state_dict(), 'gmf.pcl')"
      ],
      "execution_count": 106,
      "outputs": []
    },
    {
      "cell_type": "code",
      "metadata": {
        "colab": {
          "base_uri": "https://localhost:8080/"
        },
        "id": "YUifU7swDOp3",
        "outputId": "3445db24-5320-424f-9214-c6bc2ae580af"
      },
      "source": [
        "gmf.embeddings()\n",
        "get_similars(1, gmf)"
      ],
      "execution_count": 107,
      "outputs": [
        {
          "output_type": "execute_result",
          "data": {
            "text/plain": [
              "[('0    Toy Story (1995)', 1.0),\n",
              " ('3045    Toy Story 2 (1999)', 0.6126512),\n",
              " ('33    Babe (1995)', 0.53128445),\n",
              " ('360    Lion King, The (1994)', 0.47397986),\n",
              " ('584    Aladdin (1992)', 0.45034638),\n",
              " ('1132    Wrong Trousers, The (1993)', 0.39335677),\n",
              " ('1205    Grand Day Out, A (1992)', 0.38524514),\n",
              " ('591    Beauty and the Beast (1991)', 0.37919667),\n",
              " (\"2286    Bug's Life, A (1998)\", 0.35832733),\n",
              " ('1838    Mulan (1998)', 0.34965676)]"
            ]
          },
          "metadata": {
            "tags": []
          },
          "execution_count": 107
        }
      ]
    },
    {
      "cell_type": "code",
      "metadata": {
        "id": "cTEj3nBgBMMO",
        "colab": {
          "base_uri": "https://localhost:8080/"
        },
        "outputId": "b51da5c4-98c5-43b2-d5d5-4b855fac870f"
      },
      "source": [
        "get_recommendations(4, gmf)"
      ],
      "execution_count": 108,
      "outputs": [
        {
          "output_type": "execute_result",
          "data": {
            "text/plain": [
              "[('847    Godfather, The (1972)', 0.9914949),\n",
              " ('3361    Death Wish (1974)', 0.9904488),\n",
              " ('1203    Godfather: Part II, The (1974)', 0.97998065),\n",
              " ('1178    Star Wars: Episode V - The Empire Strikes Back...', 0.92823887),\n",
              " ('900    Casablanca (1942)', 0.88207537),\n",
              " ('2219    Thing, The (1982)', 0.8341527),\n",
              " ('3634    Mad Max 2 (a.k.a. The Road Warrior) (1981)', 0.79638946),\n",
              " ('1284    Butch Cassidy and the Sundance Kid (1969)', 0.7788475),\n",
              " ('1267    Ben-Hur (1959)', 0.73371387),\n",
              " ('585    Terminator 2: Judgment Day (1991)', 0.66102064)]"
            ]
          },
          "metadata": {
            "tags": []
          },
          "execution_count": 108
        }
      ]
    },
    {
      "cell_type": "code",
      "metadata": {
        "id": "rNtZ92ftBXzX",
        "colab": {
          "base_uri": "https://localhost:8080/",
          "height": 102,
          "referenced_widgets": [
            "618f55db9e644faf8e6ef26b45aa433b",
            "a3ec9e45c46c424e9d0514fa9a39270d",
            "7d78b9dc9b504c31aa7c469d26bdf414",
            "823e846b65d0419489b9221dc92cdfbd",
            "961e70b3eabd49768c6c2159d46cbf3c",
            "1fe3e01dcfda48a0a3cc8bc49a386620",
            "fce24e0eb12e49cab1c9910e4e53fb71",
            "368774e606904a3eaea5f1e91690a084"
          ]
        },
        "outputId": "57c18394-abeb-4d8a-f937-833aa5fa97a9"
      },
      "source": [
        "ndcg, hr = get_hitrate_ndcg(gmf, test, \"gmf\")"
      ],
      "execution_count": 109,
      "outputs": [
        {
          "output_type": "display_data",
          "data": {
            "application/vnd.jupyter.widget-view+json": {
              "model_id": "618f55db9e644faf8e6ef26b45aa433b",
              "version_minor": 0,
              "version_major": 2
            },
            "text/plain": [
              "HBox(children=(FloatProgress(value=0.0, max=6037.0), HTML(value='')))"
            ]
          },
          "metadata": {
            "tags": []
          }
        },
        {
          "output_type": "stream",
          "text": [
            "\n",
            "nDCG@k = 0.538939\n",
            "hit rate@k = 0.787974\n"
          ],
          "name": "stdout"
        }
      ]
    },
    {
      "cell_type": "code",
      "metadata": {
        "id": "wDiuo8Q2g_Dk",
        "colab": {
          "base_uri": "https://localhost:8080/",
          "height": 102,
          "referenced_widgets": [
            "30f9de76201d4f8eae7e9ed9d86275f8",
            "1bc2a3ff31e046679ebda51dc9db2349",
            "533dc5979bd04600ba5a9893365626f9",
            "bc5060876b4d4ba99353ec321806a7f4",
            "3857f7ecdb654e02b359608dc878b7bc",
            "32eee3763d884ecc93ac19caa4cdcc9f",
            "8937952d6f814a5eb7732e8bd8fa7101",
            "923994f9f0a141fcbdb8e1087d999b29"
          ]
        },
        "outputId": "2e4ec02b-4e74-48fe-c5e6-f2c2693b9fcf"
      },
      "source": [
        "ncf = NCF(embedding_size = 100, num_users = num_users, num_items = num_items, layers_size = [100, 128, 100], pos_dict = pos_dict, neg_dict = neg_dict)\n",
        "ncf.to(device)\n",
        "ncf.GMF.load_state_dict(torch.load('gmf.pcl'))\n",
        "ncf.MLP.load_state_dict(torch.load('mlp.pcl'))\n",
        "optimizer = optim.Adam(ncf.parameters(), 1e-2)\n",
        "train_loss = train_model(ncf, train_loader, optimizer, epoch = 10)"
      ],
      "execution_count": 113,
      "outputs": [
        {
          "output_type": "display_data",
          "data": {
            "application/vnd.jupyter.widget-view+json": {
              "model_id": "30f9de76201d4f8eae7e9ed9d86275f8",
              "version_minor": 0,
              "version_major": 2
            },
            "text/plain": [
              "HBox(children=(FloatProgress(value=0.0, max=10.0), HTML(value='')))"
            ]
          },
          "metadata": {
            "tags": []
          }
        },
        {
          "output_type": "stream",
          "text": [
            "Epoch 0, Train loss 0.16196688337640153\n",
            "Epoch 5, Train loss 0.07829932346538031\n",
            "\n"
          ],
          "name": "stdout"
        }
      ]
    },
    {
      "cell_type": "code",
      "metadata": {
        "id": "F9tYwfJncEqd"
      },
      "source": [
        "ncf.embeddings()"
      ],
      "execution_count": 114,
      "outputs": []
    },
    {
      "cell_type": "code",
      "metadata": {
        "id": "aYnmDqnFBrYD",
        "colab": {
          "base_uri": "https://localhost:8080/"
        },
        "outputId": "6149e8fb-a2e5-4fc2-dc6c-2aad15b3e7bf"
      },
      "source": [
        "get_similars(1, ncf)"
      ],
      "execution_count": 115,
      "outputs": [
        {
          "output_type": "execute_result",
          "data": {
            "text/plain": [
              "[('0    Toy Story (1995)', 1.0),\n",
              " ('3045    Toy Story 2 (1999)', 0.71727395),\n",
              " ('1245    Groundhog Day (1993)', 0.6926808),\n",
              " ('33    Babe (1995)', 0.63970494),\n",
              " ('584    Aladdin (1992)', 0.5929309),\n",
              " ('360    Lion King, The (1994)', 0.59218526),\n",
              " ('2327    Shakespeare in Love (1998)', 0.58631134),\n",
              " (\"2286    Bug's Life, A (1998)\", 0.57700336),\n",
              " ('38    Clueless (1995)', 0.57248425),\n",
              " ('1250    Back to the Future (1985)', 0.5661273)]"
            ]
          },
          "metadata": {
            "tags": []
          },
          "execution_count": 115
        }
      ]
    },
    {
      "cell_type": "code",
      "metadata": {
        "id": "IKKY5OgMB5Ot",
        "colab": {
          "base_uri": "https://localhost:8080/"
        },
        "outputId": "7030026c-c2a7-4259-cb0e-80bd228534a6"
      },
      "source": [
        "get_recommendations(4, ncf)"
      ],
      "execution_count": 116,
      "outputs": [
        {
          "output_type": "execute_result",
          "data": {
            "text/plain": [
              "[('1178    Star Wars: Episode V - The Empire Strikes Back...', 0.9947135),\n",
              " ('847    Godfather, The (1972)', 0.9883957),\n",
              " ('1203    Godfather: Part II, The (1974)', 0.9852673),\n",
              " ('1284    Butch Cassidy and the Sundance Kid (1969)', 0.98042285),\n",
              " ('2875    Dirty Dozen, The (1967)', 0.95028085),\n",
              " ('1267    Ben-Hur (1959)', 0.92395777),\n",
              " ('585    Terminator 2: Judgment Day (1991)', 0.88087815),\n",
              " ('589    Silence of the Lambs, The (1991)', 0.8741353),\n",
              " ('1884    French Connection, The (1971)', 0.85072803),\n",
              " ('2219    Thing, The (1982)', 0.8497852)]"
            ]
          },
          "metadata": {
            "tags": []
          },
          "execution_count": 116
        }
      ]
    },
    {
      "cell_type": "code",
      "metadata": {
        "id": "AvTfPBm8SfMU",
        "colab": {
          "base_uri": "https://localhost:8080/",
          "height": 102,
          "referenced_widgets": [
            "61cf3ed1cdd84ce8890deb3582543220",
            "a118722799d74341bf7fb5da8a160eff",
            "85b59f3a55e742e3b9a7831ec4e8d1a6",
            "ed5a4db715b14561b09ac7302fd8e54c",
            "0bcaadf594bf43b2be4cd37031993811",
            "8468165c9ae7425aa6b9da7484a6387f",
            "f58d6a6462af47b8b7e98897c2c53661",
            "45944645aa86455dbcb328c9dcb2957e"
          ]
        },
        "outputId": "8d76c861-3832-4b05-c5b1-bbd103fba9fc"
      },
      "source": [
        "ndcg, hr = get_hitrate_ndcg(ncf, test, \"ncf\")"
      ],
      "execution_count": 117,
      "outputs": [
        {
          "output_type": "display_data",
          "data": {
            "application/vnd.jupyter.widget-view+json": {
              "model_id": "61cf3ed1cdd84ce8890deb3582543220",
              "version_minor": 0,
              "version_major": 2
            },
            "text/plain": [
              "HBox(children=(FloatProgress(value=0.0, max=6037.0), HTML(value='')))"
            ]
          },
          "metadata": {
            "tags": []
          }
        },
        {
          "output_type": "stream",
          "text": [
            "\n",
            "nDCG@k = 0.561115\n",
            "hit rate@k = 0.811993\n"
          ],
          "name": "stdout"
        }
      ]
    },
    {
      "cell_type": "markdown",
      "metadata": {
        "id": "snpfmPO9Iqt7"
      },
      "source": [
        "# Attention model (недоделанный)"
      ]
    },
    {
      "cell_type": "code",
      "metadata": {
        "id": "sT3OQWEWQ-vY"
      },
      "source": [
        "class ComiRecDataloader:\n",
        "    def __init__(self, pos_dict, neg_dict):\n",
        "      self.pos_dict = pos_dict        \n",
        "\n",
        "    def __getitem__(self, index):\n",
        "        user, history = index, self.pos_dict[index]\n",
        "        return user, torch.tensor(history, dtype=torch.long)\n",
        "\n",
        "    def __len__(self):\n",
        "        return len(self.pos_dict)"
      ],
      "execution_count": 118,
      "outputs": []
    },
    {
      "cell_type": "code",
      "metadata": {
        "id": "bpRsVWgSIsxp"
      },
      "source": [
        "class AttentionHead(nn.Module):\n",
        "    def __init__(self, dim):\n",
        "        super(AttentionHead, self).__init__()\n",
        "        self.attention_layers = nn.Sequential(\n",
        "            nn.Linear(dim, dim),\n",
        "            nn.Tanh(),\n",
        "            nn.Linear(dim, 1))\n",
        "        \n",
        "    def forward(self, history):\n",
        "        w = self.attention_layers(history)\n",
        "        w = F.softmax(w, dim=0)\n",
        "        return history.T @ w"
      ],
      "execution_count": null,
      "outputs": []
    },
    {
      "cell_type": "code",
      "metadata": {
        "id": "6kCVsMd2LgIZ"
      },
      "source": [
        "class ComiRecModel:\n",
        "    def __init__(self, embedding_size, num_users, num_items):\n",
        "        super(ComiRecModel, self).__init__()\n",
        "        self.item_emb = nn.Embedding(num_items, embedding_size)\n",
        "        self.attention_head = AttentionHead(embedding_size)\n",
        "        self.num_users = num_users\n",
        "        self.num_items = num_items\n",
        "\n",
        "    def (user_embeddings, item_embeddings):\n",
        "        return (user_embeddings.T @ item_embeddings).max(axis=1)[0]\n",
        "\n",
        "    def forward(self, history):\n",
        "        out = self.attention_head(history)\n",
        "        "
      ],
      "execution_count": null,
      "outputs": []
    }
  ]
}