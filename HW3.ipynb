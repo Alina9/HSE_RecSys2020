{
  "nbformat": 4,
  "nbformat_minor": 0,
  "metadata": {
    "accelerator": "GPU",
    "colab": {
      "name": "HW3.ipynb",
      "provenance": [],
      "collapsed_sections": [],
      "include_colab_link": true
    },
    "kernelspec": {
      "display_name": "Python 3",
      "language": "python",
      "name": "python3"
    },
    "language_info": {
      "codemirror_mode": {
        "name": "ipython",
        "version": 3
      },
      "file_extension": ".py",
      "mimetype": "text/x-python",
      "name": "python",
      "nbconvert_exporter": "python",
      "pygments_lexer": "ipython3",
      "version": "3.7.3"
    },
    "widgets": {
      "application/vnd.jupyter.widget-state+json": {
        "b86364edb3cd4c6fb048696d63ef3f94": {
          "model_module": "@jupyter-widgets/controls",
          "model_name": "HBoxModel",
          "state": {
            "_view_name": "HBoxView",
            "_dom_classes": [],
            "_model_name": "HBoxModel",
            "_view_module": "@jupyter-widgets/controls",
            "_model_module_version": "1.5.0",
            "_view_count": null,
            "_view_module_version": "1.5.0",
            "box_style": "",
            "layout": "IPY_MODEL_e356658b2ff7462ba44b8fa43e2bd952",
            "_model_module": "@jupyter-widgets/controls",
            "children": [
              "IPY_MODEL_e04680f1f4e542109a3027ec3b277d8e",
              "IPY_MODEL_f34628e8f2e640bca8b9f204157c4137"
            ]
          }
        },
        "e356658b2ff7462ba44b8fa43e2bd952": {
          "model_module": "@jupyter-widgets/base",
          "model_name": "LayoutModel",
          "state": {
            "_view_name": "LayoutView",
            "grid_template_rows": null,
            "right": null,
            "justify_content": null,
            "_view_module": "@jupyter-widgets/base",
            "overflow": null,
            "_model_module_version": "1.2.0",
            "_view_count": null,
            "flex_flow": null,
            "width": null,
            "min_width": null,
            "border": null,
            "align_items": null,
            "bottom": null,
            "_model_module": "@jupyter-widgets/base",
            "top": null,
            "grid_column": null,
            "overflow_y": null,
            "overflow_x": null,
            "grid_auto_flow": null,
            "grid_area": null,
            "grid_template_columns": null,
            "flex": null,
            "_model_name": "LayoutModel",
            "justify_items": null,
            "grid_row": null,
            "max_height": null,
            "align_content": null,
            "visibility": null,
            "align_self": null,
            "height": null,
            "min_height": null,
            "padding": null,
            "grid_auto_rows": null,
            "grid_gap": null,
            "max_width": null,
            "order": null,
            "_view_module_version": "1.2.0",
            "grid_template_areas": null,
            "object_position": null,
            "object_fit": null,
            "grid_auto_columns": null,
            "margin": null,
            "display": null,
            "left": null
          }
        },
        "e04680f1f4e542109a3027ec3b277d8e": {
          "model_module": "@jupyter-widgets/controls",
          "model_name": "FloatProgressModel",
          "state": {
            "_view_name": "ProgressView",
            "style": "IPY_MODEL_044c69793d584ea2a409a662488002a7",
            "_dom_classes": [],
            "description": "100%",
            "_model_name": "FloatProgressModel",
            "bar_style": "success",
            "max": 6038,
            "_view_module": "@jupyter-widgets/controls",
            "_model_module_version": "1.5.0",
            "value": 6038,
            "_view_count": null,
            "_view_module_version": "1.5.0",
            "orientation": "horizontal",
            "min": 0,
            "description_tooltip": null,
            "_model_module": "@jupyter-widgets/controls",
            "layout": "IPY_MODEL_cdcb457859d84d0392571fbf111e008e"
          }
        },
        "f34628e8f2e640bca8b9f204157c4137": {
          "model_module": "@jupyter-widgets/controls",
          "model_name": "HTMLModel",
          "state": {
            "_view_name": "HTMLView",
            "style": "IPY_MODEL_cacab2bc7cbb424fa1df3388960c7fa6",
            "_dom_classes": [],
            "description": "",
            "_model_name": "HTMLModel",
            "placeholder": "​",
            "_view_module": "@jupyter-widgets/controls",
            "_model_module_version": "1.5.0",
            "value": " 6038/6038 [03:25&lt;00:00, 29.36it/s]",
            "_view_count": null,
            "_view_module_version": "1.5.0",
            "description_tooltip": null,
            "_model_module": "@jupyter-widgets/controls",
            "layout": "IPY_MODEL_c411ffa8efd9487994cc0d05b524a7fb"
          }
        },
        "044c69793d584ea2a409a662488002a7": {
          "model_module": "@jupyter-widgets/controls",
          "model_name": "ProgressStyleModel",
          "state": {
            "_view_name": "StyleView",
            "_model_name": "ProgressStyleModel",
            "description_width": "initial",
            "_view_module": "@jupyter-widgets/base",
            "_model_module_version": "1.5.0",
            "_view_count": null,
            "_view_module_version": "1.2.0",
            "bar_color": null,
            "_model_module": "@jupyter-widgets/controls"
          }
        },
        "cdcb457859d84d0392571fbf111e008e": {
          "model_module": "@jupyter-widgets/base",
          "model_name": "LayoutModel",
          "state": {
            "_view_name": "LayoutView",
            "grid_template_rows": null,
            "right": null,
            "justify_content": null,
            "_view_module": "@jupyter-widgets/base",
            "overflow": null,
            "_model_module_version": "1.2.0",
            "_view_count": null,
            "flex_flow": null,
            "width": null,
            "min_width": null,
            "border": null,
            "align_items": null,
            "bottom": null,
            "_model_module": "@jupyter-widgets/base",
            "top": null,
            "grid_column": null,
            "overflow_y": null,
            "overflow_x": null,
            "grid_auto_flow": null,
            "grid_area": null,
            "grid_template_columns": null,
            "flex": null,
            "_model_name": "LayoutModel",
            "justify_items": null,
            "grid_row": null,
            "max_height": null,
            "align_content": null,
            "visibility": null,
            "align_self": null,
            "height": null,
            "min_height": null,
            "padding": null,
            "grid_auto_rows": null,
            "grid_gap": null,
            "max_width": null,
            "order": null,
            "_view_module_version": "1.2.0",
            "grid_template_areas": null,
            "object_position": null,
            "object_fit": null,
            "grid_auto_columns": null,
            "margin": null,
            "display": null,
            "left": null
          }
        },
        "cacab2bc7cbb424fa1df3388960c7fa6": {
          "model_module": "@jupyter-widgets/controls",
          "model_name": "DescriptionStyleModel",
          "state": {
            "_view_name": "StyleView",
            "_model_name": "DescriptionStyleModel",
            "description_width": "",
            "_view_module": "@jupyter-widgets/base",
            "_model_module_version": "1.5.0",
            "_view_count": null,
            "_view_module_version": "1.2.0",
            "_model_module": "@jupyter-widgets/controls"
          }
        },
        "c411ffa8efd9487994cc0d05b524a7fb": {
          "model_module": "@jupyter-widgets/base",
          "model_name": "LayoutModel",
          "state": {
            "_view_name": "LayoutView",
            "grid_template_rows": null,
            "right": null,
            "justify_content": null,
            "_view_module": "@jupyter-widgets/base",
            "overflow": null,
            "_model_module_version": "1.2.0",
            "_view_count": null,
            "flex_flow": null,
            "width": null,
            "min_width": null,
            "border": null,
            "align_items": null,
            "bottom": null,
            "_model_module": "@jupyter-widgets/base",
            "top": null,
            "grid_column": null,
            "overflow_y": null,
            "overflow_x": null,
            "grid_auto_flow": null,
            "grid_area": null,
            "grid_template_columns": null,
            "flex": null,
            "_model_name": "LayoutModel",
            "justify_items": null,
            "grid_row": null,
            "max_height": null,
            "align_content": null,
            "visibility": null,
            "align_self": null,
            "height": null,
            "min_height": null,
            "padding": null,
            "grid_auto_rows": null,
            "grid_gap": null,
            "max_width": null,
            "order": null,
            "_view_module_version": "1.2.0",
            "grid_template_areas": null,
            "object_position": null,
            "object_fit": null,
            "grid_auto_columns": null,
            "margin": null,
            "display": null,
            "left": null
          }
        },
        "21f8c61815a14b18a0d0d3ee5060c783": {
          "model_module": "@jupyter-widgets/controls",
          "model_name": "HBoxModel",
          "state": {
            "_view_name": "HBoxView",
            "_dom_classes": [],
            "_model_name": "HBoxModel",
            "_view_module": "@jupyter-widgets/controls",
            "_model_module_version": "1.5.0",
            "_view_count": null,
            "_view_module_version": "1.5.0",
            "box_style": "",
            "layout": "IPY_MODEL_7e3a652bc1964c609388129c2e7dc11b",
            "_model_module": "@jupyter-widgets/controls",
            "children": [
              "IPY_MODEL_860172da6a534ea5bfa110023e072f6a",
              "IPY_MODEL_b3097fd3839345659519a13b00254271"
            ]
          }
        },
        "7e3a652bc1964c609388129c2e7dc11b": {
          "model_module": "@jupyter-widgets/base",
          "model_name": "LayoutModel",
          "state": {
            "_view_name": "LayoutView",
            "grid_template_rows": null,
            "right": null,
            "justify_content": null,
            "_view_module": "@jupyter-widgets/base",
            "overflow": null,
            "_model_module_version": "1.2.0",
            "_view_count": null,
            "flex_flow": null,
            "width": null,
            "min_width": null,
            "border": null,
            "align_items": null,
            "bottom": null,
            "_model_module": "@jupyter-widgets/base",
            "top": null,
            "grid_column": null,
            "overflow_y": null,
            "overflow_x": null,
            "grid_auto_flow": null,
            "grid_area": null,
            "grid_template_columns": null,
            "flex": null,
            "_model_name": "LayoutModel",
            "justify_items": null,
            "grid_row": null,
            "max_height": null,
            "align_content": null,
            "visibility": null,
            "align_self": null,
            "height": null,
            "min_height": null,
            "padding": null,
            "grid_auto_rows": null,
            "grid_gap": null,
            "max_width": null,
            "order": null,
            "_view_module_version": "1.2.0",
            "grid_template_areas": null,
            "object_position": null,
            "object_fit": null,
            "grid_auto_columns": null,
            "margin": null,
            "display": null,
            "left": null
          }
        },
        "860172da6a534ea5bfa110023e072f6a": {
          "model_module": "@jupyter-widgets/controls",
          "model_name": "FloatProgressModel",
          "state": {
            "_view_name": "ProgressView",
            "style": "IPY_MODEL_b422547413d147928a2c33250c1e57fa",
            "_dom_classes": [],
            "description": "100%",
            "_model_name": "FloatProgressModel",
            "bar_style": "success",
            "max": 6037,
            "_view_module": "@jupyter-widgets/controls",
            "_model_module_version": "1.5.0",
            "value": 6037,
            "_view_count": null,
            "_view_module_version": "1.5.0",
            "orientation": "horizontal",
            "min": 0,
            "description_tooltip": null,
            "_model_module": "@jupyter-widgets/controls",
            "layout": "IPY_MODEL_49eb12c631884c8abd7d507b4f2bfad8"
          }
        },
        "b3097fd3839345659519a13b00254271": {
          "model_module": "@jupyter-widgets/controls",
          "model_name": "HTMLModel",
          "state": {
            "_view_name": "HTMLView",
            "style": "IPY_MODEL_4251e921a8fe4d7a975b3d78cd9b0770",
            "_dom_classes": [],
            "description": "",
            "_model_name": "HTMLModel",
            "placeholder": "​",
            "_view_module": "@jupyter-widgets/controls",
            "_model_module_version": "1.5.0",
            "value": " 6037/6037 [00:07&lt;00:00, 799.20it/s]",
            "_view_count": null,
            "_view_module_version": "1.5.0",
            "description_tooltip": null,
            "_model_module": "@jupyter-widgets/controls",
            "layout": "IPY_MODEL_ada3b320338e4e6c97894c23e65bc8ae"
          }
        },
        "b422547413d147928a2c33250c1e57fa": {
          "model_module": "@jupyter-widgets/controls",
          "model_name": "ProgressStyleModel",
          "state": {
            "_view_name": "StyleView",
            "_model_name": "ProgressStyleModel",
            "description_width": "initial",
            "_view_module": "@jupyter-widgets/base",
            "_model_module_version": "1.5.0",
            "_view_count": null,
            "_view_module_version": "1.2.0",
            "bar_color": null,
            "_model_module": "@jupyter-widgets/controls"
          }
        },
        "49eb12c631884c8abd7d507b4f2bfad8": {
          "model_module": "@jupyter-widgets/base",
          "model_name": "LayoutModel",
          "state": {
            "_view_name": "LayoutView",
            "grid_template_rows": null,
            "right": null,
            "justify_content": null,
            "_view_module": "@jupyter-widgets/base",
            "overflow": null,
            "_model_module_version": "1.2.0",
            "_view_count": null,
            "flex_flow": null,
            "width": null,
            "min_width": null,
            "border": null,
            "align_items": null,
            "bottom": null,
            "_model_module": "@jupyter-widgets/base",
            "top": null,
            "grid_column": null,
            "overflow_y": null,
            "overflow_x": null,
            "grid_auto_flow": null,
            "grid_area": null,
            "grid_template_columns": null,
            "flex": null,
            "_model_name": "LayoutModel",
            "justify_items": null,
            "grid_row": null,
            "max_height": null,
            "align_content": null,
            "visibility": null,
            "align_self": null,
            "height": null,
            "min_height": null,
            "padding": null,
            "grid_auto_rows": null,
            "grid_gap": null,
            "max_width": null,
            "order": null,
            "_view_module_version": "1.2.0",
            "grid_template_areas": null,
            "object_position": null,
            "object_fit": null,
            "grid_auto_columns": null,
            "margin": null,
            "display": null,
            "left": null
          }
        },
        "4251e921a8fe4d7a975b3d78cd9b0770": {
          "model_module": "@jupyter-widgets/controls",
          "model_name": "DescriptionStyleModel",
          "state": {
            "_view_name": "StyleView",
            "_model_name": "DescriptionStyleModel",
            "description_width": "",
            "_view_module": "@jupyter-widgets/base",
            "_model_module_version": "1.5.0",
            "_view_count": null,
            "_view_module_version": "1.2.0",
            "_model_module": "@jupyter-widgets/controls"
          }
        },
        "ada3b320338e4e6c97894c23e65bc8ae": {
          "model_module": "@jupyter-widgets/base",
          "model_name": "LayoutModel",
          "state": {
            "_view_name": "LayoutView",
            "grid_template_rows": null,
            "right": null,
            "justify_content": null,
            "_view_module": "@jupyter-widgets/base",
            "overflow": null,
            "_model_module_version": "1.2.0",
            "_view_count": null,
            "flex_flow": null,
            "width": null,
            "min_width": null,
            "border": null,
            "align_items": null,
            "bottom": null,
            "_model_module": "@jupyter-widgets/base",
            "top": null,
            "grid_column": null,
            "overflow_y": null,
            "overflow_x": null,
            "grid_auto_flow": null,
            "grid_area": null,
            "grid_template_columns": null,
            "flex": null,
            "_model_name": "LayoutModel",
            "justify_items": null,
            "grid_row": null,
            "max_height": null,
            "align_content": null,
            "visibility": null,
            "align_self": null,
            "height": null,
            "min_height": null,
            "padding": null,
            "grid_auto_rows": null,
            "grid_gap": null,
            "max_width": null,
            "order": null,
            "_view_module_version": "1.2.0",
            "grid_template_areas": null,
            "object_position": null,
            "object_fit": null,
            "grid_auto_columns": null,
            "margin": null,
            "display": null,
            "left": null
          }
        },
        "9a283e3c73e2419cbb7294fdc8740b1b": {
          "model_module": "@jupyter-widgets/controls",
          "model_name": "HBoxModel",
          "state": {
            "_view_name": "HBoxView",
            "_dom_classes": [],
            "_model_name": "HBoxModel",
            "_view_module": "@jupyter-widgets/controls",
            "_model_module_version": "1.5.0",
            "_view_count": null,
            "_view_module_version": "1.5.0",
            "box_style": "",
            "layout": "IPY_MODEL_4fb9a441c8f146879d99764efba792ba",
            "_model_module": "@jupyter-widgets/controls",
            "children": [
              "IPY_MODEL_6f9f21584a2e4f2683ba7e0f4b524175",
              "IPY_MODEL_4fc21f3bc0774d6a97600ab785ac40a0"
            ]
          }
        },
        "4fb9a441c8f146879d99764efba792ba": {
          "model_module": "@jupyter-widgets/base",
          "model_name": "LayoutModel",
          "state": {
            "_view_name": "LayoutView",
            "grid_template_rows": null,
            "right": null,
            "justify_content": null,
            "_view_module": "@jupyter-widgets/base",
            "overflow": null,
            "_model_module_version": "1.2.0",
            "_view_count": null,
            "flex_flow": null,
            "width": null,
            "min_width": null,
            "border": null,
            "align_items": null,
            "bottom": null,
            "_model_module": "@jupyter-widgets/base",
            "top": null,
            "grid_column": null,
            "overflow_y": null,
            "overflow_x": null,
            "grid_auto_flow": null,
            "grid_area": null,
            "grid_template_columns": null,
            "flex": null,
            "_model_name": "LayoutModel",
            "justify_items": null,
            "grid_row": null,
            "max_height": null,
            "align_content": null,
            "visibility": null,
            "align_self": null,
            "height": null,
            "min_height": null,
            "padding": null,
            "grid_auto_rows": null,
            "grid_gap": null,
            "max_width": null,
            "order": null,
            "_view_module_version": "1.2.0",
            "grid_template_areas": null,
            "object_position": null,
            "object_fit": null,
            "grid_auto_columns": null,
            "margin": null,
            "display": null,
            "left": null
          }
        },
        "6f9f21584a2e4f2683ba7e0f4b524175": {
          "model_module": "@jupyter-widgets/controls",
          "model_name": "FloatProgressModel",
          "state": {
            "_view_name": "ProgressView",
            "style": "IPY_MODEL_2ba104a5693e4dbcbd8946e5d19e8a5c",
            "_dom_classes": [],
            "description": "100%",
            "_model_name": "FloatProgressModel",
            "bar_style": "success",
            "max": 50,
            "_view_module": "@jupyter-widgets/controls",
            "_model_module_version": "1.5.0",
            "value": 50,
            "_view_count": null,
            "_view_module_version": "1.5.0",
            "orientation": "horizontal",
            "min": 0,
            "description_tooltip": null,
            "_model_module": "@jupyter-widgets/controls",
            "layout": "IPY_MODEL_6b93e17ee6fe4c05aae457f6748e8e14"
          }
        },
        "4fc21f3bc0774d6a97600ab785ac40a0": {
          "model_module": "@jupyter-widgets/controls",
          "model_name": "HTMLModel",
          "state": {
            "_view_name": "HTMLView",
            "style": "IPY_MODEL_9f2ca9129bdf47caa790e90c862e710e",
            "_dom_classes": [],
            "description": "",
            "_model_name": "HTMLModel",
            "placeholder": "​",
            "_view_module": "@jupyter-widgets/controls",
            "_model_module_version": "1.5.0",
            "value": " 50/50 [32:52&lt;00:00, 39.44s/it]",
            "_view_count": null,
            "_view_module_version": "1.5.0",
            "description_tooltip": null,
            "_model_module": "@jupyter-widgets/controls",
            "layout": "IPY_MODEL_395e25b152904b45a497fd754cc3445b"
          }
        },
        "2ba104a5693e4dbcbd8946e5d19e8a5c": {
          "model_module": "@jupyter-widgets/controls",
          "model_name": "ProgressStyleModel",
          "state": {
            "_view_name": "StyleView",
            "_model_name": "ProgressStyleModel",
            "description_width": "initial",
            "_view_module": "@jupyter-widgets/base",
            "_model_module_version": "1.5.0",
            "_view_count": null,
            "_view_module_version": "1.2.0",
            "bar_color": null,
            "_model_module": "@jupyter-widgets/controls"
          }
        },
        "6b93e17ee6fe4c05aae457f6748e8e14": {
          "model_module": "@jupyter-widgets/base",
          "model_name": "LayoutModel",
          "state": {
            "_view_name": "LayoutView",
            "grid_template_rows": null,
            "right": null,
            "justify_content": null,
            "_view_module": "@jupyter-widgets/base",
            "overflow": null,
            "_model_module_version": "1.2.0",
            "_view_count": null,
            "flex_flow": null,
            "width": null,
            "min_width": null,
            "border": null,
            "align_items": null,
            "bottom": null,
            "_model_module": "@jupyter-widgets/base",
            "top": null,
            "grid_column": null,
            "overflow_y": null,
            "overflow_x": null,
            "grid_auto_flow": null,
            "grid_area": null,
            "grid_template_columns": null,
            "flex": null,
            "_model_name": "LayoutModel",
            "justify_items": null,
            "grid_row": null,
            "max_height": null,
            "align_content": null,
            "visibility": null,
            "align_self": null,
            "height": null,
            "min_height": null,
            "padding": null,
            "grid_auto_rows": null,
            "grid_gap": null,
            "max_width": null,
            "order": null,
            "_view_module_version": "1.2.0",
            "grid_template_areas": null,
            "object_position": null,
            "object_fit": null,
            "grid_auto_columns": null,
            "margin": null,
            "display": null,
            "left": null
          }
        },
        "9f2ca9129bdf47caa790e90c862e710e": {
          "model_module": "@jupyter-widgets/controls",
          "model_name": "DescriptionStyleModel",
          "state": {
            "_view_name": "StyleView",
            "_model_name": "DescriptionStyleModel",
            "description_width": "",
            "_view_module": "@jupyter-widgets/base",
            "_model_module_version": "1.5.0",
            "_view_count": null,
            "_view_module_version": "1.2.0",
            "_model_module": "@jupyter-widgets/controls"
          }
        },
        "395e25b152904b45a497fd754cc3445b": {
          "model_module": "@jupyter-widgets/base",
          "model_name": "LayoutModel",
          "state": {
            "_view_name": "LayoutView",
            "grid_template_rows": null,
            "right": null,
            "justify_content": null,
            "_view_module": "@jupyter-widgets/base",
            "overflow": null,
            "_model_module_version": "1.2.0",
            "_view_count": null,
            "flex_flow": null,
            "width": null,
            "min_width": null,
            "border": null,
            "align_items": null,
            "bottom": null,
            "_model_module": "@jupyter-widgets/base",
            "top": null,
            "grid_column": null,
            "overflow_y": null,
            "overflow_x": null,
            "grid_auto_flow": null,
            "grid_area": null,
            "grid_template_columns": null,
            "flex": null,
            "_model_name": "LayoutModel",
            "justify_items": null,
            "grid_row": null,
            "max_height": null,
            "align_content": null,
            "visibility": null,
            "align_self": null,
            "height": null,
            "min_height": null,
            "padding": null,
            "grid_auto_rows": null,
            "grid_gap": null,
            "max_width": null,
            "order": null,
            "_view_module_version": "1.2.0",
            "grid_template_areas": null,
            "object_position": null,
            "object_fit": null,
            "grid_auto_columns": null,
            "margin": null,
            "display": null,
            "left": null
          }
        },
        "1a7633ac4e19422598221eba920c0d67": {
          "model_module": "@jupyter-widgets/controls",
          "model_name": "HBoxModel",
          "state": {
            "_view_name": "HBoxView",
            "_dom_classes": [],
            "_model_name": "HBoxModel",
            "_view_module": "@jupyter-widgets/controls",
            "_model_module_version": "1.5.0",
            "_view_count": null,
            "_view_module_version": "1.5.0",
            "box_style": "",
            "layout": "IPY_MODEL_67438a32a81f448d8c1c0efcf2bd5b88",
            "_model_module": "@jupyter-widgets/controls",
            "children": [
              "IPY_MODEL_9c39c21f74cd4b1083cc6c4d9702c20a",
              "IPY_MODEL_ba913f53cd004133bd14ef14fb8910b1"
            ]
          }
        },
        "67438a32a81f448d8c1c0efcf2bd5b88": {
          "model_module": "@jupyter-widgets/base",
          "model_name": "LayoutModel",
          "state": {
            "_view_name": "LayoutView",
            "grid_template_rows": null,
            "right": null,
            "justify_content": null,
            "_view_module": "@jupyter-widgets/base",
            "overflow": null,
            "_model_module_version": "1.2.0",
            "_view_count": null,
            "flex_flow": null,
            "width": null,
            "min_width": null,
            "border": null,
            "align_items": null,
            "bottom": null,
            "_model_module": "@jupyter-widgets/base",
            "top": null,
            "grid_column": null,
            "overflow_y": null,
            "overflow_x": null,
            "grid_auto_flow": null,
            "grid_area": null,
            "grid_template_columns": null,
            "flex": null,
            "_model_name": "LayoutModel",
            "justify_items": null,
            "grid_row": null,
            "max_height": null,
            "align_content": null,
            "visibility": null,
            "align_self": null,
            "height": null,
            "min_height": null,
            "padding": null,
            "grid_auto_rows": null,
            "grid_gap": null,
            "max_width": null,
            "order": null,
            "_view_module_version": "1.2.0",
            "grid_template_areas": null,
            "object_position": null,
            "object_fit": null,
            "grid_auto_columns": null,
            "margin": null,
            "display": null,
            "left": null
          }
        },
        "9c39c21f74cd4b1083cc6c4d9702c20a": {
          "model_module": "@jupyter-widgets/controls",
          "model_name": "FloatProgressModel",
          "state": {
            "_view_name": "ProgressView",
            "style": "IPY_MODEL_3c0c2418a89e445fb77063b39070fb52",
            "_dom_classes": [],
            "description": "100%",
            "_model_name": "FloatProgressModel",
            "bar_style": "success",
            "max": 6037,
            "_view_module": "@jupyter-widgets/controls",
            "_model_module_version": "1.5.0",
            "value": 6037,
            "_view_count": null,
            "_view_module_version": "1.5.0",
            "orientation": "horizontal",
            "min": 0,
            "description_tooltip": null,
            "_model_module": "@jupyter-widgets/controls",
            "layout": "IPY_MODEL_8eaf3d39fea94d1a90d69f5c7a2a1c17"
          }
        },
        "ba913f53cd004133bd14ef14fb8910b1": {
          "model_module": "@jupyter-widgets/controls",
          "model_name": "HTMLModel",
          "state": {
            "_view_name": "HTMLView",
            "style": "IPY_MODEL_a04369002da44e84a3b892af09bbf40d",
            "_dom_classes": [],
            "description": "",
            "_model_name": "HTMLModel",
            "placeholder": "​",
            "_view_module": "@jupyter-widgets/controls",
            "_model_module_version": "1.5.0",
            "value": " 6037/6037 [00:16&lt;00:00, 357.19it/s]",
            "_view_count": null,
            "_view_module_version": "1.5.0",
            "description_tooltip": null,
            "_model_module": "@jupyter-widgets/controls",
            "layout": "IPY_MODEL_d02f13ddc88e42a4864e71c409e1baa8"
          }
        },
        "3c0c2418a89e445fb77063b39070fb52": {
          "model_module": "@jupyter-widgets/controls",
          "model_name": "ProgressStyleModel",
          "state": {
            "_view_name": "StyleView",
            "_model_name": "ProgressStyleModel",
            "description_width": "initial",
            "_view_module": "@jupyter-widgets/base",
            "_model_module_version": "1.5.0",
            "_view_count": null,
            "_view_module_version": "1.2.0",
            "bar_color": null,
            "_model_module": "@jupyter-widgets/controls"
          }
        },
        "8eaf3d39fea94d1a90d69f5c7a2a1c17": {
          "model_module": "@jupyter-widgets/base",
          "model_name": "LayoutModel",
          "state": {
            "_view_name": "LayoutView",
            "grid_template_rows": null,
            "right": null,
            "justify_content": null,
            "_view_module": "@jupyter-widgets/base",
            "overflow": null,
            "_model_module_version": "1.2.0",
            "_view_count": null,
            "flex_flow": null,
            "width": null,
            "min_width": null,
            "border": null,
            "align_items": null,
            "bottom": null,
            "_model_module": "@jupyter-widgets/base",
            "top": null,
            "grid_column": null,
            "overflow_y": null,
            "overflow_x": null,
            "grid_auto_flow": null,
            "grid_area": null,
            "grid_template_columns": null,
            "flex": null,
            "_model_name": "LayoutModel",
            "justify_items": null,
            "grid_row": null,
            "max_height": null,
            "align_content": null,
            "visibility": null,
            "align_self": null,
            "height": null,
            "min_height": null,
            "padding": null,
            "grid_auto_rows": null,
            "grid_gap": null,
            "max_width": null,
            "order": null,
            "_view_module_version": "1.2.0",
            "grid_template_areas": null,
            "object_position": null,
            "object_fit": null,
            "grid_auto_columns": null,
            "margin": null,
            "display": null,
            "left": null
          }
        },
        "a04369002da44e84a3b892af09bbf40d": {
          "model_module": "@jupyter-widgets/controls",
          "model_name": "DescriptionStyleModel",
          "state": {
            "_view_name": "StyleView",
            "_model_name": "DescriptionStyleModel",
            "description_width": "",
            "_view_module": "@jupyter-widgets/base",
            "_model_module_version": "1.5.0",
            "_view_count": null,
            "_view_module_version": "1.2.0",
            "_model_module": "@jupyter-widgets/controls"
          }
        },
        "d02f13ddc88e42a4864e71c409e1baa8": {
          "model_module": "@jupyter-widgets/base",
          "model_name": "LayoutModel",
          "state": {
            "_view_name": "LayoutView",
            "grid_template_rows": null,
            "right": null,
            "justify_content": null,
            "_view_module": "@jupyter-widgets/base",
            "overflow": null,
            "_model_module_version": "1.2.0",
            "_view_count": null,
            "flex_flow": null,
            "width": null,
            "min_width": null,
            "border": null,
            "align_items": null,
            "bottom": null,
            "_model_module": "@jupyter-widgets/base",
            "top": null,
            "grid_column": null,
            "overflow_y": null,
            "overflow_x": null,
            "grid_auto_flow": null,
            "grid_area": null,
            "grid_template_columns": null,
            "flex": null,
            "_model_name": "LayoutModel",
            "justify_items": null,
            "grid_row": null,
            "max_height": null,
            "align_content": null,
            "visibility": null,
            "align_self": null,
            "height": null,
            "min_height": null,
            "padding": null,
            "grid_auto_rows": null,
            "grid_gap": null,
            "max_width": null,
            "order": null,
            "_view_module_version": "1.2.0",
            "grid_template_areas": null,
            "object_position": null,
            "object_fit": null,
            "grid_auto_columns": null,
            "margin": null,
            "display": null,
            "left": null
          }
        },
        "bde691bbc2c4479a8a97b1c85aef852d": {
          "model_module": "@jupyter-widgets/controls",
          "model_name": "HBoxModel",
          "state": {
            "_view_name": "HBoxView",
            "_dom_classes": [],
            "_model_name": "HBoxModel",
            "_view_module": "@jupyter-widgets/controls",
            "_model_module_version": "1.5.0",
            "_view_count": null,
            "_view_module_version": "1.5.0",
            "box_style": "",
            "layout": "IPY_MODEL_aa7bc67e9e104a338ab09c9479ad7f9f",
            "_model_module": "@jupyter-widgets/controls",
            "children": [
              "IPY_MODEL_a6d50ef8df96409ab3b9cc1513cbabbd",
              "IPY_MODEL_a9b72d2cecae4ff9a610a3f846f1e08e"
            ]
          }
        },
        "aa7bc67e9e104a338ab09c9479ad7f9f": {
          "model_module": "@jupyter-widgets/base",
          "model_name": "LayoutModel",
          "state": {
            "_view_name": "LayoutView",
            "grid_template_rows": null,
            "right": null,
            "justify_content": null,
            "_view_module": "@jupyter-widgets/base",
            "overflow": null,
            "_model_module_version": "1.2.0",
            "_view_count": null,
            "flex_flow": null,
            "width": null,
            "min_width": null,
            "border": null,
            "align_items": null,
            "bottom": null,
            "_model_module": "@jupyter-widgets/base",
            "top": null,
            "grid_column": null,
            "overflow_y": null,
            "overflow_x": null,
            "grid_auto_flow": null,
            "grid_area": null,
            "grid_template_columns": null,
            "flex": null,
            "_model_name": "LayoutModel",
            "justify_items": null,
            "grid_row": null,
            "max_height": null,
            "align_content": null,
            "visibility": null,
            "align_self": null,
            "height": null,
            "min_height": null,
            "padding": null,
            "grid_auto_rows": null,
            "grid_gap": null,
            "max_width": null,
            "order": null,
            "_view_module_version": "1.2.0",
            "grid_template_areas": null,
            "object_position": null,
            "object_fit": null,
            "grid_auto_columns": null,
            "margin": null,
            "display": null,
            "left": null
          }
        },
        "a6d50ef8df96409ab3b9cc1513cbabbd": {
          "model_module": "@jupyter-widgets/controls",
          "model_name": "FloatProgressModel",
          "state": {
            "_view_name": "ProgressView",
            "style": "IPY_MODEL_6a4eb8c4f00f41eea4a756d10fce282d",
            "_dom_classes": [],
            "description": "100%",
            "_model_name": "FloatProgressModel",
            "bar_style": "success",
            "max": 50,
            "_view_module": "@jupyter-widgets/controls",
            "_model_module_version": "1.5.0",
            "value": 50,
            "_view_count": null,
            "_view_module_version": "1.5.0",
            "orientation": "horizontal",
            "min": 0,
            "description_tooltip": null,
            "_model_module": "@jupyter-widgets/controls",
            "layout": "IPY_MODEL_b58d0835ccb1478095375b7cb81f0503"
          }
        },
        "a9b72d2cecae4ff9a610a3f846f1e08e": {
          "model_module": "@jupyter-widgets/controls",
          "model_name": "HTMLModel",
          "state": {
            "_view_name": "HTMLView",
            "style": "IPY_MODEL_3f1b93b85d6c4142ae62b66f323b43c4",
            "_dom_classes": [],
            "description": "",
            "_model_name": "HTMLModel",
            "placeholder": "​",
            "_view_module": "@jupyter-widgets/controls",
            "_model_module_version": "1.5.0",
            "value": " 50/50 [30:54&lt;00:00, 37.09s/it]",
            "_view_count": null,
            "_view_module_version": "1.5.0",
            "description_tooltip": null,
            "_model_module": "@jupyter-widgets/controls",
            "layout": "IPY_MODEL_e49d56a3730f4f37a6ae886f541c9ee9"
          }
        },
        "6a4eb8c4f00f41eea4a756d10fce282d": {
          "model_module": "@jupyter-widgets/controls",
          "model_name": "ProgressStyleModel",
          "state": {
            "_view_name": "StyleView",
            "_model_name": "ProgressStyleModel",
            "description_width": "initial",
            "_view_module": "@jupyter-widgets/base",
            "_model_module_version": "1.5.0",
            "_view_count": null,
            "_view_module_version": "1.2.0",
            "bar_color": null,
            "_model_module": "@jupyter-widgets/controls"
          }
        },
        "b58d0835ccb1478095375b7cb81f0503": {
          "model_module": "@jupyter-widgets/base",
          "model_name": "LayoutModel",
          "state": {
            "_view_name": "LayoutView",
            "grid_template_rows": null,
            "right": null,
            "justify_content": null,
            "_view_module": "@jupyter-widgets/base",
            "overflow": null,
            "_model_module_version": "1.2.0",
            "_view_count": null,
            "flex_flow": null,
            "width": null,
            "min_width": null,
            "border": null,
            "align_items": null,
            "bottom": null,
            "_model_module": "@jupyter-widgets/base",
            "top": null,
            "grid_column": null,
            "overflow_y": null,
            "overflow_x": null,
            "grid_auto_flow": null,
            "grid_area": null,
            "grid_template_columns": null,
            "flex": null,
            "_model_name": "LayoutModel",
            "justify_items": null,
            "grid_row": null,
            "max_height": null,
            "align_content": null,
            "visibility": null,
            "align_self": null,
            "height": null,
            "min_height": null,
            "padding": null,
            "grid_auto_rows": null,
            "grid_gap": null,
            "max_width": null,
            "order": null,
            "_view_module_version": "1.2.0",
            "grid_template_areas": null,
            "object_position": null,
            "object_fit": null,
            "grid_auto_columns": null,
            "margin": null,
            "display": null,
            "left": null
          }
        },
        "3f1b93b85d6c4142ae62b66f323b43c4": {
          "model_module": "@jupyter-widgets/controls",
          "model_name": "DescriptionStyleModel",
          "state": {
            "_view_name": "StyleView",
            "_model_name": "DescriptionStyleModel",
            "description_width": "",
            "_view_module": "@jupyter-widgets/base",
            "_model_module_version": "1.5.0",
            "_view_count": null,
            "_view_module_version": "1.2.0",
            "_model_module": "@jupyter-widgets/controls"
          }
        },
        "e49d56a3730f4f37a6ae886f541c9ee9": {
          "model_module": "@jupyter-widgets/base",
          "model_name": "LayoutModel",
          "state": {
            "_view_name": "LayoutView",
            "grid_template_rows": null,
            "right": null,
            "justify_content": null,
            "_view_module": "@jupyter-widgets/base",
            "overflow": null,
            "_model_module_version": "1.2.0",
            "_view_count": null,
            "flex_flow": null,
            "width": null,
            "min_width": null,
            "border": null,
            "align_items": null,
            "bottom": null,
            "_model_module": "@jupyter-widgets/base",
            "top": null,
            "grid_column": null,
            "overflow_y": null,
            "overflow_x": null,
            "grid_auto_flow": null,
            "grid_area": null,
            "grid_template_columns": null,
            "flex": null,
            "_model_name": "LayoutModel",
            "justify_items": null,
            "grid_row": null,
            "max_height": null,
            "align_content": null,
            "visibility": null,
            "align_self": null,
            "height": null,
            "min_height": null,
            "padding": null,
            "grid_auto_rows": null,
            "grid_gap": null,
            "max_width": null,
            "order": null,
            "_view_module_version": "1.2.0",
            "grid_template_areas": null,
            "object_position": null,
            "object_fit": null,
            "grid_auto_columns": null,
            "margin": null,
            "display": null,
            "left": null
          }
        },
        "31f3f72f797d41c9adb73d5d18f57f17": {
          "model_module": "@jupyter-widgets/controls",
          "model_name": "HBoxModel",
          "state": {
            "_view_name": "HBoxView",
            "_dom_classes": [],
            "_model_name": "HBoxModel",
            "_view_module": "@jupyter-widgets/controls",
            "_model_module_version": "1.5.0",
            "_view_count": null,
            "_view_module_version": "1.5.0",
            "box_style": "",
            "layout": "IPY_MODEL_4cdfaf4005c0489590a5e552d4739b20",
            "_model_module": "@jupyter-widgets/controls",
            "children": [
              "IPY_MODEL_0aa7e0e020e84d2aa560ba1ea2a0e72c",
              "IPY_MODEL_e387ea9728e643f6b9fc62c7973ded1c"
            ]
          }
        },
        "4cdfaf4005c0489590a5e552d4739b20": {
          "model_module": "@jupyter-widgets/base",
          "model_name": "LayoutModel",
          "state": {
            "_view_name": "LayoutView",
            "grid_template_rows": null,
            "right": null,
            "justify_content": null,
            "_view_module": "@jupyter-widgets/base",
            "overflow": null,
            "_model_module_version": "1.2.0",
            "_view_count": null,
            "flex_flow": null,
            "width": null,
            "min_width": null,
            "border": null,
            "align_items": null,
            "bottom": null,
            "_model_module": "@jupyter-widgets/base",
            "top": null,
            "grid_column": null,
            "overflow_y": null,
            "overflow_x": null,
            "grid_auto_flow": null,
            "grid_area": null,
            "grid_template_columns": null,
            "flex": null,
            "_model_name": "LayoutModel",
            "justify_items": null,
            "grid_row": null,
            "max_height": null,
            "align_content": null,
            "visibility": null,
            "align_self": null,
            "height": null,
            "min_height": null,
            "padding": null,
            "grid_auto_rows": null,
            "grid_gap": null,
            "max_width": null,
            "order": null,
            "_view_module_version": "1.2.0",
            "grid_template_areas": null,
            "object_position": null,
            "object_fit": null,
            "grid_auto_columns": null,
            "margin": null,
            "display": null,
            "left": null
          }
        },
        "0aa7e0e020e84d2aa560ba1ea2a0e72c": {
          "model_module": "@jupyter-widgets/controls",
          "model_name": "FloatProgressModel",
          "state": {
            "_view_name": "ProgressView",
            "style": "IPY_MODEL_0013bdfb1f1a4d94bd27b12606553702",
            "_dom_classes": [],
            "description": "100%",
            "_model_name": "FloatProgressModel",
            "bar_style": "success",
            "max": 6037,
            "_view_module": "@jupyter-widgets/controls",
            "_model_module_version": "1.5.0",
            "value": 6037,
            "_view_count": null,
            "_view_module_version": "1.5.0",
            "orientation": "horizontal",
            "min": 0,
            "description_tooltip": null,
            "_model_module": "@jupyter-widgets/controls",
            "layout": "IPY_MODEL_413e5ccaa9a54d8f98ca8f0187467287"
          }
        },
        "e387ea9728e643f6b9fc62c7973ded1c": {
          "model_module": "@jupyter-widgets/controls",
          "model_name": "HTMLModel",
          "state": {
            "_view_name": "HTMLView",
            "style": "IPY_MODEL_8523968accbc4ef4bbfc91c26038620a",
            "_dom_classes": [],
            "description": "",
            "_model_name": "HTMLModel",
            "placeholder": "​",
            "_view_module": "@jupyter-widgets/controls",
            "_model_module_version": "1.5.0",
            "value": " 6037/6037 [00:13&lt;00:00, 432.11it/s]",
            "_view_count": null,
            "_view_module_version": "1.5.0",
            "description_tooltip": null,
            "_model_module": "@jupyter-widgets/controls",
            "layout": "IPY_MODEL_622512455cbb4a5ea491742688eb413d"
          }
        },
        "0013bdfb1f1a4d94bd27b12606553702": {
          "model_module": "@jupyter-widgets/controls",
          "model_name": "ProgressStyleModel",
          "state": {
            "_view_name": "StyleView",
            "_model_name": "ProgressStyleModel",
            "description_width": "initial",
            "_view_module": "@jupyter-widgets/base",
            "_model_module_version": "1.5.0",
            "_view_count": null,
            "_view_module_version": "1.2.0",
            "bar_color": null,
            "_model_module": "@jupyter-widgets/controls"
          }
        },
        "413e5ccaa9a54d8f98ca8f0187467287": {
          "model_module": "@jupyter-widgets/base",
          "model_name": "LayoutModel",
          "state": {
            "_view_name": "LayoutView",
            "grid_template_rows": null,
            "right": null,
            "justify_content": null,
            "_view_module": "@jupyter-widgets/base",
            "overflow": null,
            "_model_module_version": "1.2.0",
            "_view_count": null,
            "flex_flow": null,
            "width": null,
            "min_width": null,
            "border": null,
            "align_items": null,
            "bottom": null,
            "_model_module": "@jupyter-widgets/base",
            "top": null,
            "grid_column": null,
            "overflow_y": null,
            "overflow_x": null,
            "grid_auto_flow": null,
            "grid_area": null,
            "grid_template_columns": null,
            "flex": null,
            "_model_name": "LayoutModel",
            "justify_items": null,
            "grid_row": null,
            "max_height": null,
            "align_content": null,
            "visibility": null,
            "align_self": null,
            "height": null,
            "min_height": null,
            "padding": null,
            "grid_auto_rows": null,
            "grid_gap": null,
            "max_width": null,
            "order": null,
            "_view_module_version": "1.2.0",
            "grid_template_areas": null,
            "object_position": null,
            "object_fit": null,
            "grid_auto_columns": null,
            "margin": null,
            "display": null,
            "left": null
          }
        },
        "8523968accbc4ef4bbfc91c26038620a": {
          "model_module": "@jupyter-widgets/controls",
          "model_name": "DescriptionStyleModel",
          "state": {
            "_view_name": "StyleView",
            "_model_name": "DescriptionStyleModel",
            "description_width": "",
            "_view_module": "@jupyter-widgets/base",
            "_model_module_version": "1.5.0",
            "_view_count": null,
            "_view_module_version": "1.2.0",
            "_model_module": "@jupyter-widgets/controls"
          }
        },
        "622512455cbb4a5ea491742688eb413d": {
          "model_module": "@jupyter-widgets/base",
          "model_name": "LayoutModel",
          "state": {
            "_view_name": "LayoutView",
            "grid_template_rows": null,
            "right": null,
            "justify_content": null,
            "_view_module": "@jupyter-widgets/base",
            "overflow": null,
            "_model_module_version": "1.2.0",
            "_view_count": null,
            "flex_flow": null,
            "width": null,
            "min_width": null,
            "border": null,
            "align_items": null,
            "bottom": null,
            "_model_module": "@jupyter-widgets/base",
            "top": null,
            "grid_column": null,
            "overflow_y": null,
            "overflow_x": null,
            "grid_auto_flow": null,
            "grid_area": null,
            "grid_template_columns": null,
            "flex": null,
            "_model_name": "LayoutModel",
            "justify_items": null,
            "grid_row": null,
            "max_height": null,
            "align_content": null,
            "visibility": null,
            "align_self": null,
            "height": null,
            "min_height": null,
            "padding": null,
            "grid_auto_rows": null,
            "grid_gap": null,
            "max_width": null,
            "order": null,
            "_view_module_version": "1.2.0",
            "grid_template_areas": null,
            "object_position": null,
            "object_fit": null,
            "grid_auto_columns": null,
            "margin": null,
            "display": null,
            "left": null
          }
        },
        "df54df772ffe423a9197bc80fe82f1d8": {
          "model_module": "@jupyter-widgets/controls",
          "model_name": "HBoxModel",
          "state": {
            "_view_name": "HBoxView",
            "_dom_classes": [],
            "_model_name": "HBoxModel",
            "_view_module": "@jupyter-widgets/controls",
            "_model_module_version": "1.5.0",
            "_view_count": null,
            "_view_module_version": "1.5.0",
            "box_style": "",
            "layout": "IPY_MODEL_9529422b100c4892ac94bdd4fc7e9464",
            "_model_module": "@jupyter-widgets/controls",
            "children": [
              "IPY_MODEL_2a9066590a8d45c7b0859cf0e24719ac",
              "IPY_MODEL_1ba32e2610e842b0bce0a972cf882641"
            ]
          }
        },
        "9529422b100c4892ac94bdd4fc7e9464": {
          "model_module": "@jupyter-widgets/base",
          "model_name": "LayoutModel",
          "state": {
            "_view_name": "LayoutView",
            "grid_template_rows": null,
            "right": null,
            "justify_content": null,
            "_view_module": "@jupyter-widgets/base",
            "overflow": null,
            "_model_module_version": "1.2.0",
            "_view_count": null,
            "flex_flow": null,
            "width": null,
            "min_width": null,
            "border": null,
            "align_items": null,
            "bottom": null,
            "_model_module": "@jupyter-widgets/base",
            "top": null,
            "grid_column": null,
            "overflow_y": null,
            "overflow_x": null,
            "grid_auto_flow": null,
            "grid_area": null,
            "grid_template_columns": null,
            "flex": null,
            "_model_name": "LayoutModel",
            "justify_items": null,
            "grid_row": null,
            "max_height": null,
            "align_content": null,
            "visibility": null,
            "align_self": null,
            "height": null,
            "min_height": null,
            "padding": null,
            "grid_auto_rows": null,
            "grid_gap": null,
            "max_width": null,
            "order": null,
            "_view_module_version": "1.2.0",
            "grid_template_areas": null,
            "object_position": null,
            "object_fit": null,
            "grid_auto_columns": null,
            "margin": null,
            "display": null,
            "left": null
          }
        },
        "2a9066590a8d45c7b0859cf0e24719ac": {
          "model_module": "@jupyter-widgets/controls",
          "model_name": "FloatProgressModel",
          "state": {
            "_view_name": "ProgressView",
            "style": "IPY_MODEL_5966f4dd5bfd4de992a00287e22521d8",
            "_dom_classes": [],
            "description": "100%",
            "_model_name": "FloatProgressModel",
            "bar_style": "success",
            "max": 10,
            "_view_module": "@jupyter-widgets/controls",
            "_model_module_version": "1.5.0",
            "value": 10,
            "_view_count": null,
            "_view_module_version": "1.5.0",
            "orientation": "horizontal",
            "min": 0,
            "description_tooltip": null,
            "_model_module": "@jupyter-widgets/controls",
            "layout": "IPY_MODEL_bdbca054f81d4311b3c792c287bac8d3"
          }
        },
        "1ba32e2610e842b0bce0a972cf882641": {
          "model_module": "@jupyter-widgets/controls",
          "model_name": "HTMLModel",
          "state": {
            "_view_name": "HTMLView",
            "style": "IPY_MODEL_b32b0f243cea4ff8926957c3a9fa150f",
            "_dom_classes": [],
            "description": "",
            "_model_name": "HTMLModel",
            "placeholder": "​",
            "_view_module": "@jupyter-widgets/controls",
            "_model_module_version": "1.5.0",
            "value": " 10/10 [06:38&lt;00:00, 39.88s/it]",
            "_view_count": null,
            "_view_module_version": "1.5.0",
            "description_tooltip": null,
            "_model_module": "@jupyter-widgets/controls",
            "layout": "IPY_MODEL_34afb4c94d7b421889741ddc205ed01b"
          }
        },
        "5966f4dd5bfd4de992a00287e22521d8": {
          "model_module": "@jupyter-widgets/controls",
          "model_name": "ProgressStyleModel",
          "state": {
            "_view_name": "StyleView",
            "_model_name": "ProgressStyleModel",
            "description_width": "initial",
            "_view_module": "@jupyter-widgets/base",
            "_model_module_version": "1.5.0",
            "_view_count": null,
            "_view_module_version": "1.2.0",
            "bar_color": null,
            "_model_module": "@jupyter-widgets/controls"
          }
        },
        "bdbca054f81d4311b3c792c287bac8d3": {
          "model_module": "@jupyter-widgets/base",
          "model_name": "LayoutModel",
          "state": {
            "_view_name": "LayoutView",
            "grid_template_rows": null,
            "right": null,
            "justify_content": null,
            "_view_module": "@jupyter-widgets/base",
            "overflow": null,
            "_model_module_version": "1.2.0",
            "_view_count": null,
            "flex_flow": null,
            "width": null,
            "min_width": null,
            "border": null,
            "align_items": null,
            "bottom": null,
            "_model_module": "@jupyter-widgets/base",
            "top": null,
            "grid_column": null,
            "overflow_y": null,
            "overflow_x": null,
            "grid_auto_flow": null,
            "grid_area": null,
            "grid_template_columns": null,
            "flex": null,
            "_model_name": "LayoutModel",
            "justify_items": null,
            "grid_row": null,
            "max_height": null,
            "align_content": null,
            "visibility": null,
            "align_self": null,
            "height": null,
            "min_height": null,
            "padding": null,
            "grid_auto_rows": null,
            "grid_gap": null,
            "max_width": null,
            "order": null,
            "_view_module_version": "1.2.0",
            "grid_template_areas": null,
            "object_position": null,
            "object_fit": null,
            "grid_auto_columns": null,
            "margin": null,
            "display": null,
            "left": null
          }
        },
        "b32b0f243cea4ff8926957c3a9fa150f": {
          "model_module": "@jupyter-widgets/controls",
          "model_name": "DescriptionStyleModel",
          "state": {
            "_view_name": "StyleView",
            "_model_name": "DescriptionStyleModel",
            "description_width": "",
            "_view_module": "@jupyter-widgets/base",
            "_model_module_version": "1.5.0",
            "_view_count": null,
            "_view_module_version": "1.2.0",
            "_model_module": "@jupyter-widgets/controls"
          }
        },
        "34afb4c94d7b421889741ddc205ed01b": {
          "model_module": "@jupyter-widgets/base",
          "model_name": "LayoutModel",
          "state": {
            "_view_name": "LayoutView",
            "grid_template_rows": null,
            "right": null,
            "justify_content": null,
            "_view_module": "@jupyter-widgets/base",
            "overflow": null,
            "_model_module_version": "1.2.0",
            "_view_count": null,
            "flex_flow": null,
            "width": null,
            "min_width": null,
            "border": null,
            "align_items": null,
            "bottom": null,
            "_model_module": "@jupyter-widgets/base",
            "top": null,
            "grid_column": null,
            "overflow_y": null,
            "overflow_x": null,
            "grid_auto_flow": null,
            "grid_area": null,
            "grid_template_columns": null,
            "flex": null,
            "_model_name": "LayoutModel",
            "justify_items": null,
            "grid_row": null,
            "max_height": null,
            "align_content": null,
            "visibility": null,
            "align_self": null,
            "height": null,
            "min_height": null,
            "padding": null,
            "grid_auto_rows": null,
            "grid_gap": null,
            "max_width": null,
            "order": null,
            "_view_module_version": "1.2.0",
            "grid_template_areas": null,
            "object_position": null,
            "object_fit": null,
            "grid_auto_columns": null,
            "margin": null,
            "display": null,
            "left": null
          }
        },
        "f9441c963ed841a3be8ea350ea0f2e02": {
          "model_module": "@jupyter-widgets/controls",
          "model_name": "HBoxModel",
          "state": {
            "_view_name": "HBoxView",
            "_dom_classes": [],
            "_model_name": "HBoxModel",
            "_view_module": "@jupyter-widgets/controls",
            "_model_module_version": "1.5.0",
            "_view_count": null,
            "_view_module_version": "1.5.0",
            "box_style": "",
            "layout": "IPY_MODEL_1595f0f85510441fb35894e88f325f59",
            "_model_module": "@jupyter-widgets/controls",
            "children": [
              "IPY_MODEL_76c9737a4d4a40ad8ed776c418644fc2",
              "IPY_MODEL_2141458db6fa43b3b9115f8ce24549aa"
            ]
          }
        },
        "1595f0f85510441fb35894e88f325f59": {
          "model_module": "@jupyter-widgets/base",
          "model_name": "LayoutModel",
          "state": {
            "_view_name": "LayoutView",
            "grid_template_rows": null,
            "right": null,
            "justify_content": null,
            "_view_module": "@jupyter-widgets/base",
            "overflow": null,
            "_model_module_version": "1.2.0",
            "_view_count": null,
            "flex_flow": null,
            "width": null,
            "min_width": null,
            "border": null,
            "align_items": null,
            "bottom": null,
            "_model_module": "@jupyter-widgets/base",
            "top": null,
            "grid_column": null,
            "overflow_y": null,
            "overflow_x": null,
            "grid_auto_flow": null,
            "grid_area": null,
            "grid_template_columns": null,
            "flex": null,
            "_model_name": "LayoutModel",
            "justify_items": null,
            "grid_row": null,
            "max_height": null,
            "align_content": null,
            "visibility": null,
            "align_self": null,
            "height": null,
            "min_height": null,
            "padding": null,
            "grid_auto_rows": null,
            "grid_gap": null,
            "max_width": null,
            "order": null,
            "_view_module_version": "1.2.0",
            "grid_template_areas": null,
            "object_position": null,
            "object_fit": null,
            "grid_auto_columns": null,
            "margin": null,
            "display": null,
            "left": null
          }
        },
        "76c9737a4d4a40ad8ed776c418644fc2": {
          "model_module": "@jupyter-widgets/controls",
          "model_name": "FloatProgressModel",
          "state": {
            "_view_name": "ProgressView",
            "style": "IPY_MODEL_998a7bddaee04c358aaf21f1d6d60b3b",
            "_dom_classes": [],
            "description": "100%",
            "_model_name": "FloatProgressModel",
            "bar_style": "success",
            "max": 6037,
            "_view_module": "@jupyter-widgets/controls",
            "_model_module_version": "1.5.0",
            "value": 6037,
            "_view_count": null,
            "_view_module_version": "1.5.0",
            "orientation": "horizontal",
            "min": 0,
            "description_tooltip": null,
            "_model_module": "@jupyter-widgets/controls",
            "layout": "IPY_MODEL_80167fbcffe549e0bc20f846d100afd2"
          }
        },
        "2141458db6fa43b3b9115f8ce24549aa": {
          "model_module": "@jupyter-widgets/controls",
          "model_name": "HTMLModel",
          "state": {
            "_view_name": "HTMLView",
            "style": "IPY_MODEL_d21b4fd8512541359e707b1dafbe8366",
            "_dom_classes": [],
            "description": "",
            "_model_name": "HTMLModel",
            "placeholder": "​",
            "_view_module": "@jupyter-widgets/controls",
            "_model_module_version": "1.5.0",
            "value": " 6037/6037 [00:17&lt;00:00, 343.73it/s]",
            "_view_count": null,
            "_view_module_version": "1.5.0",
            "description_tooltip": null,
            "_model_module": "@jupyter-widgets/controls",
            "layout": "IPY_MODEL_56ed0e9ff70943b293af70d2e42cea48"
          }
        },
        "998a7bddaee04c358aaf21f1d6d60b3b": {
          "model_module": "@jupyter-widgets/controls",
          "model_name": "ProgressStyleModel",
          "state": {
            "_view_name": "StyleView",
            "_model_name": "ProgressStyleModel",
            "description_width": "initial",
            "_view_module": "@jupyter-widgets/base",
            "_model_module_version": "1.5.0",
            "_view_count": null,
            "_view_module_version": "1.2.0",
            "bar_color": null,
            "_model_module": "@jupyter-widgets/controls"
          }
        },
        "80167fbcffe549e0bc20f846d100afd2": {
          "model_module": "@jupyter-widgets/base",
          "model_name": "LayoutModel",
          "state": {
            "_view_name": "LayoutView",
            "grid_template_rows": null,
            "right": null,
            "justify_content": null,
            "_view_module": "@jupyter-widgets/base",
            "overflow": null,
            "_model_module_version": "1.2.0",
            "_view_count": null,
            "flex_flow": null,
            "width": null,
            "min_width": null,
            "border": null,
            "align_items": null,
            "bottom": null,
            "_model_module": "@jupyter-widgets/base",
            "top": null,
            "grid_column": null,
            "overflow_y": null,
            "overflow_x": null,
            "grid_auto_flow": null,
            "grid_area": null,
            "grid_template_columns": null,
            "flex": null,
            "_model_name": "LayoutModel",
            "justify_items": null,
            "grid_row": null,
            "max_height": null,
            "align_content": null,
            "visibility": null,
            "align_self": null,
            "height": null,
            "min_height": null,
            "padding": null,
            "grid_auto_rows": null,
            "grid_gap": null,
            "max_width": null,
            "order": null,
            "_view_module_version": "1.2.0",
            "grid_template_areas": null,
            "object_position": null,
            "object_fit": null,
            "grid_auto_columns": null,
            "margin": null,
            "display": null,
            "left": null
          }
        },
        "d21b4fd8512541359e707b1dafbe8366": {
          "model_module": "@jupyter-widgets/controls",
          "model_name": "DescriptionStyleModel",
          "state": {
            "_view_name": "StyleView",
            "_model_name": "DescriptionStyleModel",
            "description_width": "",
            "_view_module": "@jupyter-widgets/base",
            "_model_module_version": "1.5.0",
            "_view_count": null,
            "_view_module_version": "1.2.0",
            "_model_module": "@jupyter-widgets/controls"
          }
        },
        "56ed0e9ff70943b293af70d2e42cea48": {
          "model_module": "@jupyter-widgets/base",
          "model_name": "LayoutModel",
          "state": {
            "_view_name": "LayoutView",
            "grid_template_rows": null,
            "right": null,
            "justify_content": null,
            "_view_module": "@jupyter-widgets/base",
            "overflow": null,
            "_model_module_version": "1.2.0",
            "_view_count": null,
            "flex_flow": null,
            "width": null,
            "min_width": null,
            "border": null,
            "align_items": null,
            "bottom": null,
            "_model_module": "@jupyter-widgets/base",
            "top": null,
            "grid_column": null,
            "overflow_y": null,
            "overflow_x": null,
            "grid_auto_flow": null,
            "grid_area": null,
            "grid_template_columns": null,
            "flex": null,
            "_model_name": "LayoutModel",
            "justify_items": null,
            "grid_row": null,
            "max_height": null,
            "align_content": null,
            "visibility": null,
            "align_self": null,
            "height": null,
            "min_height": null,
            "padding": null,
            "grid_auto_rows": null,
            "grid_gap": null,
            "max_width": null,
            "order": null,
            "_view_module_version": "1.2.0",
            "grid_template_areas": null,
            "object_position": null,
            "object_fit": null,
            "grid_auto_columns": null,
            "margin": null,
            "display": null,
            "left": null
          }
        }
      }
    }
  },
  "cells": [
    {
      "cell_type": "markdown",
      "metadata": {
        "id": "view-in-github",
        "colab_type": "text"
      },
      "source": [
        "<a href=\"https://colab.research.google.com/github/Alina9/HSE_RecSys2020/blob/master/HW3.ipynb\" target=\"_parent\"><img src=\"https://colab.research.google.com/assets/colab-badge.svg\" alt=\"Open In Colab\"/></a>"
      ]
    },
    {
      "cell_type": "code",
      "metadata": {
        "colab": {
          "base_uri": "https://localhost:8080/"
        },
        "id": "ECrWg7Nvpmjd",
        "outputId": "d78dde4e-7df5-4f29-9d5f-0fa00912c0c0"
      },
      "source": [
        "!pip install lightfm"
      ],
      "execution_count": 1,
      "outputs": [
        {
          "output_type": "stream",
          "text": [
            "Collecting lightfm\n",
            "\u001b[?25l  Downloading https://files.pythonhosted.org/packages/5e/fe/8864d723daa8e5afc74080ce510c30f7ad52facf6a157d4b42dec83dfab4/lightfm-1.16.tar.gz (310kB)\n",
            "\r\u001b[K     |█                               | 10kB 3.4MB/s eta 0:00:01\r\u001b[K     |██▏                             | 20kB 3.8MB/s eta 0:00:01\r\u001b[K     |███▏                            | 30kB 5.1MB/s eta 0:00:01\r\u001b[K     |████▎                           | 40kB 6.1MB/s eta 0:00:01\r\u001b[K     |█████▎                          | 51kB 6.6MB/s eta 0:00:01\r\u001b[K     |██████▍                         | 61kB 6.8MB/s eta 0:00:01\r\u001b[K     |███████▍                        | 71kB 6.6MB/s eta 0:00:01\r\u001b[K     |████████▌                       | 81kB 6.3MB/s eta 0:00:01\r\u001b[K     |█████████▌                      | 92kB 6.3MB/s eta 0:00:01\r\u001b[K     |██████████▋                     | 102kB 6.5MB/s eta 0:00:01\r\u001b[K     |███████████▋                    | 112kB 6.5MB/s eta 0:00:01\r\u001b[K     |████████████▊                   | 122kB 6.5MB/s eta 0:00:01\r\u001b[K     |█████████████▊                  | 133kB 6.5MB/s eta 0:00:01\r\u001b[K     |██████████████▉                 | 143kB 6.5MB/s eta 0:00:01\r\u001b[K     |███████████████▉                | 153kB 6.5MB/s eta 0:00:01\r\u001b[K     |█████████████████               | 163kB 6.5MB/s eta 0:00:01\r\u001b[K     |██████████████████              | 174kB 6.5MB/s eta 0:00:01\r\u001b[K     |███████████████████             | 184kB 6.5MB/s eta 0:00:01\r\u001b[K     |████████████████████            | 194kB 6.5MB/s eta 0:00:01\r\u001b[K     |█████████████████████▏          | 204kB 6.5MB/s eta 0:00:01\r\u001b[K     |██████████████████████▏         | 215kB 6.5MB/s eta 0:00:01\r\u001b[K     |███████████████████████▎        | 225kB 6.5MB/s eta 0:00:01\r\u001b[K     |████████████████████████▎       | 235kB 6.5MB/s eta 0:00:01\r\u001b[K     |█████████████████████████▍      | 245kB 6.5MB/s eta 0:00:01\r\u001b[K     |██████████████████████████▍     | 256kB 6.5MB/s eta 0:00:01\r\u001b[K     |███████████████████████████▌    | 266kB 6.5MB/s eta 0:00:01\r\u001b[K     |████████████████████████████▌   | 276kB 6.5MB/s eta 0:00:01\r\u001b[K     |█████████████████████████████▋  | 286kB 6.5MB/s eta 0:00:01\r\u001b[K     |██████████████████████████████▋ | 296kB 6.5MB/s eta 0:00:01\r\u001b[K     |███████████████████████████████▊| 307kB 6.5MB/s eta 0:00:01\r\u001b[K     |████████████████████████████████| 317kB 6.5MB/s \n",
            "\u001b[?25hRequirement already satisfied: numpy in /usr/local/lib/python3.6/dist-packages (from lightfm) (1.18.5)\n",
            "Requirement already satisfied: scipy>=0.17.0 in /usr/local/lib/python3.6/dist-packages (from lightfm) (1.4.1)\n",
            "Requirement already satisfied: requests in /usr/local/lib/python3.6/dist-packages (from lightfm) (2.23.0)\n",
            "Requirement already satisfied: scikit-learn in /usr/local/lib/python3.6/dist-packages (from lightfm) (0.22.2.post1)\n",
            "Requirement already satisfied: certifi>=2017.4.17 in /usr/local/lib/python3.6/dist-packages (from requests->lightfm) (2020.11.8)\n",
            "Requirement already satisfied: urllib3!=1.25.0,!=1.25.1,<1.26,>=1.21.1 in /usr/local/lib/python3.6/dist-packages (from requests->lightfm) (1.24.3)\n",
            "Requirement already satisfied: chardet<4,>=3.0.2 in /usr/local/lib/python3.6/dist-packages (from requests->lightfm) (3.0.4)\n",
            "Requirement already satisfied: idna<3,>=2.5 in /usr/local/lib/python3.6/dist-packages (from requests->lightfm) (2.10)\n",
            "Requirement already satisfied: joblib>=0.11 in /usr/local/lib/python3.6/dist-packages (from scikit-learn->lightfm) (0.17.0)\n",
            "Building wheels for collected packages: lightfm\n",
            "  Building wheel for lightfm (setup.py) ... \u001b[?25l\u001b[?25hdone\n",
            "  Created wheel for lightfm: filename=lightfm-1.16-cp36-cp36m-linux_x86_64.whl size=704260 sha256=fbee97370c1441712d17df19f3261cf9bcd2052162a4141562336c7585a601fa\n",
            "  Stored in directory: /root/.cache/pip/wheels/c6/64/d4/673c7277f71ac4c5ad4835b94708c01b653ef2d3aa78ef20aa\n",
            "Successfully built lightfm\n",
            "Installing collected packages: lightfm\n",
            "Successfully installed lightfm-1.16\n"
          ],
          "name": "stdout"
        }
      ]
    },
    {
      "cell_type": "code",
      "metadata": {
        "id": "9qy-SK25g_Dh"
      },
      "source": [
        "import pandas as pd\n",
        "import numpy as np\n",
        "import scipy.sparse as sp\n",
        "import warnings\n",
        "from lightfm import LightFM\n",
        "from lightfm.evaluation import auc_score"
      ],
      "execution_count": 2,
      "outputs": []
    },
    {
      "cell_type": "code",
      "metadata": {
        "id": "ULjPaxA3g_Di"
      },
      "source": [
        "import torch\n",
        "import torch.nn as nn\n",
        "from torch.nn import functional as F\n",
        "import torch.optim as optim\n",
        "from torch.utils.data import Dataset, DataLoader\n",
        "from torch.autograd import Variable\n",
        "from sklearn.model_selection import train_test_split\n",
        "from sklearn.metrics import roc_auc_score\n",
        "warnings.filterwarnings('ignore') "
      ],
      "execution_count": 3,
      "outputs": []
    },
    {
      "cell_type": "code",
      "metadata": {
        "id": "u1IfJPZKg_Di"
      },
      "source": [
        "from sklearn.model_selection import train_test_split\n",
        "from sklearn.metrics import ndcg_score"
      ],
      "execution_count": 4,
      "outputs": []
    },
    {
      "cell_type": "code",
      "metadata": {
        "id": "pghfpQHiyxTm"
      },
      "source": [
        "from tqdm.notebook import tqdm"
      ],
      "execution_count": 5,
      "outputs": []
    },
    {
      "cell_type": "code",
      "metadata": {
        "colab": {
          "base_uri": "https://localhost:8080/"
        },
        "id": "umjZ_r2tpZa0",
        "outputId": "2be02a74-edc2-4be7-ffd6-c2b1711757a4"
      },
      "source": [
        "from google.colab import drive\n",
        "drive.mount('/content/gdrive')"
      ],
      "execution_count": 6,
      "outputs": [
        {
          "output_type": "stream",
          "text": [
            "Mounted at /content/gdrive\n"
          ],
          "name": "stdout"
        }
      ]
    },
    {
      "cell_type": "code",
      "metadata": {
        "id": "H_8iecwepsa7"
      },
      "source": [
        "path = '/content/gdrive/My Drive/Colab Notebooks/'"
      ],
      "execution_count": 7,
      "outputs": []
    },
    {
      "cell_type": "markdown",
      "metadata": {
        "id": "_5r2mnxpg_Di"
      },
      "source": [
        "## Датасет MovieLens"
      ]
    },
    {
      "cell_type": "code",
      "metadata": {
        "id": "kd8jUrWmg_Di"
      },
      "source": [
        "ratings = pd.read_csv(path + 'RecSysHSE/ml-1m/ratings.dat', delimiter='::', header=None, \n",
        "        names=['user_id', 'movie_id', 'rating', 'timestamp'], \n",
        "        usecols=['user_id', 'movie_id', 'rating'], engine='python')"
      ],
      "execution_count": 8,
      "outputs": []
    },
    {
      "cell_type": "code",
      "metadata": {
        "id": "pYTCBhk3g_Dj"
      },
      "source": [
        "movie_info = pd.read_csv(path + 'RecSysHSE/ml-1m/movies.dat', delimiter='::', header=None, \n",
        "        names=['movie_id', 'name', 'category'], engine='python')"
      ],
      "execution_count": 9,
      "outputs": []
    },
    {
      "cell_type": "code",
      "metadata": {
        "colab": {
          "base_uri": "https://localhost:8080/",
          "height": 139
        },
        "id": "JCoyN0LCg_Dj",
        "outputId": "f81c0ba8-48fa-457d-a0e2-7b6ea5266f72"
      },
      "source": [
        "movie_info = movie_info.sort_values(by = ['movie_id'])\n",
        "movie_info.head(3)"
      ],
      "execution_count": 10,
      "outputs": [
        {
          "output_type": "execute_result",
          "data": {
            "text/html": [
              "<div>\n",
              "<style scoped>\n",
              "    .dataframe tbody tr th:only-of-type {\n",
              "        vertical-align: middle;\n",
              "    }\n",
              "\n",
              "    .dataframe tbody tr th {\n",
              "        vertical-align: top;\n",
              "    }\n",
              "\n",
              "    .dataframe thead th {\n",
              "        text-align: right;\n",
              "    }\n",
              "</style>\n",
              "<table border=\"1\" class=\"dataframe\">\n",
              "  <thead>\n",
              "    <tr style=\"text-align: right;\">\n",
              "      <th></th>\n",
              "      <th>movie_id</th>\n",
              "      <th>name</th>\n",
              "      <th>category</th>\n",
              "    </tr>\n",
              "  </thead>\n",
              "  <tbody>\n",
              "    <tr>\n",
              "      <th>0</th>\n",
              "      <td>1</td>\n",
              "      <td>Toy Story (1995)</td>\n",
              "      <td>Animation|Children's|Comedy</td>\n",
              "    </tr>\n",
              "    <tr>\n",
              "      <th>1</th>\n",
              "      <td>2</td>\n",
              "      <td>Jumanji (1995)</td>\n",
              "      <td>Adventure|Children's|Fantasy</td>\n",
              "    </tr>\n",
              "    <tr>\n",
              "      <th>2</th>\n",
              "      <td>3</td>\n",
              "      <td>Grumpier Old Men (1995)</td>\n",
              "      <td>Comedy|Romance</td>\n",
              "    </tr>\n",
              "  </tbody>\n",
              "</table>\n",
              "</div>"
            ],
            "text/plain": [
              "   movie_id                     name                      category\n",
              "0         1         Toy Story (1995)   Animation|Children's|Comedy\n",
              "1         2           Jumanji (1995)  Adventure|Children's|Fantasy\n",
              "2         3  Grumpier Old Men (1995)                Comedy|Romance"
            ]
          },
          "metadata": {
            "tags": []
          },
          "execution_count": 10
        }
      ]
    },
    {
      "cell_type": "code",
      "metadata": {
        "id": "hucaO8Ytg_Dj"
      },
      "source": [
        "#ratings = ratings.sort_values(by = ['user_id', 'movie_id'])"
      ],
      "execution_count": 11,
      "outputs": []
    },
    {
      "cell_type": "code",
      "metadata": {
        "colab": {
          "base_uri": "https://localhost:8080/",
          "height": 139
        },
        "id": "rBDU0T8Pg_Dj",
        "outputId": "1d17d2e4-0149-45cd-b93a-224ac2659996"
      },
      "source": [
        "ratings.head(3)"
      ],
      "execution_count": 12,
      "outputs": [
        {
          "output_type": "execute_result",
          "data": {
            "text/html": [
              "<div>\n",
              "<style scoped>\n",
              "    .dataframe tbody tr th:only-of-type {\n",
              "        vertical-align: middle;\n",
              "    }\n",
              "\n",
              "    .dataframe tbody tr th {\n",
              "        vertical-align: top;\n",
              "    }\n",
              "\n",
              "    .dataframe thead th {\n",
              "        text-align: right;\n",
              "    }\n",
              "</style>\n",
              "<table border=\"1\" class=\"dataframe\">\n",
              "  <thead>\n",
              "    <tr style=\"text-align: right;\">\n",
              "      <th></th>\n",
              "      <th>user_id</th>\n",
              "      <th>movie_id</th>\n",
              "      <th>rating</th>\n",
              "    </tr>\n",
              "  </thead>\n",
              "  <tbody>\n",
              "    <tr>\n",
              "      <th>0</th>\n",
              "      <td>1</td>\n",
              "      <td>1193</td>\n",
              "      <td>5</td>\n",
              "    </tr>\n",
              "    <tr>\n",
              "      <th>1</th>\n",
              "      <td>1</td>\n",
              "      <td>661</td>\n",
              "      <td>3</td>\n",
              "    </tr>\n",
              "    <tr>\n",
              "      <th>2</th>\n",
              "      <td>1</td>\n",
              "      <td>914</td>\n",
              "      <td>3</td>\n",
              "    </tr>\n",
              "  </tbody>\n",
              "</table>\n",
              "</div>"
            ],
            "text/plain": [
              "   user_id  movie_id  rating\n",
              "0        1      1193       5\n",
              "1        1       661       3\n",
              "2        1       914       3"
            ]
          },
          "metadata": {
            "tags": []
          },
          "execution_count": 12
        }
      ]
    },
    {
      "cell_type": "markdown",
      "metadata": {
        "id": "sGgtFmLNg_Dj"
      },
      "source": [
        "## implicit dataset"
      ]
    },
    {
      "cell_type": "code",
      "metadata": {
        "id": "auGjY-Uyg_Dk"
      },
      "source": [
        "implicit_ratings = ratings.loc[(ratings['rating'] >= 4)]\n",
        "implicit_ratings['rating'] = 1"
      ],
      "execution_count": 13,
      "outputs": []
    },
    {
      "cell_type": "markdown",
      "metadata": {
        "id": "41fgI2byg_Dj"
      },
      "source": [
        "Нумерация фильмов и юзеров идет не подряд. Перенумеруем."
      ]
    },
    {
      "cell_type": "code",
      "metadata": {
        "id": "oWXOQ_6og_Dj"
      },
      "source": [
        "users = np.unique(implicit_ratings[\"user_id\"])\n",
        "user_old2new = {i: j+1 for (j, i) in enumerate(users)}\n",
        "user_num = len(users)\n",
        "movies = np.unique(movie_info[\"movie_id\"])\n",
        "movies_num = len(movies)\n",
        "old2new = {i: j+1 for (j, i) in enumerate(movies)}\n",
        "new_id = [i+1 for i, j in enumerate(movies)]"
      ],
      "execution_count": 14,
      "outputs": []
    },
    {
      "cell_type": "code",
      "metadata": {
        "id": "Gc0BUMaXg_Dj"
      },
      "source": [
        "movie_info['movie_id'] = movie_info['movie_id'].apply(lambda x: old2new[x]) "
      ],
      "execution_count": 15,
      "outputs": []
    },
    {
      "cell_type": "code",
      "metadata": {
        "id": "2h2DVI6gg_Dj"
      },
      "source": [
        "implicit_ratings['movie_id'] = implicit_ratings['movie_id'].apply(lambda x: old2new[x]) \n",
        "implicit_ratings['user_id'] = implicit_ratings['user_id'].apply(lambda x: user_old2new[x])"
      ],
      "execution_count": 16,
      "outputs": []
    },
    {
      "cell_type": "markdown",
      "metadata": {
        "id": "s9qEmH_Ewmzu"
      },
      "source": [
        "сделаем предподсчет просмотренных и непросмотренных фильмов для каждого юзера. и разделим данные на train и test"
      ]
    },
    {
      "cell_type": "code",
      "metadata": {
        "id": "DV95Yu-2yFYF"
      },
      "source": [
        "neg_dict = {}\n",
        "pos_dict = {}\n",
        "test = np.empty((0,2), int)\n",
        "train = np.empty((0,2), int)"
      ],
      "execution_count": 17,
      "outputs": []
    },
    {
      "cell_type": "code",
      "metadata": {
        "colab": {
          "base_uri": "https://localhost:8080/",
          "height": 67,
          "referenced_widgets": [
            "b86364edb3cd4c6fb048696d63ef3f94",
            "e356658b2ff7462ba44b8fa43e2bd952",
            "e04680f1f4e542109a3027ec3b277d8e",
            "f34628e8f2e640bca8b9f204157c4137",
            "044c69793d584ea2a409a662488002a7",
            "cdcb457859d84d0392571fbf111e008e",
            "cacab2bc7cbb424fa1df3388960c7fa6",
            "c411ffa8efd9487994cc0d05b524a7fb"
          ]
        },
        "id": "dkK0gqjPwlC9",
        "outputId": "8fa2a536-1363-4ce3-f71b-24b120841151"
      },
      "source": [
        "for i in tqdm(range(user_num)):\n",
        "    watched_movies_data = implicit_ratings[implicit_ratings['user_id'] == i+1]\n",
        "    watched_movies = set(watched_movies_data['movie_id'])\n",
        "    watched_movies_data = np.array(watched_movies_data)[:,:2]    \n",
        "    unwatched_movies = set(np.arange(1, movies_num + 1)) - watched_movies\n",
        "    unwatched_movies = np.array(list(unwatched_movies), dtype=int)\n",
        "    neg_dict[i+1] = unwatched_movies\n",
        "    pos_dict[i+1] = np.array(list(watched_movies), dtype=int)\n",
        "    if len(watched_movies) > 1:        \n",
        "        k = np.random.randint(0, len(watched_movies_data))\n",
        "        test = np.vstack((test, watched_movies_data[k]))\n",
        "        train = np.vstack((train, watched_movies_data[:k], watched_movies_data[k+1:]))\n",
        "        "
      ],
      "execution_count": 18,
      "outputs": [
        {
          "output_type": "display_data",
          "data": {
            "application/vnd.jupyter.widget-view+json": {
              "model_id": "b86364edb3cd4c6fb048696d63ef3f94",
              "version_minor": 0,
              "version_major": 2
            },
            "text/plain": [
              "HBox(children=(FloatProgress(value=0.0, max=6038.0), HTML(value='')))"
            ]
          },
          "metadata": {
            "tags": []
          }
        },
        {
          "output_type": "stream",
          "text": [
            "\n"
          ],
          "name": "stdout"
        }
      ]
    },
    {
      "cell_type": "markdown",
      "metadata": {
        "id": "nB6Pt07sg_Dk"
      },
      "source": [
        "## Вспомогательные функции"
      ]
    },
    {
      "cell_type": "code",
      "metadata": {
        "id": "rsBTNSkkg_Dk"
      },
      "source": [
        "def similar_items(item_id, model, N=10):\n",
        "    (item_biased, item_representations) = model.get_item_representations()\n",
        "    item_norms = np.linalg.norm(item_representations, axis=1).reshape(-1,1)\n",
        "    item_norms[item_norms == 0] = 1e-10\n",
        "    item_representations /= item_norms \n",
        "    scores = item_representations.dot(item_representations[item_id])    \n",
        "    best = np.argpartition(scores, -N)[-N:]\n",
        "    return sorted(zip(best, scores[best]), key=lambda x: x[1], reverse=True)"
      ],
      "execution_count": 19,
      "outputs": []
    },
    {
      "cell_type": "code",
      "metadata": {
        "id": "jULb8EMog_Dk"
      },
      "source": [
        "def recommendation(user_id, model, N=10):\n",
        "    watched_movies = pos_dict[user_id]\n",
        "    unwatched_movies = neg_dict[user_id]\n",
        "    scores = model.predict(user_id, unwatched_movies)\n",
        "    best = sorted(zip(unwatched_movies, scores), key=lambda x: x[1], reverse=True)[:N]\n",
        "    return best"
      ],
      "execution_count": 20,
      "outputs": []
    },
    {
      "cell_type": "code",
      "metadata": {
        "id": "ZYhxQcKEg_Dk"
      },
      "source": [
        "get_similars = lambda item_id, model : [(movie_info[movie_info[\"movie_id\"] == x[0]][\"name\"].to_string(), x[1])\n",
        "                                        for x in similar_items(item_id, model)]"
      ],
      "execution_count": 21,
      "outputs": []
    },
    {
      "cell_type": "code",
      "metadata": {
        "id": "PqBBJUCTg_Dk"
      },
      "source": [
        "get_recommendations = lambda user_id,  model: [(movie_info[movie_info[\"movie_id\"] == x[0]][\"name\"].to_string(), x[1]) \n",
        "                                               for x in recommendation(user_id, model)]"
      ],
      "execution_count": 22,
      "outputs": []
    },
    {
      "cell_type": "code",
      "metadata": {
        "id": "TDVQI4RBg_Dk"
      },
      "source": [
        "get_user_history = lambda user_id, implicit_ratings : [movie_info[movie_info[\"movie_id\"] == x][\"name\"].to_string() \n",
        "                                            for x in implicit_ratings[implicit_ratings[\"user_id\"] == user_id][\"movie_id\"]]"
      ],
      "execution_count": 23,
      "outputs": []
    },
    {
      "cell_type": "markdown",
      "metadata": {
        "id": "fMFSIIfh2usO"
      },
      "source": [
        "## Метрики "
      ]
    },
    {
      "cell_type": "code",
      "metadata": {
        "id": "jZ964pXh2ynR"
      },
      "source": [
        "def get_hitrate_ndcg(model, test, type_model = \"warp\", k = 10, neg_num = 100):\n",
        "    y_true = np.zeros(neg_num, dtype=int)\n",
        "    y_true[0] = 1 \n",
        "    ndcg = []\n",
        "    hitrate = []  \n",
        "    for i in tqdm(range(len(test))):\n",
        "        pos = test[i].copy()\n",
        "        u = pos[0]\n",
        "        neg = np.vstack((u * np.ones(neg_num - 1), np.random.choice(neg_dict[u], neg_num - 1, replace=False))).T\n",
        "        test_u = np.vstack((pos, neg))\n",
        "        if type_model == \"warp\":\n",
        "          y_pred = model.predict(test_u[:,0], test_u[:,1])\n",
        "        else:\n",
        "          y_pred = model.predict(test_u)\n",
        "        ndcg.append(ndcg_score([y_true], [y_pred], k=k))\n",
        "        hitrate.append((np.argsort(y_pred)[::-1][:k] == 0).sum())\n",
        "    print(f\"hit rate@k = {np.mean(hitrate):3f}\")\n",
        "    print(f\"nDCG@k = {np.mean(ndcg):3f}\")\n",
        "    return np.mean(hitrate), np.mean(ndcg)"
      ],
      "execution_count": 24,
      "outputs": []
    },
    {
      "cell_type": "markdown",
      "metadata": {
        "id": "KJKO2Njzg_Dk"
      },
      "source": [
        "## Sparse matrix"
      ]
    },
    {
      "cell_type": "code",
      "metadata": {
        "id": "VvKz-ANpg_Dk"
      },
      "source": [
        "users = train[:,0]\n",
        "movies = train[:,1]\n",
        "user_item = sp.coo_matrix((np.ones_like(users), (users, movies)), \n",
        "                          shape=(user_num+1, movies_num+1))\n",
        "train_csr = user_item.tocsr()"
      ],
      "execution_count": 25,
      "outputs": []
    },
    {
      "cell_type": "code",
      "metadata": {
        "id": "Aql3GsHwg_Dk"
      },
      "source": [
        "users = test[:,0]\n",
        "movies = test[:,1]\n",
        "user_item = sp.coo_matrix((np.ones_like(users), (users, movies)),\n",
        "                          shape=(user_num+1, movies_num+1))\n",
        "test_csr = user_item.tocsr()"
      ],
      "execution_count": 26,
      "outputs": []
    },
    {
      "cell_type": "markdown",
      "metadata": {
        "id": "ZOdVH5hS22g-"
      },
      "source": [
        "## WARP"
      ]
    },
    {
      "cell_type": "code",
      "metadata": {
        "id": "ORRUpqykg_Dk"
      },
      "source": [
        "warp = LightFM(no_components = 100,\n",
        "                loss='warp', \n",
        "                learning_schedule='adagrad',\n",
        "                learning_rate = 0.05,  \n",
        "                item_alpha = 1e-3,\n",
        "                user_alpha = 1e-3, \n",
        "                max_sampled = 100)\n"
      ],
      "execution_count": 27,
      "outputs": []
    },
    {
      "cell_type": "code",
      "metadata": {
        "colab": {
          "base_uri": "https://localhost:8080/"
        },
        "id": "hHQ8Tvy_g_Dk",
        "outputId": "dbf9005a-5918-4542-8564-15c1f1cc4a69"
      },
      "source": [
        "warp.fit(train_csr, epochs=50, verbose=True, num_threads=4)"
      ],
      "execution_count": 28,
      "outputs": [
        {
          "output_type": "stream",
          "text": [
            "Epoch: 100%|██████████| 50/50 [03:04<00:00,  3.69s/it]\n"
          ],
          "name": "stderr"
        },
        {
          "output_type": "execute_result",
          "data": {
            "text/plain": [
              "<lightfm.lightfm.LightFM at 0x7fc03a7fd518>"
            ]
          },
          "metadata": {
            "tags": []
          },
          "execution_count": 28
        }
      ]
    },
    {
      "cell_type": "code",
      "metadata": {
        "colab": {
          "base_uri": "https://localhost:8080/"
        },
        "id": "NRoTJLx5g_Dk",
        "outputId": "922c34f2-b247-4656-df1a-6b76a1ba8f03"
      },
      "source": [
        "get_similars(1, warp)"
      ],
      "execution_count": 29,
      "outputs": [
        {
          "output_type": "execute_result",
          "data": {
            "text/plain": [
              "[('0    Toy Story (1995)', 1.0),\n",
              " ('3045    Toy Story 2 (1999)', 0.9807798),\n",
              " ('1245    Groundhog Day (1993)', 0.96528685),\n",
              " (\"2286    Bug's Life, A (1998)\", 0.96473444),\n",
              " ('1179    Princess Bride, The (1987)', 0.94748497),\n",
              " ('2647    Ghostbusters (1984)', 0.9369629),\n",
              " ('584    Aladdin (1992)', 0.93679106),\n",
              " ('2252    Pleasantville (1998)', 0.93392384),\n",
              " ('1899    Breakfast Club, The (1985)', 0.9271436),\n",
              " (\"2849    Ferris Bueller's Day Off (1986)\", 0.9237184)]"
            ]
          },
          "metadata": {
            "tags": []
          },
          "execution_count": 29
        }
      ]
    },
    {
      "cell_type": "code",
      "metadata": {
        "colab": {
          "base_uri": "https://localhost:8080/"
        },
        "id": "km9b1gmeg_Dk",
        "outputId": "408faa61-61fa-4983-da95-655a0457f018"
      },
      "source": [
        "get_recommendations(4, warp)"
      ],
      "execution_count": 30,
      "outputs": [
        {
          "output_type": "execute_result",
          "data": {
            "text/plain": [
              "[('1178    Star Wars: Episode V - The Empire Strikes Back...', 0.85162973),\n",
              " ('585    Terminator 2: Judgment Day (1991)', 0.79979175),\n",
              " ('1192    Star Wars: Episode VI - Return of the Jedi (1983)', 0.7943251),\n",
              " ('108    Braveheart (1995)', 0.7731686),\n",
              " ('2502    Matrix, The (1999)', 0.7660923),\n",
              " ('2789    American Beauty (1999)', 0.74437946),\n",
              " ('589    Silence of the Lambs, The (1991)', 0.7317167),\n",
              " ('847    Godfather, The (1972)', 0.722844),\n",
              " ('2693    Sixth Sense, The (1999)', 0.7003754),\n",
              " ('1250    Back to the Future (1985)', 0.68164176)]"
            ]
          },
          "metadata": {
            "tags": []
          },
          "execution_count": 30
        }
      ]
    },
    {
      "cell_type": "code",
      "metadata": {
        "colab": {
          "base_uri": "https://localhost:8080/"
        },
        "id": "II1ycwGyg_Dk",
        "outputId": "4afcc43d-5b14-4c90-be05-2325c02730c1"
      },
      "source": [
        "get_user_history(4, implicit_ratings)"
      ],
      "execution_count": 31,
      "outputs": [
        {
          "output_type": "execute_result",
          "data": {
            "text/plain": [
              "['3399    Hustler, The (1961)',\n",
              " '2882    Fistful of Dollars, A (1964)',\n",
              " '1196    Alien (1979)',\n",
              " '1023    Die Hard (1988)',\n",
              " '257    Star Wars: Episode IV - A New Hope (1977)',\n",
              " '1959    Saving Private Ryan (1998)',\n",
              " '476    Jurassic Park (1993)',\n",
              " '1180    Raiders of the Lost Ark (1981)',\n",
              " '1885    Rocky (1976)',\n",
              " '1081    E.T. the Extra-Terrestrial (1982)',\n",
              " '3349    Thelma & Louise (1991)',\n",
              " '3633    Mad Max (1979)',\n",
              " '2297    King Kong (1933)',\n",
              " '1366    Jaws (1975)',\n",
              " '1183    Good, The Bad and The Ugly, The (1966)',\n",
              " '2623    Run Lola Run (Lola rennt) (1998)',\n",
              " '2878    Goldfinger (1964)',\n",
              " '1220    Terminator, The (1984)']"
            ]
          },
          "metadata": {
            "tags": []
          },
          "execution_count": 31
        }
      ]
    },
    {
      "cell_type": "code",
      "metadata": {
        "colab": {
          "base_uri": "https://localhost:8080/",
          "height": 102,
          "referenced_widgets": [
            "21f8c61815a14b18a0d0d3ee5060c783",
            "7e3a652bc1964c609388129c2e7dc11b",
            "860172da6a534ea5bfa110023e072f6a",
            "b3097fd3839345659519a13b00254271",
            "b422547413d147928a2c33250c1e57fa",
            "49eb12c631884c8abd7d507b4f2bfad8",
            "4251e921a8fe4d7a975b3d78cd9b0770",
            "ada3b320338e4e6c97894c23e65bc8ae"
          ]
        },
        "id": "s0M-CmpjIqdn",
        "outputId": "99f82fb1-1a85-4f82-999f-0dbb5205c01a"
      },
      "source": [
        "hr, ndcg  = get_hitrate_ndcg(warp, test)"
      ],
      "execution_count": 32,
      "outputs": [
        {
          "output_type": "display_data",
          "data": {
            "application/vnd.jupyter.widget-view+json": {
              "model_id": "21f8c61815a14b18a0d0d3ee5060c783",
              "version_minor": 0,
              "version_major": 2
            },
            "text/plain": [
              "HBox(children=(FloatProgress(value=0.0, max=6037.0), HTML(value='')))"
            ]
          },
          "metadata": {
            "tags": []
          }
        },
        {
          "output_type": "stream",
          "text": [
            "\n",
            "hit rate@k = 0.754514\n",
            "nDCG@k = 0.487776\n"
          ],
          "name": "stdout"
        }
      ]
    },
    {
      "cell_type": "markdown",
      "metadata": {
        "id": "KP1OsRg-g_Dk"
      },
      "source": [
        "# NCF"
      ]
    },
    {
      "cell_type": "code",
      "metadata": {
        "id": "5I8RPt16lcP1"
      },
      "source": [
        "device = torch.device('cuda' if torch.cuda.is_available() else \"cpu\")"
      ],
      "execution_count": 33,
      "outputs": []
    },
    {
      "cell_type": "code",
      "metadata": {
        "id": "2eNsKRI3g_Dk"
      },
      "source": [
        "class GMF(nn.Module):\n",
        "    def __init__(self, embedding_size, num_users, num_items, pos_dict = None, neg_dict = None):\n",
        "        super(GMF, self).__init__()\n",
        "        self.num_users = num_users\n",
        "        self.num_items = num_items\n",
        "        self.embedding_size = embedding_size\n",
        "        self.pos_dict = pos_dict\n",
        "        self.neg_dict = neg_dict\n",
        "\n",
        "        self.embedding_user = nn.Embedding(num_embeddings=self.num_users, embedding_dim=self.embedding_size)\n",
        "        self.embedding_item = nn.Embedding(num_embeddings=self.num_items, embedding_dim=self.embedding_size)\n",
        "\n",
        "        self.linear = nn.Linear(in_features=self.embedding_size, out_features=1)\n",
        "        self.sigmoid = nn.Sigmoid()\n",
        "        self.bceloss = nn.BCELoss()\n",
        "\n",
        "    def forward(self, user_id, item_id):\n",
        "        user_embedding = self.embedding_user(user_id)\n",
        "        item_embedding = self.embedding_item(item_id)\n",
        "        element_product = torch.mul(user_embedding, item_embedding)\n",
        "        score = self.sigmoid(self.linear(element_product))\n",
        "        return score\n",
        "\n",
        "    def part_forward(self, user_id, item_id):\n",
        "        user_embedding = self.embedding_user(user_id)\n",
        "        item_embedding = self.embedding_item(item_id)\n",
        "        element_product = torch.mul(user_embedding, item_embedding)\n",
        "        return element_product\n",
        "    \n",
        "    def loss(self, user_id, item_id, target):\n",
        "        y = self.forward(user_id, item_id)\n",
        "        return self.bceloss(y, target.reshape(-1, 1).float())\n",
        "\n",
        "    def predict(self, test):\n",
        "        y_pred = None    \n",
        "        loader = DataLoader(test, batch_size=512)\n",
        "        for x in loader:\n",
        "            users = x[:,0].to(device).long()\n",
        "            items = x[:,1].to(device).long()\n",
        "            out = self.forward(users, items)\n",
        "            if y_pred is None:\n",
        "                y_pred = out.squeeze().cpu().detach().numpy()\n",
        "            else:\n",
        "                y_pred = np.hstack((y_pred, out.squeeze().cpu().detach().numpy()))\n",
        "        return y_pred\n",
        "\n",
        "    def embeddings(self):\n",
        "        self.item_embed = self.embedding_item.weight.detach().cpu().numpy()\n",
        "        self.user_embed = self.embedding_user.weight.detach().cpu().numpy()\n",
        "        item_norms = np.linalg.norm(self.item_embed, axis=-1).reshape(-1, 1)\n",
        "        self.item_embed/=item_norms\n",
        "        user_norms = np.linalg.norm(self.user_embed, axis=-1).reshape(-1, 1)\n",
        "        self.user_embed/=user_norms\n",
        "\n",
        "    def similar_items(self, item_id, N=10):\n",
        "        scores = self.item_embed @ self.item_embed[item_id]\n",
        "        best = np.argpartition(scores, -N)[-N:]\n",
        "        return sorted(zip(best, scores[best]), key=lambda x: x[1], reverse=True)\n",
        "\n",
        "    def recommendation(self, user_id, N=10):\n",
        "        unwatched_movies = self.neg_dict[user_id]\n",
        "        user = np.array([user_id]*len(unwatched_movies))\n",
        "        data = np.concatenate([user.reshape(-1,1),unwatched_movies.reshape(-1,1)], 1)\n",
        "        scores = self.predict(data)\n",
        "        best = sorted(zip(unwatched_movies, scores), key=lambda x: x[1], reverse=True)[:N]\n",
        "        return best"
      ],
      "execution_count": 34,
      "outputs": []
    },
    {
      "cell_type": "code",
      "metadata": {
        "id": "CkT-bzYgg_Dk"
      },
      "source": [
        "class MLP(nn.Module):\n",
        "    def __init__(self, embedding_size, num_users, num_items, layers_size, pos_dict = None, neg_dict = None):\n",
        "        super(MLP, self).__init__()\n",
        "        self.num_users = num_users\n",
        "        self.num_items = num_items\n",
        "        self.embedding_size = embedding_size\n",
        "        self.layers_size = layers_size\n",
        "        self.pos_dict = pos_dict\n",
        "        self.neg_dict = neg_dict\n",
        "\n",
        "        self.embedding_user = nn.Embedding(num_embeddings=self.num_users, embedding_dim=self.embedding_size)\n",
        "        self.embedding_item = nn.Embedding(num_embeddings=self.num_items, embedding_dim=self.embedding_size)\n",
        "        \n",
        "        self.layers_size = [2*self.embedding_size] + self.layers_size\n",
        "        self.linear_layers = nn.ModuleList()\n",
        "        for idx, (in_size, out_size) in enumerate(zip(self.layers_size[:-1], self.layers_size[1:])):\n",
        "            self.linear_layers.append(nn.Linear(in_size, out_size))\n",
        "\n",
        "        self.linear = nn.Linear(in_features=self.layers_size[-1], out_features=1)\n",
        "        self.sigmoid = nn.Sigmoid()\n",
        "        self.relu = nn.ReLU()\n",
        "        self.bceloss = nn.BCELoss()\n",
        "        \n",
        "    def forward(self, user_id, item_id):\n",
        "        user_embedding = self.embedding_user(user_id)\n",
        "        item_embedding = self.embedding_item(item_id)\n",
        "        output = torch.cat([user_embedding, item_embedding], dim=-1)  # the concat latent vector\n",
        "        for linear in self.linear_layers:\n",
        "            output = self.relu(linear(output))\n",
        "            \n",
        "        logits = self.linear(output)\n",
        "        score = self.sigmoid(logits)\n",
        "        return score\n",
        "    \n",
        "    def part_forward(self, user_id, item_id):\n",
        "        user_embedding = self.embedding_user(user_id)\n",
        "        item_embedding = self.embedding_item(item_id)\n",
        "        output = torch.cat([user_embedding, item_embedding], dim=-1)  # the concat latent vector\n",
        "        for linear in self.linear_layers:\n",
        "            output = self.relu(linear(output))\n",
        "            \n",
        "        return output\n",
        "\n",
        "    def loss(self, user_id, item_id, target):\n",
        "        y = self.forward(user_id, item_id)\n",
        "        return self.bceloss(y, target.reshape(-1, 1).float())\n",
        "    \n",
        "    def predict(self, test):\n",
        "        y_pred = None    \n",
        "        loader = DataLoader(test, batch_size=512)\n",
        "        for x in loader:\n",
        "            users = x[:,0].to(device).long()\n",
        "            items = x[:,1].to(device).long()\n",
        "            out = self.forward(users, items)\n",
        "            if y_pred is None:\n",
        "                y_pred = out.squeeze().cpu().detach().numpy()\n",
        "            else:\n",
        "                y_pred = np.hstack((y_pred, out.squeeze().cpu().detach().numpy()))\n",
        "        return y_pred\n",
        "    \n",
        "    def embeddings(self):\n",
        "        self.item_embed = self.embedding_item.weight.detach().cpu().numpy()\n",
        "        self.user_embed = self.embedding_user.weight.detach().cpu().numpy()\n",
        "        item_norms = np.linalg.norm(self.item_embed, axis=-1).reshape(-1, 1)\n",
        "        self.item_embed/=item_norms\n",
        "        user_norms = np.linalg.norm(self.user_embed, axis=-1).reshape(-1, 1)\n",
        "        self.user_embed/=user_norms\n",
        "    \n",
        "    def similar_items(self, item_id, N=10):\n",
        "        scores = self.item_embed @ self.item_embed[item_id]\n",
        "        best = np.argpartition(scores, -N)[-N:]\n",
        "        return sorted(zip(best, scores[best]), key=lambda x: x[1], reverse=True)\n",
        "\n",
        "    def recommendation(self, user_id, N=10):\n",
        "        unwatched_movies = self.neg_dict[user_id]\n",
        "        user = np.array([user_id]*len(unwatched_movies))\n",
        "        data = np.concatenate([user.reshape(-1,1),unwatched_movies.reshape(-1,1)], 1)\n",
        "        scores = self.predict(data)\n",
        "        best = sorted(zip(unwatched_movies, scores), key=lambda x: x[1], reverse=True)[:N]\n",
        "        return best"
      ],
      "execution_count": 35,
      "outputs": []
    },
    {
      "cell_type": "code",
      "metadata": {
        "id": "1zMf51WZg_Dk"
      },
      "source": [
        "class NCF(nn.Module):\n",
        "    def __init__(self, embedding_size, num_users, num_items, layers_size, pos_dict, neg_dict):\n",
        "        super(NCF, self).__init__()\n",
        "        self.num_users = num_users\n",
        "        self.num_items = num_items\n",
        "        self.embedding_size = embedding_size\n",
        "        self.layers_size = layers_size\n",
        "        self.pos_dict = pos_dict\n",
        "        self.neg_dict = neg_dict\n",
        "        \n",
        "        self.MLP = MLP(embedding_size, num_users, num_items, layers_size)\n",
        "        self.GMF = GMF(embedding_size, num_users, num_items)\n",
        "        \n",
        "        self.linear = nn.Linear(layers_size[-1] + embedding_size, 1)\n",
        "        self.sigmoid = nn.Sigmoid()\n",
        "        self.bceloss = nn.BCELoss()\n",
        "        \n",
        "    def forward(self, user_id, item_id):\n",
        "        mlp_output = self.MLP.part_forward(user_id, item_id)\n",
        "        gmf_output = self.GMF.part_forward(user_id, item_id)\n",
        "        output = torch.cat([mlp_output, gmf_output], dim=-1)\n",
        "        score = self.sigmoid(self.linear(output))        \n",
        "        return score\n",
        "    \n",
        "    def loss(self, user_id, item_id, target):\n",
        "        y = self.forward(user_id, item_id)\n",
        "        return self.bceloss(y, target.reshape(-1, 1).float())\n",
        "\n",
        "    def predict(self, test):\n",
        "        y_pred = None    \n",
        "        loader = DataLoader(test, batch_size=512)\n",
        "        for x in loader:\n",
        "            users = x[:,0].to(device).long()\n",
        "            items = x[:,1].to(device).long()\n",
        "            out = self.forward(users, items)\n",
        "            if y_pred is None:\n",
        "                y_pred = out.squeeze().cpu().detach().numpy()\n",
        "            else:\n",
        "                y_pred = np.hstack((y_pred, out.squeeze().cpu().detach().numpy()))\n",
        "        return y_pred\n",
        "\n",
        "    def embeddings(self):\n",
        "        self.item_embed = np.hstack((self.GMF.embedding_item.weight.detach().cpu().numpy(), \n",
        "                            self.MLP.embedding_item.weight.detach().cpu().numpy()))\n",
        "        self.user_embed = np.hstack((self.GMF.embedding_user.weight.detach().cpu().numpy(), \n",
        "                            self.MLP.embedding_user.weight.detach().cpu().numpy()))\n",
        "        item_norms = np.linalg.norm(self.item_embed, axis=-1).reshape(-1, 1)\n",
        "        self.item_embed/=item_norms\n",
        "        user_norms = np.linalg.norm(self.user_embed, axis=-1).reshape(-1, 1)\n",
        "        self.user_embed/=user_norms\n",
        "    \n",
        "    def similar_items(self, item_id, N=10):\n",
        "        scores = self.item_embed @ self.item_embed[item_id]\n",
        "        best = np.argpartition(scores, -N)[-N:]\n",
        "        return sorted(zip(best, scores[best]), key=lambda x: x[1], reverse=True)\n",
        "\n",
        "    def recommendation(self, user_id, N=10):\n",
        "        unwatched_movies = self.neg_dict[user_id]\n",
        "        user = np.array([user_id]*len(unwatched_movies))\n",
        "        data = np.concatenate([user.reshape(-1,1),unwatched_movies.reshape(-1,1)], 1)\n",
        "        scores = self.predict(data)\n",
        "        best = sorted(zip(unwatched_movies, scores), key=lambda x: x[1], reverse=True)[:N]\n",
        "        return best"
      ],
      "execution_count": 36,
      "outputs": []
    },
    {
      "cell_type": "code",
      "metadata": {
        "id": "ieOuXlRsg_Dk"
      },
      "source": [
        "class Data:\n",
        "    def __init__(self, implicit_ratings, unwatched_movies):\n",
        "        self.implicit_ratings = implicit_ratings\n",
        "        self.unique_users = np.unique(implicit_ratings[:,0])\n",
        "        self.unique_items = np.unique(implicit_ratings[:,1])\n",
        "        self.treshold = len(self.implicit_ratings)\n",
        "        \n",
        "        self.watched_movies = {}\n",
        "        self.unwatched_movies = unwatched_movies\n",
        "\n",
        "        for u in range(1, len(self.unique_users) + 1):\n",
        "            self.watched_movies[u] = np.array(implicit_ratings[implicit_ratings[:,0] == u][:,1], dtype=int)\n",
        "        \n",
        "\n",
        "    def __getitem__(self, index):\n",
        "        if index < self.treshold:\n",
        "            user, item = self.implicit_ratings[index,0], self.implicit_ratings[index,1]\n",
        "            y=1\n",
        "        else:\n",
        "            user = np.random.choice(self.unique_users, 1)[0]\n",
        "            item = np.random.choice(self.unwatched_movies[user], 1)[0]\n",
        "            y=0\n",
        "        return user, item, y\n",
        "\n",
        "    def __len__(self):\n",
        "        return 2*self.treshold"
      ],
      "execution_count": 37,
      "outputs": []
    },
    {
      "cell_type": "code",
      "metadata": {
        "id": "QfxUDSLig_Dk"
      },
      "source": [
        "def train_model(model, train_loader, optimizer, epoch):\n",
        "    train_losses = []\n",
        "    for e in tqdm(range(epoch)):\n",
        "        model.train()    \n",
        "        epoch_losses = []\n",
        "        for user_id, item_id, target in train_loader:\n",
        "            user_id = user_id.to(device)\n",
        "            item_id = item_id.to(device)\n",
        "            target = target.to(device)\n",
        "            loss = model.loss(user_id, item_id, target)\n",
        "            optimizer.zero_grad()\n",
        "            loss.backward()\n",
        "            optimizer.step()\n",
        "            epoch_losses.append(loss.item())\n",
        "        if e%5 == 0:\n",
        "            print(f'Epoch {e}, Train loss {np.mean(epoch_losses)}')\n",
        "        train_losses.append(np.mean(epoch_losses))\n",
        "\n",
        "    return train_losses"
      ],
      "execution_count": 38,
      "outputs": []
    },
    {
      "cell_type": "code",
      "metadata": {
        "id": "dn8Rtmu4CQVH"
      },
      "source": [
        "get_similars = lambda item_id, model: [(movie_info[movie_info[\"movie_id\"] == x[0]][\"name\"].to_string(), x[1])\n",
        "                                        for x in model.similar_items(item_id)]\n",
        "\n",
        "get_recommendations = lambda user_id, model: [(movie_info[movie_info[\"movie_id\"] == x[0]][\"name\"].to_string(), x[1]) \n",
        "                                        for x in model.recommendation(user_id)]"
      ],
      "execution_count": 39,
      "outputs": []
    },
    {
      "cell_type": "code",
      "metadata": {
        "id": "Erq9ceW4g_Dk"
      },
      "source": [
        "train_data = Data(train, neg_dict)\n",
        "train_loader = DataLoader(train_data, batch_size=1024, shuffle=True)"
      ],
      "execution_count": 40,
      "outputs": []
    },
    {
      "cell_type": "code",
      "metadata": {
        "id": "qAbE-zYYAqNg"
      },
      "source": [
        "num_items = np.max(implicit_ratings[\"movie_id\"])+1\n",
        "num_users = np.max(implicit_ratings['user_id'])+1"
      ],
      "execution_count": 41,
      "outputs": []
    },
    {
      "cell_type": "code",
      "metadata": {
        "colab": {
          "base_uri": "https://localhost:8080/",
          "height": 244,
          "referenced_widgets": [
            "9a283e3c73e2419cbb7294fdc8740b1b",
            "4fb9a441c8f146879d99764efba792ba",
            "6f9f21584a2e4f2683ba7e0f4b524175",
            "4fc21f3bc0774d6a97600ab785ac40a0",
            "2ba104a5693e4dbcbd8946e5d19e8a5c",
            "6b93e17ee6fe4c05aae457f6748e8e14",
            "9f2ca9129bdf47caa790e90c862e710e",
            "395e25b152904b45a497fd754cc3445b"
          ]
        },
        "id": "f3nmo_6t_Eg4",
        "outputId": "a00eb9f9-f0b6-4b8d-b2e4-632d73ef599c"
      },
      "source": [
        "mlp = MLP(embedding_size = 100,num_users = num_users, num_items = num_items, layers_size = [100, 128, 100], pos_dict=pos_dict,\n",
        "          neg_dict = neg_dict).to(device)\n",
        "optimizer = optim.Adam(mlp.parameters(), 1e-2)\n",
        "train_loss = train_model(mlp, train_loader, optimizer, epoch = 50)"
      ],
      "execution_count": 42,
      "outputs": [
        {
          "output_type": "display_data",
          "data": {
            "application/vnd.jupyter.widget-view+json": {
              "model_id": "9a283e3c73e2419cbb7294fdc8740b1b",
              "version_minor": 0,
              "version_major": 2
            },
            "text/plain": [
              "HBox(children=(FloatProgress(value=0.0, max=50.0), HTML(value='')))"
            ]
          },
          "metadata": {
            "tags": []
          }
        },
        {
          "output_type": "stream",
          "text": [
            "Epoch 0, Train loss 0.39122400933997237\n",
            "Epoch 5, Train loss 0.3166126806905373\n",
            "Epoch 10, Train loss 0.2496626285313488\n",
            "Epoch 15, Train loss 0.21810668747094894\n",
            "Epoch 20, Train loss 0.19624828575379985\n",
            "Epoch 25, Train loss 0.20138831992747544\n",
            "Epoch 30, Train loss 0.17470271920235894\n",
            "Epoch 35, Train loss 0.16399831495669892\n",
            "Epoch 40, Train loss 0.156631879495095\n",
            "Epoch 45, Train loss 0.1513786992634372\n",
            "\n"
          ],
          "name": "stdout"
        }
      ]
    },
    {
      "cell_type": "code",
      "metadata": {
        "id": "y9CAgNnKS0hF"
      },
      "source": [
        "torch.save(mlp.state_dict(), 'mlp.pcl')"
      ],
      "execution_count": 43,
      "outputs": []
    },
    {
      "cell_type": "code",
      "metadata": {
        "colab": {
          "base_uri": "https://localhost:8080/"
        },
        "id": "3VehhBsI_R-8",
        "outputId": "d0ab95f5-08f9-4817-e9ce-fd2a734e3185"
      },
      "source": [
        "mlp.embeddings()\n",
        "get_similars(1, mlp)"
      ],
      "execution_count": 44,
      "outputs": [
        {
          "output_type": "execute_result",
          "data": {
            "text/plain": [
              "[('0    Toy Story (1995)', 0.99999994),\n",
              " ('3045    Toy Story 2 (1999)', 0.78138727),\n",
              " ('1245    Groundhog Day (1993)', 0.76614547),\n",
              " ('33    Babe (1995)', 0.76446337),\n",
              " ('2252    Pleasantville (1998)', 0.69051147),\n",
              " ('2327    Shakespeare in Love (1998)', 0.6794597),\n",
              " ('584    Aladdin (1992)', 0.6749525),\n",
              " (\"2286    Bug's Life, A (1998)\", 0.66480017),\n",
              " ('2255    Life Is Beautiful (La Vita � bella) (1997)', 0.6588627),\n",
              " ('257    Star Wars: Episode IV - A New Hope (1977)', 0.6576757)]"
            ]
          },
          "metadata": {
            "tags": []
          },
          "execution_count": 44
        }
      ]
    },
    {
      "cell_type": "code",
      "metadata": {
        "colab": {
          "base_uri": "https://localhost:8080/"
        },
        "id": "b3cWGam7BCp7",
        "outputId": "a5cf690e-b9da-443e-a4bf-650f4920a0ae"
      },
      "source": [
        "get_recommendations(4, mlp)"
      ],
      "execution_count": 45,
      "outputs": [
        {
          "output_type": "execute_result",
          "data": {
            "text/plain": [
              "[('1178    Star Wars: Episode V - The Empire Strikes Back...', 0.98679954),\n",
              " ('585    Terminator 2: Judgment Day (1991)', 0.97635853),\n",
              " ('1182    Aliens (1986)', 0.9747726),\n",
              " ('2502    Matrix, The (1999)', 0.9683169),\n",
              " ('1192    Star Wars: Episode VI - Return of the Jedi (1983)', 0.96127856),\n",
              " ('847    Godfather, The (1972)', 0.9523395),\n",
              " (\"1176    One Flew Over the Cuckoo's Nest (1975)\", 0.95040756),\n",
              " ('1203    Godfather: Part II, The (1974)', 0.94998944),\n",
              " ('1568    Hunt for Red October, The (1990)', 0.9387556),\n",
              " (\"523    Schindler's List (1993)\", 0.93607605)]"
            ]
          },
          "metadata": {
            "tags": []
          },
          "execution_count": 45
        }
      ]
    },
    {
      "cell_type": "code",
      "metadata": {
        "colab": {
          "base_uri": "https://localhost:8080/",
          "height": 102,
          "referenced_widgets": [
            "1a7633ac4e19422598221eba920c0d67",
            "67438a32a81f448d8c1c0efcf2bd5b88",
            "9c39c21f74cd4b1083cc6c4d9702c20a",
            "ba913f53cd004133bd14ef14fb8910b1",
            "3c0c2418a89e445fb77063b39070fb52",
            "8eaf3d39fea94d1a90d69f5c7a2a1c17",
            "a04369002da44e84a3b892af09bbf40d",
            "d02f13ddc88e42a4864e71c409e1baa8"
          ]
        },
        "id": "x2uClFy3BUO1",
        "outputId": "56ef60c0-6f70-4dc7-faab-07ba7e6a3990"
      },
      "source": [
        "hr, ndcg = get_hitrate_ndcg(mlp, test, \"mlp\")"
      ],
      "execution_count": 46,
      "outputs": [
        {
          "output_type": "display_data",
          "data": {
            "application/vnd.jupyter.widget-view+json": {
              "model_id": "1a7633ac4e19422598221eba920c0d67",
              "version_minor": 0,
              "version_major": 2
            },
            "text/plain": [
              "HBox(children=(FloatProgress(value=0.0, max=6037.0), HTML(value='')))"
            ]
          },
          "metadata": {
            "tags": []
          }
        },
        {
          "output_type": "stream",
          "text": [
            "\n",
            "hit rate@k = 0.790459\n",
            "nDCG@k = 0.534109\n"
          ],
          "name": "stdout"
        }
      ]
    },
    {
      "cell_type": "code",
      "metadata": {
        "colab": {
          "base_uri": "https://localhost:8080/",
          "height": 244,
          "referenced_widgets": [
            "bde691bbc2c4479a8a97b1c85aef852d",
            "aa7bc67e9e104a338ab09c9479ad7f9f",
            "a6d50ef8df96409ab3b9cc1513cbabbd",
            "a9b72d2cecae4ff9a610a3f846f1e08e",
            "6a4eb8c4f00f41eea4a756d10fce282d",
            "b58d0835ccb1478095375b7cb81f0503",
            "3f1b93b85d6c4142ae62b66f323b43c4",
            "e49d56a3730f4f37a6ae886f541c9ee9"
          ]
        },
        "id": "jD1E54LCAOQZ",
        "outputId": "823991a6-3934-4f35-9dbf-737c3884e0d4"
      },
      "source": [
        "gmf = GMF(embedding_size = 100,num_users = num_users, num_items = num_items,\n",
        "          pos_dict = pos_dict, neg_dict = neg_dict).to(device)\n",
        "optimizer = optim.Adam(gmf.parameters(), 1e-2)\n",
        "train_loss = train_model(gmf, train_loader, optimizer, epoch = 50)"
      ],
      "execution_count": 47,
      "outputs": [
        {
          "output_type": "display_data",
          "data": {
            "application/vnd.jupyter.widget-view+json": {
              "model_id": "bde691bbc2c4479a8a97b1c85aef852d",
              "version_minor": 0,
              "version_major": 2
            },
            "text/plain": [
              "HBox(children=(FloatProgress(value=0.0, max=50.0), HTML(value='')))"
            ]
          },
          "metadata": {
            "tags": []
          }
        },
        {
          "output_type": "stream",
          "text": [
            "Epoch 0, Train loss 0.6714465039239513\n",
            "Epoch 5, Train loss 0.2200488453905145\n",
            "Epoch 10, Train loss 0.14432806055322825\n",
            "Epoch 15, Train loss 0.1234195827231776\n",
            "Epoch 20, Train loss 0.11199711296680591\n",
            "Epoch 25, Train loss 0.10440267960159041\n",
            "Epoch 30, Train loss 0.09993861635758293\n",
            "Epoch 35, Train loss 0.09544036448966685\n",
            "Epoch 40, Train loss 0.0921381546901338\n",
            "Epoch 45, Train loss 0.09060814836323797\n",
            "\n"
          ],
          "name": "stdout"
        }
      ]
    },
    {
      "cell_type": "code",
      "metadata": {
        "id": "MY-DVzbAS4dX"
      },
      "source": [
        "torch.save(gmf.state_dict(), 'gmf.pcl')"
      ],
      "execution_count": 48,
      "outputs": []
    },
    {
      "cell_type": "code",
      "metadata": {
        "colab": {
          "base_uri": "https://localhost:8080/"
        },
        "id": "YUifU7swDOp3",
        "outputId": "319edffe-102d-4702-8182-9e865bef46e1"
      },
      "source": [
        "gmf.embeddings()\n",
        "get_similars(1, gmf)"
      ],
      "execution_count": 49,
      "outputs": [
        {
          "output_type": "execute_result",
          "data": {
            "text/plain": [
              "[('0    Toy Story (1995)', 0.9999999),\n",
              " ('3045    Toy Story 2 (1999)', 0.6243062),\n",
              " ('584    Aladdin (1992)', 0.45052922),\n",
              " ('33    Babe (1995)', 0.44816482),\n",
              " ('1838    Mulan (1998)', 0.4360506),\n",
              " ('2252    Pleasantville (1998)', 0.42264846),\n",
              " ('1132    Wrong Trousers, The (1993)', 0.42195034),\n",
              " ('1595    Full Monty, The (1997)', 0.42092842),\n",
              " (\"2286    Bug's Life, A (1998)\", 0.41080678),\n",
              " ('1205    Grand Day Out, A (1992)', 0.39158303)]"
            ]
          },
          "metadata": {
            "tags": []
          },
          "execution_count": 49
        }
      ]
    },
    {
      "cell_type": "code",
      "metadata": {
        "colab": {
          "base_uri": "https://localhost:8080/"
        },
        "id": "cTEj3nBgBMMO",
        "outputId": "4f0ff6ad-57c4-4a5a-9cd2-157c35a6d9c5"
      },
      "source": [
        "get_recommendations(4, gmf)"
      ],
      "execution_count": 50,
      "outputs": [
        {
          "output_type": "execute_result",
          "data": {
            "text/plain": [
              "[('585    Terminator 2: Judgment Day (1991)', 0.9952206),\n",
              " ('1182    Aliens (1986)', 0.9891985),\n",
              " ('108    Braveheart (1995)', 0.98347014),\n",
              " ('453    Fugitive, The (1993)', 0.9771218),\n",
              " ('2502    Matrix, The (1999)', 0.9709253),\n",
              " ('1928    Exorcist, The (1973)', 0.96222025),\n",
              " ('2789    American Beauty (1999)', 0.945756),\n",
              " ('3634    Mad Max 2 (a.k.a. The Road Warrior) (1981)', 0.8844766),\n",
              " ('3509    Gladiator (2000)', 0.8653352),\n",
              " ('2219    Thing, The (1982)', 0.841308)]"
            ]
          },
          "metadata": {
            "tags": []
          },
          "execution_count": 50
        }
      ]
    },
    {
      "cell_type": "code",
      "metadata": {
        "colab": {
          "base_uri": "https://localhost:8080/",
          "height": 102,
          "referenced_widgets": [
            "31f3f72f797d41c9adb73d5d18f57f17",
            "4cdfaf4005c0489590a5e552d4739b20",
            "0aa7e0e020e84d2aa560ba1ea2a0e72c",
            "e387ea9728e643f6b9fc62c7973ded1c",
            "0013bdfb1f1a4d94bd27b12606553702",
            "413e5ccaa9a54d8f98ca8f0187467287",
            "8523968accbc4ef4bbfc91c26038620a",
            "622512455cbb4a5ea491742688eb413d"
          ]
        },
        "id": "rNtZ92ftBXzX",
        "outputId": "ee55338f-63b8-4578-ff16-4ea8865f32ad"
      },
      "source": [
        "hr, ndcg = get_hitrate_ndcg(gmf, test, \"gmf\")"
      ],
      "execution_count": 51,
      "outputs": [
        {
          "output_type": "display_data",
          "data": {
            "application/vnd.jupyter.widget-view+json": {
              "model_id": "31f3f72f797d41c9adb73d5d18f57f17",
              "version_minor": 0,
              "version_major": 2
            },
            "text/plain": [
              "HBox(children=(FloatProgress(value=0.0, max=6037.0), HTML(value='')))"
            ]
          },
          "metadata": {
            "tags": []
          }
        },
        {
          "output_type": "stream",
          "text": [
            "\n",
            "hit rate@k = 0.786815\n",
            "nDCG@k = 0.541319\n"
          ],
          "name": "stdout"
        }
      ]
    },
    {
      "cell_type": "markdown",
      "metadata": {
        "id": "bccVF32A6sHj"
      },
      "source": [
        "Воспользуемся уже обученными моделями. Объеденим их и еще чуть-чуть поучим"
      ]
    },
    {
      "cell_type": "code",
      "metadata": {
        "colab": {
          "base_uri": "https://localhost:8080/",
          "height": 102,
          "referenced_widgets": [
            "df54df772ffe423a9197bc80fe82f1d8",
            "9529422b100c4892ac94bdd4fc7e9464",
            "2a9066590a8d45c7b0859cf0e24719ac",
            "1ba32e2610e842b0bce0a972cf882641",
            "5966f4dd5bfd4de992a00287e22521d8",
            "bdbca054f81d4311b3c792c287bac8d3",
            "b32b0f243cea4ff8926957c3a9fa150f",
            "34afb4c94d7b421889741ddc205ed01b"
          ]
        },
        "id": "wDiuo8Q2g_Dk",
        "outputId": "e33421b2-4063-4fad-e89c-2c83c2b1506c"
      },
      "source": [
        "ncf = NCF(embedding_size = 100, num_users = num_users, num_items = num_items, layers_size = [100, 128, 100], pos_dict = pos_dict, neg_dict = neg_dict)\n",
        "ncf.to(device)\n",
        "ncf.GMF.load_state_dict(torch.load('gmf.pcl'))\n",
        "ncf.MLP.load_state_dict(torch.load('mlp.pcl'))\n",
        "optimizer = optim.Adam(ncf.parameters(), 1e-2)\n",
        "train_loss = train_model(ncf, train_loader, optimizer, epoch = 10)"
      ],
      "execution_count": 52,
      "outputs": [
        {
          "output_type": "display_data",
          "data": {
            "application/vnd.jupyter.widget-view+json": {
              "model_id": "df54df772ffe423a9197bc80fe82f1d8",
              "version_minor": 0,
              "version_major": 2
            },
            "text/plain": [
              "HBox(children=(FloatProgress(value=0.0, max=10.0), HTML(value='')))"
            ]
          },
          "metadata": {
            "tags": []
          }
        },
        {
          "output_type": "stream",
          "text": [
            "Epoch 0, Train loss 0.08917954689722589\n",
            "Epoch 5, Train loss 0.07750362787301913\n",
            "\n"
          ],
          "name": "stdout"
        }
      ]
    },
    {
      "cell_type": "code",
      "metadata": {
        "id": "F9tYwfJncEqd"
      },
      "source": [
        "ncf.embeddings()"
      ],
      "execution_count": 53,
      "outputs": []
    },
    {
      "cell_type": "code",
      "metadata": {
        "colab": {
          "base_uri": "https://localhost:8080/"
        },
        "id": "aYnmDqnFBrYD",
        "outputId": "fb0c9719-f695-4ef0-c3ba-b4838e0dd62e"
      },
      "source": [
        "get_similars(1, ncf)"
      ],
      "execution_count": 54,
      "outputs": [
        {
          "output_type": "execute_result",
          "data": {
            "text/plain": [
              "[('0    Toy Story (1995)', 1.0),\n",
              " ('3045    Toy Story 2 (1999)', 0.6972691),\n",
              " ('33    Babe (1995)', 0.66174006),\n",
              " ('1245    Groundhog Day (1993)', 0.6448264),\n",
              " ('584    Aladdin (1992)', 0.60095346),\n",
              " ('2252    Pleasantville (1998)', 0.5908523),\n",
              " (\"2286    Bug's Life, A (1998)\", 0.5785),\n",
              " ('2327    Shakespeare in Love (1998)', 0.5590389),\n",
              " ('2012    Little Mermaid, The (1989)', 0.55268794),\n",
              " ('257    Star Wars: Episode IV - A New Hope (1977)', 0.5475798)]"
            ]
          },
          "metadata": {
            "tags": []
          },
          "execution_count": 54
        }
      ]
    },
    {
      "cell_type": "code",
      "metadata": {
        "colab": {
          "base_uri": "https://localhost:8080/"
        },
        "id": "IKKY5OgMB5Ot",
        "outputId": "072bf7d4-7e4b-49bf-f10a-5f036428de99"
      },
      "source": [
        "get_recommendations(4, ncf)"
      ],
      "execution_count": 55,
      "outputs": [
        {
          "output_type": "execute_result",
          "data": {
            "text/plain": [
              "[('585    Terminator 2: Judgment Day (1991)', 0.99980134),\n",
              " ('1182    Aliens (1986)', 0.9984296),\n",
              " ('2502    Matrix, The (1999)', 0.99757785),\n",
              " ('1178    Star Wars: Episode V - The Empire Strikes Back...', 0.9775588),\n",
              " ('108    Braveheart (1995)', 0.9618492),\n",
              " ('453    Fugitive, The (1993)', 0.960838),\n",
              " ('3634    Mad Max 2 (a.k.a. The Road Warrior) (1981)', 0.8627343),\n",
              " ('3458    Predator (1987)', 0.49480632),\n",
              " ('1385    Last of the Mohicans, The (1992)', 0.4877126),\n",
              " ('1267    Ben-Hur (1959)', 0.39113244)]"
            ]
          },
          "metadata": {
            "tags": []
          },
          "execution_count": 55
        }
      ]
    },
    {
      "cell_type": "code",
      "metadata": {
        "colab": {
          "base_uri": "https://localhost:8080/",
          "height": 102,
          "referenced_widgets": [
            "f9441c963ed841a3be8ea350ea0f2e02",
            "1595f0f85510441fb35894e88f325f59",
            "76c9737a4d4a40ad8ed776c418644fc2",
            "2141458db6fa43b3b9115f8ce24549aa",
            "998a7bddaee04c358aaf21f1d6d60b3b",
            "80167fbcffe549e0bc20f846d100afd2",
            "d21b4fd8512541359e707b1dafbe8366",
            "56ed0e9ff70943b293af70d2e42cea48"
          ]
        },
        "id": "AvTfPBm8SfMU",
        "outputId": "30dddbd2-f786-45c1-a811-89f74183dcf7"
      },
      "source": [
        "hr, ndcg = get_hitrate_ndcg(ncf, test, \"ncf\")"
      ],
      "execution_count": 56,
      "outputs": [
        {
          "output_type": "display_data",
          "data": {
            "application/vnd.jupyter.widget-view+json": {
              "model_id": "f9441c963ed841a3be8ea350ea0f2e02",
              "version_minor": 0,
              "version_major": 2
            },
            "text/plain": [
              "HBox(children=(FloatProgress(value=0.0, max=6037.0), HTML(value='')))"
            ]
          },
          "metadata": {
            "tags": []
          }
        },
        {
          "output_type": "stream",
          "text": [
            "\n",
            "hit rate@k = 0.803048\n",
            "nDCG@k = 0.557149\n"
          ],
          "name": "stdout"
        }
      ]
    },
    {
      "cell_type": "code",
      "metadata": {
        "id": "RkHHzTmg6S_t"
      },
      "source": [
        "Объединение gmf и mlp улучшают hit rate и nDCG. Хотя и по отдельности обе сетки показывают хороший результат. Нейронки дают метрики лучше warp"
      ],
      "execution_count": null,
      "outputs": []
    }
  ]
}