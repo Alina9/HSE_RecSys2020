{
  "nbformat": 4,
  "nbformat_minor": 0,
  "metadata": {
    "kernelspec": {
      "display_name": "Python 3",
      "language": "python",
      "name": "python3"
    },
    "language_info": {
      "codemirror_mode": {
        "name": "ipython",
        "version": 3
      },
      "file_extension": ".py",
      "mimetype": "text/x-python",
      "name": "python",
      "nbconvert_exporter": "python",
      "pygments_lexer": "ipython3",
      "version": "3.7.3"
    },
    "colab": {
      "name": "HW1.ipynb",
      "provenance": [],
      "collapsed_sections": []
    },
    "accelerator": "GPU"
  },
  "cells": [
    {
      "cell_type": "markdown",
      "metadata": {
        "id": "_IStDe2MH1Rq"
      },
      "source": [
        "### Матричные факторизации"
      ]
    },
    {
      "cell_type": "markdown",
      "metadata": {
        "id": "hPkLjS-YH1Rr"
      },
      "source": [
        "В данной работе вам предстоит познакомиться с практической стороной матричных разложений.\n",
        "Работа поделена на 4 задания:\n",
        "1. Вам необходимо реализовать SVD разложения используя SGD на explicit данных\n",
        "2. Вам необходимо реализовать матричное разложения используя ALS на implicit данных\n",
        "3. Вам необходимо реализовать матричное разложения используя BPR(pair-wise loss) на implicit данных\n",
        "4. Вам необходимо реализовать матричное разложения используя WARP(list-wise loss) на implicit данных\n",
        "\n",
        "Мягкий дедлайн 28 Сентября (пишутся замечания, выставляется оценка, есть возможность исправить до жесткого дедлайна)\n",
        "\n",
        "Жесткий дедлайн 5 Октября (Итоговая проверка)"
      ]
    },
    {
      "cell_type": "code",
      "metadata": {
        "id": "qinXyW5oH96U",
        "outputId": "d1d7f320-e390-4a5d-f099-bdbf356ea32b",
        "colab": {
          "base_uri": "https://localhost:8080/"
        }
      },
      "source": [
        "!pip install implicit"
      ],
      "execution_count": 1,
      "outputs": [
        {
          "output_type": "stream",
          "text": [
            "Collecting implicit\n",
            "\u001b[?25l  Downloading https://files.pythonhosted.org/packages/bc/07/c0121884722d16e2c5beeb815f6b84b41cbf22e738e4075f1475be2791bc/implicit-0.4.4.tar.gz (1.1MB)\n",
            "\u001b[K     |████████████████████████████████| 1.1MB 2.8MB/s \n",
            "\u001b[?25hRequirement already satisfied: numpy in /usr/local/lib/python3.6/dist-packages (from implicit) (1.18.5)\n",
            "Requirement already satisfied: scipy>=0.16 in /usr/local/lib/python3.6/dist-packages (from implicit) (1.4.1)\n",
            "Requirement already satisfied: tqdm>=4.27 in /usr/local/lib/python3.6/dist-packages (from implicit) (4.41.1)\n",
            "Building wheels for collected packages: implicit\n",
            "  Building wheel for implicit (setup.py) ... \u001b[?25l\u001b[?25hdone\n",
            "  Created wheel for implicit: filename=implicit-0.4.4-cp36-cp36m-linux_x86_64.whl size=3419421 sha256=3a794817084451a00ef560c7813e3b16259a7256df44c9a848e2b676995a3688\n",
            "  Stored in directory: /root/.cache/pip/wheels/bf/d4/ec/fd4f622fcbefb7521f149905295b2c26adecb23af38aa28217\n",
            "Successfully built implicit\n",
            "Installing collected packages: implicit\n",
            "Successfully installed implicit-0.4.4\n"
          ],
          "name": "stdout"
        }
      ]
    },
    {
      "cell_type": "code",
      "metadata": {
        "id": "pLbjtS8XJYAB",
        "outputId": "cf00c357-e7c3-473d-8132-16686d1e8d02",
        "colab": {
          "base_uri": "https://localhost:8080/"
        }
      },
      "source": [
        "!pip install lightfm"
      ],
      "execution_count": 2,
      "outputs": [
        {
          "output_type": "stream",
          "text": [
            "Collecting lightfm\n",
            "\u001b[?25l  Downloading https://files.pythonhosted.org/packages/e9/8e/5485ac5a8616abe1c673d1e033e2f232b4319ab95424b42499fabff2257f/lightfm-1.15.tar.gz (302kB)\n",
            "\r\u001b[K     |█                               | 10kB 26.4MB/s eta 0:00:01\r\u001b[K     |██▏                             | 20kB 1.6MB/s eta 0:00:01\r\u001b[K     |███▎                            | 30kB 2.2MB/s eta 0:00:01\r\u001b[K     |████▍                           | 40kB 2.5MB/s eta 0:00:01\r\u001b[K     |█████▍                          | 51kB 1.9MB/s eta 0:00:01\r\u001b[K     |██████▌                         | 61kB 2.2MB/s eta 0:00:01\r\u001b[K     |███████▋                        | 71kB 2.4MB/s eta 0:00:01\r\u001b[K     |████████▊                       | 81kB 2.6MB/s eta 0:00:01\r\u001b[K     |█████████▊                      | 92kB 2.8MB/s eta 0:00:01\r\u001b[K     |██████████▉                     | 102kB 2.7MB/s eta 0:00:01\r\u001b[K     |████████████                    | 112kB 2.7MB/s eta 0:00:01\r\u001b[K     |█████████████                   | 122kB 2.7MB/s eta 0:00:01\r\u001b[K     |██████████████                  | 133kB 2.7MB/s eta 0:00:01\r\u001b[K     |███████████████▏                | 143kB 2.7MB/s eta 0:00:01\r\u001b[K     |████████████████▎               | 153kB 2.7MB/s eta 0:00:01\r\u001b[K     |█████████████████▍              | 163kB 2.7MB/s eta 0:00:01\r\u001b[K     |██████████████████▍             | 174kB 2.7MB/s eta 0:00:01\r\u001b[K     |███████████████████▌            | 184kB 2.7MB/s eta 0:00:01\r\u001b[K     |████████████████████▋           | 194kB 2.7MB/s eta 0:00:01\r\u001b[K     |█████████████████████▊          | 204kB 2.7MB/s eta 0:00:01\r\u001b[K     |██████████████████████▊         | 215kB 2.7MB/s eta 0:00:01\r\u001b[K     |███████████████████████▉        | 225kB 2.7MB/s eta 0:00:01\r\u001b[K     |█████████████████████████       | 235kB 2.7MB/s eta 0:00:01\r\u001b[K     |██████████████████████████      | 245kB 2.7MB/s eta 0:00:01\r\u001b[K     |███████████████████████████     | 256kB 2.7MB/s eta 0:00:01\r\u001b[K     |████████████████████████████▏   | 266kB 2.7MB/s eta 0:00:01\r\u001b[K     |█████████████████████████████▎  | 276kB 2.7MB/s eta 0:00:01\r\u001b[K     |██████████████████████████████▍ | 286kB 2.7MB/s eta 0:00:01\r\u001b[K     |███████████████████████████████▍| 296kB 2.7MB/s eta 0:00:01\r\u001b[K     |████████████████████████████████| 307kB 2.7MB/s \n",
            "\u001b[?25hRequirement already satisfied: numpy in /usr/local/lib/python3.6/dist-packages (from lightfm) (1.18.5)\n",
            "Requirement already satisfied: scipy>=0.17.0 in /usr/local/lib/python3.6/dist-packages (from lightfm) (1.4.1)\n",
            "Requirement already satisfied: requests in /usr/local/lib/python3.6/dist-packages (from lightfm) (2.23.0)\n",
            "Requirement already satisfied: chardet<4,>=3.0.2 in /usr/local/lib/python3.6/dist-packages (from requests->lightfm) (3.0.4)\n",
            "Requirement already satisfied: certifi>=2017.4.17 in /usr/local/lib/python3.6/dist-packages (from requests->lightfm) (2020.6.20)\n",
            "Requirement already satisfied: idna<3,>=2.5 in /usr/local/lib/python3.6/dist-packages (from requests->lightfm) (2.10)\n",
            "Requirement already satisfied: urllib3!=1.25.0,!=1.25.1,<1.26,>=1.21.1 in /usr/local/lib/python3.6/dist-packages (from requests->lightfm) (1.24.3)\n",
            "Building wheels for collected packages: lightfm\n",
            "  Building wheel for lightfm (setup.py) ... \u001b[?25l\u001b[?25hdone\n",
            "  Created wheel for lightfm: filename=lightfm-1.15-cp36-cp36m-linux_x86_64.whl size=707631 sha256=231a7134f5c64229e75b2d6513ac35f1606bf20434c0d370fe452b5f8244b7c3\n",
            "  Stored in directory: /root/.cache/pip/wheels/eb/bb/ac/188385a5da6627956be5d9663928483b36da576149ab5b8f79\n",
            "Successfully built lightfm\n",
            "Installing collected packages: lightfm\n",
            "Successfully installed lightfm-1.15\n"
          ],
          "name": "stdout"
        }
      ]
    },
    {
      "cell_type": "code",
      "metadata": {
        "id": "s76-uI3lH1Rs"
      },
      "source": [
        "import implicit\n",
        "import pandas as pd\n",
        "import numpy as np\n",
        "import scipy.sparse as sp\n",
        "\n",
        "from lightfm.datasets import fetch_movielens"
      ],
      "execution_count": 3,
      "outputs": []
    },
    {
      "cell_type": "markdown",
      "metadata": {
        "id": "hQYn_y29H1Ry"
      },
      "source": [
        "В данной работе мы будем работать с explicit датасетом movieLens, в котором представленны пары user_id movie_id и rating выставленный пользователем фильму\n",
        "\n",
        "Скачать датасет можно по ссылке https://grouplens.org/datasets/movielens/1m/"
      ]
    },
    {
      "cell_type": "code",
      "metadata": {
        "id": "NB8ySa7fJwb0",
        "outputId": "b9a45e10-bf73-4260-9abc-8be9c6c0e408",
        "colab": {
          "base_uri": "https://localhost:8080/"
        }
      },
      "source": [
        "from google.colab import drive\n",
        "drive.mount('/content/gdrive')\n",
        "path = '/content/gdrive/My Drive/Colab Notebooks/'"
      ],
      "execution_count": 4,
      "outputs": [
        {
          "output_type": "stream",
          "text": [
            "Mounted at /content/gdrive\n"
          ],
          "name": "stdout"
        }
      ]
    },
    {
      "cell_type": "code",
      "metadata": {
        "id": "Of5kIZRBH1Rz"
      },
      "source": [
        "ratings = pd.read_csv(path+'RecSysHSE/ml-1m/ratings.dat', delimiter='::', header=None, \n",
        "        names=['user_id', 'movie_id', 'rating', 'timestamp'], \n",
        "        usecols=['user_id', 'movie_id', 'rating'], engine='python')"
      ],
      "execution_count": 5,
      "outputs": []
    },
    {
      "cell_type": "code",
      "metadata": {
        "id": "Nhj2d0eZH1R2"
      },
      "source": [
        "movie_info = pd.read_csv(path+'RecSysHSE/ml-1m/movies.dat', delimiter='::', header=None, \n",
        "        names=['movie_id', 'name', 'category'], engine='python')"
      ],
      "execution_count": 6,
      "outputs": []
    },
    {
      "cell_type": "code",
      "metadata": {
        "id": "dTL1U8nQH1R7"
      },
      "source": [
        "ratings = ratings.sort_values(by = ['user_id', 'movie_id'])"
      ],
      "execution_count": 7,
      "outputs": []
    },
    {
      "cell_type": "markdown",
      "metadata": {
        "id": "9FrRL8zTH1R-"
      },
      "source": [
        "Explicit данные"
      ]
    },
    {
      "cell_type": "code",
      "metadata": {
        "id": "fQsJtV7QH1R_",
        "outputId": "4421f060-3479-47fa-f18d-a6fdbf82439c",
        "colab": {
          "base_uri": "https://localhost:8080/",
          "height": 352
        }
      },
      "source": [
        "ratings.head(10)"
      ],
      "execution_count": null,
      "outputs": [
        {
          "output_type": "execute_result",
          "data": {
            "text/html": [
              "<div>\n",
              "<style scoped>\n",
              "    .dataframe tbody tr th:only-of-type {\n",
              "        vertical-align: middle;\n",
              "    }\n",
              "\n",
              "    .dataframe tbody tr th {\n",
              "        vertical-align: top;\n",
              "    }\n",
              "\n",
              "    .dataframe thead th {\n",
              "        text-align: right;\n",
              "    }\n",
              "</style>\n",
              "<table border=\"1\" class=\"dataframe\">\n",
              "  <thead>\n",
              "    <tr style=\"text-align: right;\">\n",
              "      <th></th>\n",
              "      <th>user_id</th>\n",
              "      <th>movie_id</th>\n",
              "      <th>rating</th>\n",
              "    </tr>\n",
              "  </thead>\n",
              "  <tbody>\n",
              "    <tr>\n",
              "      <th>40</th>\n",
              "      <td>1</td>\n",
              "      <td>1</td>\n",
              "      <td>5</td>\n",
              "    </tr>\n",
              "    <tr>\n",
              "      <th>25</th>\n",
              "      <td>1</td>\n",
              "      <td>48</td>\n",
              "      <td>5</td>\n",
              "    </tr>\n",
              "    <tr>\n",
              "      <th>39</th>\n",
              "      <td>1</td>\n",
              "      <td>150</td>\n",
              "      <td>5</td>\n",
              "    </tr>\n",
              "    <tr>\n",
              "      <th>44</th>\n",
              "      <td>1</td>\n",
              "      <td>260</td>\n",
              "      <td>4</td>\n",
              "    </tr>\n",
              "    <tr>\n",
              "      <th>23</th>\n",
              "      <td>1</td>\n",
              "      <td>527</td>\n",
              "      <td>5</td>\n",
              "    </tr>\n",
              "    <tr>\n",
              "      <th>49</th>\n",
              "      <td>1</td>\n",
              "      <td>531</td>\n",
              "      <td>4</td>\n",
              "    </tr>\n",
              "    <tr>\n",
              "      <th>33</th>\n",
              "      <td>1</td>\n",
              "      <td>588</td>\n",
              "      <td>4</td>\n",
              "    </tr>\n",
              "    <tr>\n",
              "      <th>8</th>\n",
              "      <td>1</td>\n",
              "      <td>594</td>\n",
              "      <td>4</td>\n",
              "    </tr>\n",
              "    <tr>\n",
              "      <th>10</th>\n",
              "      <td>1</td>\n",
              "      <td>595</td>\n",
              "      <td>5</td>\n",
              "    </tr>\n",
              "    <tr>\n",
              "      <th>51</th>\n",
              "      <td>1</td>\n",
              "      <td>608</td>\n",
              "      <td>4</td>\n",
              "    </tr>\n",
              "  </tbody>\n",
              "</table>\n",
              "</div>"
            ],
            "text/plain": [
              "    user_id  movie_id  rating\n",
              "40        1         1       5\n",
              "25        1        48       5\n",
              "39        1       150       5\n",
              "44        1       260       4\n",
              "23        1       527       5\n",
              "49        1       531       4\n",
              "33        1       588       4\n",
              "8         1       594       4\n",
              "10        1       595       5\n",
              "51        1       608       4"
            ]
          },
          "metadata": {
            "tags": []
          },
          "execution_count": 9
        }
      ]
    },
    {
      "cell_type": "markdown",
      "metadata": {
        "id": "FHFvfkipH1SD"
      },
      "source": [
        "Для того, чтобы преобразовать текущий датасет в Implicit, давайте считать что позитивная оценка это оценка >=4"
      ]
    },
    {
      "cell_type": "code",
      "metadata": {
        "scrolled": true,
        "id": "WRwZG8vFH1SE",
        "outputId": "a6558b46-e453-40c0-ce8d-558f5fe4743b",
        "colab": {
          "base_uri": "https://localhost:8080/"
        }
      },
      "source": [
        "implicit_ratings = ratings.loc[(ratings['rating'] >= 4)]\n",
        "implicit_ratings['rating'] = 1"
      ],
      "execution_count": 8,
      "outputs": [
        {
          "output_type": "stream",
          "text": [
            "/usr/local/lib/python3.6/dist-packages/ipykernel_launcher.py:2: SettingWithCopyWarning: \n",
            "A value is trying to be set on a copy of a slice from a DataFrame.\n",
            "Try using .loc[row_indexer,col_indexer] = value instead\n",
            "\n",
            "See the caveats in the documentation: https://pandas.pydata.org/pandas-docs/stable/user_guide/indexing.html#returning-a-view-versus-a-copy\n",
            "  \n"
          ],
          "name": "stderr"
        }
      ]
    },
    {
      "cell_type": "code",
      "metadata": {
        "id": "kMlYtXMEH1SI",
        "outputId": "7b8d126b-3965-4045-dd98-92401bdd4877",
        "colab": {
          "base_uri": "https://localhost:8080/",
          "height": 352
        }
      },
      "source": [
        "implicit_ratings.head(10)"
      ],
      "execution_count": null,
      "outputs": [
        {
          "output_type": "execute_result",
          "data": {
            "text/html": [
              "<div>\n",
              "<style scoped>\n",
              "    .dataframe tbody tr th:only-of-type {\n",
              "        vertical-align: middle;\n",
              "    }\n",
              "\n",
              "    .dataframe tbody tr th {\n",
              "        vertical-align: top;\n",
              "    }\n",
              "\n",
              "    .dataframe thead th {\n",
              "        text-align: right;\n",
              "    }\n",
              "</style>\n",
              "<table border=\"1\" class=\"dataframe\">\n",
              "  <thead>\n",
              "    <tr style=\"text-align: right;\">\n",
              "      <th></th>\n",
              "      <th>user_id</th>\n",
              "      <th>movie_id</th>\n",
              "      <th>rating</th>\n",
              "    </tr>\n",
              "  </thead>\n",
              "  <tbody>\n",
              "    <tr>\n",
              "      <th>40</th>\n",
              "      <td>1</td>\n",
              "      <td>1</td>\n",
              "      <td>1</td>\n",
              "    </tr>\n",
              "    <tr>\n",
              "      <th>25</th>\n",
              "      <td>1</td>\n",
              "      <td>48</td>\n",
              "      <td>1</td>\n",
              "    </tr>\n",
              "    <tr>\n",
              "      <th>39</th>\n",
              "      <td>1</td>\n",
              "      <td>150</td>\n",
              "      <td>1</td>\n",
              "    </tr>\n",
              "    <tr>\n",
              "      <th>44</th>\n",
              "      <td>1</td>\n",
              "      <td>260</td>\n",
              "      <td>1</td>\n",
              "    </tr>\n",
              "    <tr>\n",
              "      <th>23</th>\n",
              "      <td>1</td>\n",
              "      <td>527</td>\n",
              "      <td>1</td>\n",
              "    </tr>\n",
              "    <tr>\n",
              "      <th>49</th>\n",
              "      <td>1</td>\n",
              "      <td>531</td>\n",
              "      <td>1</td>\n",
              "    </tr>\n",
              "    <tr>\n",
              "      <th>33</th>\n",
              "      <td>1</td>\n",
              "      <td>588</td>\n",
              "      <td>1</td>\n",
              "    </tr>\n",
              "    <tr>\n",
              "      <th>8</th>\n",
              "      <td>1</td>\n",
              "      <td>594</td>\n",
              "      <td>1</td>\n",
              "    </tr>\n",
              "    <tr>\n",
              "      <th>10</th>\n",
              "      <td>1</td>\n",
              "      <td>595</td>\n",
              "      <td>1</td>\n",
              "    </tr>\n",
              "    <tr>\n",
              "      <th>51</th>\n",
              "      <td>1</td>\n",
              "      <td>608</td>\n",
              "      <td>1</td>\n",
              "    </tr>\n",
              "  </tbody>\n",
              "</table>\n",
              "</div>"
            ],
            "text/plain": [
              "    user_id  movie_id  rating\n",
              "40        1         1       1\n",
              "25        1        48       1\n",
              "39        1       150       1\n",
              "44        1       260       1\n",
              "23        1       527       1\n",
              "49        1       531       1\n",
              "33        1       588       1\n",
              "8         1       594       1\n",
              "10        1       595       1\n",
              "51        1       608       1"
            ]
          },
          "metadata": {
            "tags": []
          },
          "execution_count": 11
        }
      ]
    },
    {
      "cell_type": "markdown",
      "metadata": {
        "id": "ri7R3fMnH1SP"
      },
      "source": [
        "Удобнее работать с sparse матричками, давайте преобразуем DataFrame в CSR матрицы"
      ]
    },
    {
      "cell_type": "code",
      "metadata": {
        "id": "1iDqrbt5H1SP"
      },
      "source": [
        "users = implicit_ratings[\"user_id\"]\n",
        "movies = implicit_ratings[\"movie_id\"]\n",
        "user_item = sp.coo_matrix((np.ones_like(users), (users, movies)))\n",
        "user_item_t_csr = user_item.T.tocsr()\n",
        "user_item_csr = user_item.tocsr()"
      ],
      "execution_count": null,
      "outputs": []
    },
    {
      "cell_type": "markdown",
      "metadata": {
        "id": "gB6x-u83H1ST"
      },
      "source": [
        "В качестве примера воспользуемся ALS разложением из библиотеки implicit\n",
        "\n",
        "Зададим размерность латентного пространства равным 64, это же определяет размер user/item эмбедингов"
      ]
    },
    {
      "cell_type": "code",
      "metadata": {
        "id": "yZ6S2m-lH1SU",
        "outputId": "2745bd7c-1635-4a7d-dbbe-fdcb6ccb4b59",
        "colab": {
          "base_uri": "https://localhost:8080/",
          "height": 35
        }
      },
      "source": [
        "model = implicit.als.AlternatingLeastSquares(factors=64, iterations=100, calculate_training_loss=True)"
      ],
      "execution_count": null,
      "outputs": [
        {
          "output_type": "stream",
          "text": [
            "WARNING:root:OpenBLAS detected. Its highly recommend to set the environment variable 'export OPENBLAS_NUM_THREADS=1' to disable its internal multithreading\n"
          ],
          "name": "stderr"
        }
      ]
    },
    {
      "cell_type": "markdown",
      "metadata": {
        "id": "bAMRD53GH1SY"
      },
      "source": [
        "В качестве loss здесь всеми любимый RMSE"
      ]
    },
    {
      "cell_type": "code",
      "metadata": {
        "id": "5MJOlIzzWVTs"
      },
      "source": [
        "model.fit(user_item_t_csr)"
      ],
      "execution_count": null,
      "outputs": []
    },
    {
      "cell_type": "markdown",
      "metadata": {
        "id": "3bzsHZPUH1Sd"
      },
      "source": [
        "Построим похожие фильмы по 1 movie_id = Истории игрушек"
      ]
    },
    {
      "cell_type": "code",
      "metadata": {
        "id": "Ha_lmfguH1Se",
        "outputId": "83c9bf58-bc3a-468c-c87e-dfea29053baf"
      },
      "source": [
        "movie_info.head(5)"
      ],
      "execution_count": null,
      "outputs": [
        {
          "output_type": "execute_result",
          "data": {
            "text/html": [
              "<div>\n",
              "<style scoped>\n",
              "    .dataframe tbody tr th:only-of-type {\n",
              "        vertical-align: middle;\n",
              "    }\n",
              "\n",
              "    .dataframe tbody tr th {\n",
              "        vertical-align: top;\n",
              "    }\n",
              "\n",
              "    .dataframe thead th {\n",
              "        text-align: right;\n",
              "    }\n",
              "</style>\n",
              "<table border=\"1\" class=\"dataframe\">\n",
              "  <thead>\n",
              "    <tr style=\"text-align: right;\">\n",
              "      <th></th>\n",
              "      <th>movie_id</th>\n",
              "      <th>name</th>\n",
              "      <th>category</th>\n",
              "    </tr>\n",
              "  </thead>\n",
              "  <tbody>\n",
              "    <tr>\n",
              "      <th>0</th>\n",
              "      <td>1</td>\n",
              "      <td>Toy Story (1995)</td>\n",
              "      <td>Animation|Children's|Comedy</td>\n",
              "    </tr>\n",
              "    <tr>\n",
              "      <th>1</th>\n",
              "      <td>2</td>\n",
              "      <td>Jumanji (1995)</td>\n",
              "      <td>Adventure|Children's|Fantasy</td>\n",
              "    </tr>\n",
              "    <tr>\n",
              "      <th>2</th>\n",
              "      <td>3</td>\n",
              "      <td>Grumpier Old Men (1995)</td>\n",
              "      <td>Comedy|Romance</td>\n",
              "    </tr>\n",
              "    <tr>\n",
              "      <th>3</th>\n",
              "      <td>4</td>\n",
              "      <td>Waiting to Exhale (1995)</td>\n",
              "      <td>Comedy|Drama</td>\n",
              "    </tr>\n",
              "    <tr>\n",
              "      <th>4</th>\n",
              "      <td>5</td>\n",
              "      <td>Father of the Bride Part II (1995)</td>\n",
              "      <td>Comedy</td>\n",
              "    </tr>\n",
              "  </tbody>\n",
              "</table>\n",
              "</div>"
            ],
            "text/plain": [
              "   movie_id                                name                      category\n",
              "0         1                    Toy Story (1995)   Animation|Children's|Comedy\n",
              "1         2                      Jumanji (1995)  Adventure|Children's|Fantasy\n",
              "2         3             Grumpier Old Men (1995)                Comedy|Romance\n",
              "3         4            Waiting to Exhale (1995)                  Comedy|Drama\n",
              "4         5  Father of the Bride Part II (1995)                        Comedy"
            ]
          },
          "metadata": {
            "tags": []
          },
          "execution_count": 11
        }
      ]
    },
    {
      "cell_type": "code",
      "metadata": {
        "id": "TD2zH_AnH1Sj"
      },
      "source": [
        "get_similars = lambda item_id, model : [movie_info[movie_info[\"movie_id\"] == x[0]][\"name\"].to_string() \n",
        "                                        for x in model.similar_items(item_id)]"
      ],
      "execution_count": 46,
      "outputs": []
    },
    {
      "cell_type": "markdown",
      "metadata": {
        "id": "XkWZ_KyUH1Sm"
      },
      "source": [
        "Как мы видим, симилары действительно оказались симиларами.\n",
        "\n",
        "Качество симиларов часто является хорошим способом проверить качество алгоритмов.\n",
        "\n",
        "P.S. Если хочется поглубже разобраться в том как разные алгоритмы формируют разные латентные пространства, рекомендую загружать полученные вектора в tensorBoard и смотреть на сформированное пространство"
      ]
    },
    {
      "cell_type": "code",
      "metadata": {
        "id": "_ANvdmTxH1Sn",
        "outputId": "24d2c96b-b0a6-4c4b-9c04-4a4e0f3dd1a9",
        "colab": {
          "base_uri": "https://localhost:8080/",
          "height": 195
        }
      },
      "source": [
        "get_similars(1, model)"
      ],
      "execution_count": null,
      "outputs": [
        {
          "output_type": "execute_result",
          "data": {
            "text/plain": [
              "['0    Toy Story (1995)',\n",
              " '379    Wyatt Earp (1994)',\n",
              " 'Series([], )',\n",
              " '2330    Santa Claus: The Movie (1985)',\n",
              " '3699    Braddock: Missing in Action III (1988)',\n",
              " '1454    Daytrippers, The (1996)',\n",
              " '3327    Muppet Movie, The (1979)',\n",
              " '3579    Abominable Snowman, The (1957)',\n",
              " '1795    Sour Grapes (1998)',\n",
              " '2641    Blair Witch Project, The (1999)']"
            ]
          },
          "metadata": {
            "tags": []
          },
          "execution_count": 19
        }
      ]
    },
    {
      "cell_type": "markdown",
      "metadata": {
        "id": "I4FpMHEMH1Sr"
      },
      "source": [
        "Давайте теперь построим рекомендации для юзеров\n",
        "\n",
        "Как мы видим юзеру нравится фантастика, значит и в рекомендациях ожидаем увидеть фантастику"
      ]
    },
    {
      "cell_type": "code",
      "metadata": {
        "id": "WAk1YBdyH1Ss"
      },
      "source": [
        "get_user_history = lambda user_id, implicit_ratings : [movie_info[movie_info[\"movie_id\"] == x][\"name\"].to_string() \n",
        "                                            for x in implicit_ratings[implicit_ratings[\"user_id\"] == user_id][\"movie_id\"]]"
      ],
      "execution_count": 9,
      "outputs": []
    },
    {
      "cell_type": "code",
      "metadata": {
        "id": "15iXBzjUH1Sv",
        "outputId": "669dd9fe-6cc4-45ba-f4e2-ced4cbf93db4",
        "colab": {
          "base_uri": "https://localhost:8080/",
          "height": 337
        }
      },
      "source": [
        "get_user_history(4, implicit_ratings)"
      ],
      "execution_count": null,
      "outputs": [
        {
          "output_type": "execute_result",
          "data": {
            "text/plain": [
              "['257    Star Wars: Episode IV - A New Hope (1977)',\n",
              " '476    Jurassic Park (1993)',\n",
              " '1023    Die Hard (1988)',\n",
              " '1081    E.T. the Extra-Terrestrial (1982)',\n",
              " '1180    Raiders of the Lost Ark (1981)',\n",
              " '1183    Good, The Bad and The Ugly, The (1966)',\n",
              " '1196    Alien (1979)',\n",
              " '1220    Terminator, The (1984)',\n",
              " '1366    Jaws (1975)',\n",
              " '1885    Rocky (1976)',\n",
              " '1959    Saving Private Ryan (1998)',\n",
              " '2297    King Kong (1933)',\n",
              " '2623    Run Lola Run (Lola rennt) (1998)',\n",
              " '2878    Goldfinger (1964)',\n",
              " '2882    Fistful of Dollars, A (1964)',\n",
              " '3349    Thelma & Louise (1991)',\n",
              " '3399    Hustler, The (1961)',\n",
              " '3633    Mad Max (1979)']"
            ]
          },
          "metadata": {
            "tags": []
          },
          "execution_count": 21
        }
      ]
    },
    {
      "cell_type": "markdown",
      "metadata": {
        "id": "ILxVdJ2PH1Sy"
      },
      "source": [
        "Получилось! \n",
        "\n",
        "Мы действительно порекомендовали пользователю фантастику и боевики, более того встречаются продолжения тех фильмов, которые он высоко оценил"
      ]
    },
    {
      "cell_type": "code",
      "metadata": {
        "id": "Xjazjea0H1Sz"
      },
      "source": [
        "get_recommendations = lambda user_id, model : [movie_info[movie_info[\"movie_id\"] == x[0]][\"name\"].to_string() \n",
        "                                               for x in model.recommend(user_id, user_item_csr)]"
      ],
      "execution_count": 10,
      "outputs": []
    },
    {
      "cell_type": "code",
      "metadata": {
        "id": "098ZKPahWQKt"
      },
      "source": [
        "get_recommendations(4, model)"
      ],
      "execution_count": null,
      "outputs": []
    },
    {
      "cell_type": "markdown",
      "metadata": {
        "id": "Ow9GNTKRH1S6"
      },
      "source": [
        "Теперь ваша очередь реализовать самые популярные алгоритмы матричных разложений\n",
        "\n",
        "Что будет оцениваться:\n",
        "1. Корректность алгоритма\n",
        "2. Качество получившихся симиларов\n",
        "3. Качество итоговых рекомендаций для юзера"
      ]
    },
    {
      "cell_type": "markdown",
      "metadata": {
        "id": "I0hEWE1EH1S6"
      },
      "source": [
        "### Задание 1. Не использую готовые решения, реализовать SVD разложение используя SGD на explicit данных"
      ]
    },
    {
      "cell_type": "code",
      "metadata": {
        "id": "B8KcYj5PH1S7"
      },
      "source": [
        "from sklearn.neighbors import NearestNeighbors"
      ],
      "execution_count": 49,
      "outputs": []
    },
    {
      "cell_type": "code",
      "metadata": {
        "id": "1lqjg2j2H1S-"
      },
      "source": [
        "class SGD:\n",
        "    def __init__(self, r = 64, reg_par = 0.01, lr = 0.01, eps = 5e-4, iters = int(5e6)):\n",
        "        self.r = r\n",
        "        self.reg_par = reg_par\n",
        "        self.lr = lr\n",
        "        self.eps = eps\n",
        "        self.iters = iters\n",
        "        \n",
        "    def fit(self, M):   \n",
        "        row = np.max(M['user_id'])\n",
        "        col = np.max(M['movie_id'])\n",
        "        self.W = np.random.uniform(0, 1/np.sqrt(self.r), (row, self.r))\n",
        "        self.H = np.random.uniform(0, 1/np.sqrt(self.r), (self.r, col))\n",
        "        #B = np.random.uniform(0, 1/np.sqrt(self.r), (row, col))\n",
        "        self.B_u = np.zeros((row, 1))\n",
        "        self.B_i = np.zeros((1, col))\n",
        "        self.mu = M['rating'].mean()\n",
        "        total_len = len(M)\n",
        "        rmse = np.linalg.norm((self.W@self.H + self.B_u + self.B_i + self.mu)[M['user_id']-1, M['movie_id']-1]\n",
        "                                                   - M['rating'])/total_len\n",
        "        t = 0\n",
        "        while t < self.iters:\n",
        "            k = np.random.randint(total_len)\n",
        "            i = M.iloc[k]['user_id']-1\n",
        "            j = M.iloc[k]['movie_id']-1     \n",
        "            w, h, b_u, b_i = self.W[i,:], self.H[:,j], self.B_u[i], self.B_i[:,j]\n",
        "            #b = np.array([B[i[t],j[t]] for t in range(len(i))])\n",
        "            error = w@h + b_u + b_i + self.mu - M.iloc[k]['rating']\n",
        "\n",
        "            self.W[i,:] -= self.lr*(error*h.T + self.reg_par*w)\n",
        "            self.H[:, j] -= self.lr*(error*w.T + self.reg_par*h)\n",
        "            #B[i, j] -= self.lr*error\n",
        "            self.B_u[i] -= self.lr*(error + self.reg_par*b_u)\n",
        "            self.B_i[:,j] -= self.lr*(error + self.reg_par*b_i)\n",
        "            if t%500000 == 0:\n",
        "                rmse = np.linalg.norm((self.W@self.H + self.B_u + self.B_i + self.mu)[M['user_id']-1, M['movie_id']-1]\n",
        "                                                   - M['rating'])/total_len\n",
        "                if rmse < self.eps:\n",
        "                    break\n",
        "                print(\"rmse\", rmse)\n",
        "            t+=1\n",
        "        return self.W, self.H, self.B_u, self.B_i, self.mu \n",
        "    \n",
        "    def similar_items(self, item_id):\n",
        "        item_id-=1\n",
        "        nbrs = NearestNeighbors(n_neighbors=6, algorithm = 'kd_tree' ).fit(self.H.T)\n",
        "        distances, indices = nbrs.kneighbors((self.H.T)[item_id].reshape(1,-1))\n",
        "        return list(zip(indices[0] + 1, distances[0]))\n",
        "    \n",
        "    def recommend(self, user_id, M, movie_info):\n",
        "        user_movie_matrix = self.W@self.H + self.B_u + self.B_i + self.mu\n",
        "        user_row = user_movie_matrix[user_id - 1]\n",
        "        watched_movies = M[M['user_id'] == user_id]['movie_id']\n",
        "        unwatched_movies = [i for i in movie_info['movie_id'] if i not in watched_movies]\n",
        "        unwatched_movies.sort(key = lambda x: user_row[x-1], reverse = True)\n",
        "        return list(zip(unwatched_movies[:10], user_row[unwatched_movies[:10]]))"
      ],
      "execution_count": null,
      "outputs": []
    },
    {
      "cell_type": "code",
      "metadata": {
        "id": "mF51knJuH1TB"
      },
      "source": [
        "get_recommendations = lambda user_id, model : [movie_info[movie_info[\"movie_id\"] == x[0]][\"name\"].to_string() \n",
        "                                               for x in model.recommend(user_id, ratings, movie_info)]"
      ],
      "execution_count": 47,
      "outputs": []
    },
    {
      "cell_type": "code",
      "metadata": {
        "id": "6vgogiQ-H1TE",
        "outputId": "d4b654db-e6d3-4c66-a3b9-eefb59d62dca"
      },
      "source": [
        "model = SGD()\n",
        "W, H, B_u, B_i, mu = model.fit(ratings)"
      ],
      "execution_count": null,
      "outputs": [
        {
          "output_type": "stream",
          "text": [
            "rmse 0.001145023688262441\n",
            "rmse 0.0009305519983153932\n",
            "rmse 0.0009128954555596631\n",
            "rmse 0.0009044049328397242\n",
            "rmse 0.000898116603460106\n",
            "rmse 0.0008919042464388948\n",
            "rmse 0.0008844346384120224\n",
            "rmse 0.0008756991067001193\n",
            "rmse 0.0008654110640417119\n",
            "rmse 0.0008539762637158209\n"
          ],
          "name": "stdout"
        }
      ]
    },
    {
      "cell_type": "code",
      "metadata": {
        "id": "GniW-YWzH1TH",
        "outputId": "6e36dc4e-b0e3-4843-daad-8dc8dc3a4f37"
      },
      "source": [
        "get_similars(1, model)"
      ],
      "execution_count": null,
      "outputs": [
        {
          "output_type": "execute_result",
          "data": {
            "text/plain": [
              "['0    Toy Story (1995)',\n",
              " '3045    Toy Story 2 (1999)',\n",
              " '1949    Bambi (1942)',\n",
              " '2011    Lady and the Tramp (1955)',\n",
              " '584    Aladdin (1992)',\n",
              " '591    Beauty and the Beast (1991)']"
            ]
          },
          "metadata": {
            "tags": []
          },
          "execution_count": 35
        }
      ]
    },
    {
      "cell_type": "code",
      "metadata": {
        "id": "TYYwgm9QH1TK",
        "outputId": "b18bf6b6-dda6-4df8-cc22-94c47575e2e1"
      },
      "source": [
        "get_recommendations(4, model)"
      ],
      "execution_count": null,
      "outputs": [
        {
          "output_type": "execute_result",
          "data": {
            "text/plain": [
              "['847    Godfather, The (1972)',\n",
              " '2836    Sanjuro (1962)',\n",
              " '1189    To Kill a Mockingbird (1962)',\n",
              " '910    Sunset Blvd. (a.k.a. Sunset Boulevard) (1950)',\n",
              " '892    Rear Window (1954)',\n",
              " '1950    Seven Samurai (The Magnificent Seven) (Shichin...',\n",
              " '1162    Paths of Glory (1957)',\n",
              " '735    Close Shave, A (1995)',\n",
              " '315    Shawshank Redemption, The (1994)',\n",
              " '901    Maltese Falcon, The (1941)']"
            ]
          },
          "metadata": {
            "tags": []
          },
          "execution_count": 36
        }
      ]
    },
    {
      "cell_type": "markdown",
      "metadata": {
        "id": "eX6BJMeyH1TQ"
      },
      "source": [
        "### Задание 2. Не использую готовые решения, реализовать матричное разложение используя ALS на implicit данных"
      ]
    },
    {
      "cell_type": "code",
      "metadata": {
        "id": "st_tWSWDH1TR"
      },
      "source": [
        "class ALS:\n",
        "    def __init__(self, r = 64, reg_par = 0.001, lr = 1e-3, eps = 1e-3, iters = 100):\n",
        "        self.r = r\n",
        "        self.reg_par = reg_par\n",
        "        self.lr = lr\n",
        "        self.eps = eps\n",
        "        self.iters = iters\n",
        "        self.movie_info = movie_info\n",
        "        \n",
        "    def fit(self, M):   \n",
        "        row = np.max(M['user_id'])\n",
        "        col = np.max(M['movie_id'])\n",
        "        self.W = np.random.uniform(0, 1/np.sqrt(self.r), (row, self.r))\n",
        "        self.H = np.random.uniform(0, 1/np.sqrt(self.r), (self.r, col))\n",
        "        total_len = len(M)\n",
        "        rmse = np.linalg.norm((self.W@self.H)[M['user_id']-1, M['movie_id']-1]\n",
        "                                                   - M['rating'])/total_len\n",
        "        t = 0\n",
        "        while t < self.iters:\n",
        "            WH = self.W@self.H\n",
        "            diff = WH\n",
        "            diff[M['user_id']-1, M['movie_id']-1] = WH[M['user_id']-1, M['movie_id']-1]- M['rating']\n",
        "            \n",
        "            if t % 2 == 0:\n",
        "                self.W = self.W - self.lr * (diff @ self.H.T + self.reg_par * self.W)\n",
        "            else:\n",
        "                self.H = self.H - self.lr * (self.W.T @diff  + self.reg_par * self.H)\n",
        "                \n",
        "            if t%10 == 0:\n",
        "                rmse = np.linalg.norm((self.W@self.H)[M['user_id']-1, M['movie_id']-1]\n",
        "                                                   - M['rating'])/total_len\n",
        "                print(\"rmse\", rmse)\n",
        "                \n",
        "            if rmse < self.eps:\n",
        "                break\n",
        "            t+=1\n",
        "        \n",
        "        return self.W, self.H  \n",
        "    \n",
        "    def similar_items(self,item_id):\n",
        "        item_id-=1\n",
        "        nbrs = NearestNeighbors(n_neighbors=10).fit(self.H.T)\n",
        "        distances, indices = nbrs.kneighbors((self.H.T)[item_id].reshape(1,-1))\n",
        "        return list(zip(indices[0] + 1, distances[0]))\n",
        "    \n",
        "    def recommend(self, user_id, M, movie_info):\n",
        "        user_movie_matrix = self.W@self.H\n",
        "        user_row = user_movie_matrix[user_id - 1]\n",
        "        watched_movies = M[M['user_id'] == user_id]['movie_id']\n",
        "        unwatched_movies = [i for i in movie_info['movie_id'] if i not in watched_movies]\n",
        "        unwatched_movies.sort(key = lambda x: user_row[x-1], reverse = True)\n",
        "        return list(zip(unwatched_movies[:10], user_row[unwatched_movies[:10]]))\n",
        "    "
      ],
      "execution_count": null,
      "outputs": []
    },
    {
      "cell_type": "code",
      "metadata": {
        "id": "FUXiPkYTH1TV",
        "outputId": "120f3031-9abe-46d6-dd40-5e9c20766db1"
      },
      "source": [
        "model = ALS()\n",
        "W, H = model.fit(implicit_ratings)"
      ],
      "execution_count": null,
      "outputs": [
        {
          "output_type": "stream",
          "text": [
            "rmse 0.0012476559992730177\n",
            "rmse 0.0011873506361842945\n",
            "rmse 0.001129319010494593\n",
            "rmse 0.0010986231303928575\n",
            "rmse 0.0010862891137024039\n",
            "rmse 0.001076605644001585\n",
            "rmse 0.0010617294794914153\n",
            "rmse 0.001042069134595005\n",
            "rmse 0.0010228374209121562\n",
            "rmse 0.001005967096743313\n"
          ],
          "name": "stdout"
        }
      ]
    },
    {
      "cell_type": "code",
      "metadata": {
        "id": "Gb_TLlWeH1TY",
        "outputId": "c0ca19dc-339a-4b24-9630-de7ff55e91a7"
      },
      "source": [
        "get_similars(1, model)"
      ],
      "execution_count": null,
      "outputs": [
        {
          "output_type": "execute_result",
          "data": {
            "text/plain": [
              "['0    Toy Story (1995)',\n",
              " '3045    Toy Story 2 (1999)',\n",
              " '1245    Groundhog Day (1993)',\n",
              " \"2286    Bug's Life, A (1998)\",\n",
              " '584    Aladdin (1992)',\n",
              " '33    Babe (1995)',\n",
              " '352    Forrest Gump (1994)',\n",
              " '2327    Shakespeare in Love (1998)',\n",
              " '360    Lion King, The (1994)',\n",
              " \"1854    There's Something About Mary (1998)\"]"
            ]
          },
          "metadata": {
            "tags": []
          },
          "execution_count": 30
        }
      ]
    },
    {
      "cell_type": "code",
      "metadata": {
        "id": "jpM8vKsSH1Tb",
        "outputId": "1bab1d7f-ae66-49b4-fb84-8a360a4ec2b6"
      },
      "source": [
        "get_recommendations(4, model)"
      ],
      "execution_count": null,
      "outputs": [
        {
          "output_type": "execute_result",
          "data": {
            "text/plain": [
              "['257    Star Wars: Episode IV - A New Hope (1977)',\n",
              " '1178    Star Wars: Episode V - The Empire Strikes Back...',\n",
              " '1180    Raiders of the Lost Ark (1981)',\n",
              " '1192    Star Wars: Episode VI - Return of the Jedi (1983)',\n",
              " '1220    Terminator, The (1984)',\n",
              " '1196    Alien (1979)',\n",
              " '1182    Aliens (1986)',\n",
              " '585    Terminator 2: Judgment Day (1991)',\n",
              " '2502    Matrix, The (1999)',\n",
              " '1959    Saving Private Ryan (1998)']"
            ]
          },
          "metadata": {
            "tags": []
          },
          "execution_count": 31
        }
      ]
    },
    {
      "cell_type": "markdown",
      "metadata": {
        "id": "BeXhsgdWH1Th"
      },
      "source": [
        "### Задание 3. Не использую готовые решения, реализовать матричное разложение BPR на implicit данных"
      ]
    },
    {
      "cell_type": "code",
      "metadata": {
        "id": "2JHRlA5cH1Th"
      },
      "source": [
        "class BPR:\n",
        "    def __init__(self, r = 128, reg_par = 1e-4, lr = 1e-2, eps = 1e-6, iters = int(10)):\n",
        "        self.r = r\n",
        "        self.reg_par = reg_par\n",
        "        self.lr = lr\n",
        "        self.eps = eps\n",
        "        self.iters = iters\n",
        "        self.movie_info = movie_info\n",
        "\n",
        "\n",
        "    def fit(self, M, movie_info): \n",
        "        \n",
        "        def partial_BPR(x_uij, partial_x):\n",
        "            exp_x = np.exp(-x_uij)\n",
        "            return exp_x / (1 + exp_x) * partial_x\n",
        "        \n",
        "        row = np.max(M['user_id'])\n",
        "        col = np.max(M['movie_id'])\n",
        "        self.W = np.random.uniform(0, 1/np.sqrt(self.r), (row, self.r))\n",
        "        self.H = np.random.uniform(0, 1/np.sqrt(self.r), (self.r, col))\n",
        "        total_len = len(M)\n",
        "        rmse = np.linalg.norm((self.W@self.H)[M['user_id']-1, M['movie_id']-1]\n",
        "                                                   - M['rating'])/total_len\n",
        "        \n",
        "        watched_movies = {}\n",
        "        unwatched_movies = {}\n",
        "        unique_users = M[\"user_id\"].unique()-1 \n",
        "        \n",
        "        for u in range(1, row + 1):\n",
        "            watched_movies[u] = np.array(M[M['user_id'] == u]['movie_id'])\n",
        "            unwatched_movies[u] = np.array([i for i in movie_info['movie_id'] if i not in watched_movies[u]])\n",
        "        print(\"end of pre-count\")\n",
        "        \n",
        "        t = 0\n",
        "        while t < self.iters:    \n",
        "            total_loss = 0\n",
        "            for u in unique_users:\n",
        "                for i in watched_movies[u+1]:\n",
        "                    i-=1\n",
        "\n",
        "                    neg = np.random.choice(unwatched_movies[u+1], 20)-1\n",
        "         \n",
        "                    WH_i = self.W[u]@self.H[:,i]\n",
        "                    WH_j = self.W[u]@self.H[:,neg]\n",
        "                    x_uij = WH_i - WH_j\n",
        "\n",
        "                    self.W[u] += self.lr * (partial_BPR(x_uij, self.H[:,i].reshape(-1,1) - self.H[:,neg]).sum(axis=1)  - self.reg_par * self.W[u])\n",
        "                    self.H[:,i] += self.lr * (partial_BPR(x_uij, self.W[u].reshape(-1,1)).sum(axis=1)  - self.reg_par * self.H[:,i])\n",
        "                    self.H[:,neg] += self.lr * (partial_BPR(x_uij, -self.W[u].reshape(-1,1)) - self.reg_par * self.H[:,neg]) \n",
        "\n",
        "                    total_loss+=np.array(np.log(1 + np.exp(-x_uij))/len(neg)).sum()\n",
        "            t+=1\n",
        "            \n",
        "            if t%1 == 0:\n",
        "                print(f\"step: {t}, loss: {total_loss/len(unique_users)}\")\n",
        "\n",
        "                if total_loss/len(unique_users) < self.eps:\n",
        "                    break\n",
        "                \n",
        "        \n",
        "        return self.W, self.H  \n",
        "    \n",
        "    def similar_items(self, item_id):\n",
        "        item_id-=1\n",
        "        nbrs = NearestNeighbors(n_neighbors=10, algorithm = 'kd_tree' ).fit(self.H.T)\n",
        "        distances, indices = nbrs.kneighbors(((self.H.T)[item_id].reshape(1,-1))\n",
        "        return list(zip(indices[0] + 1, distances[0]))\n",
        "    \n",
        "    def recommend(self, user_id, M, movie_info):\n",
        "        user_movie_matrix = self.W@self.H\n",
        "        user_row = user_movie_matrix[user_id - 1]\n",
        "        watched_movies = M[M['user_id'] == user_id]['movie_id']\n",
        "        unwatched_movies = [i for i in movie_info['movie_id'] if i not in watched_movies]\n",
        "        unwatched_movies.sort(key = lambda x: user_row[x-1], reverse = True)\n",
        "        return list(zip(unwatched_movies[:10], user_row[unwatched_movies[:10]]))\n",
        "    "
      ],
      "execution_count": 43,
      "outputs": []
    },
    {
      "cell_type": "code",
      "metadata": {
        "id": "igVBToEXH1Tl",
        "outputId": "f2bc3515-42c1-4755-f5d7-42ab6c457bc2",
        "colab": {
          "base_uri": "https://localhost:8080/"
        }
      },
      "source": [
        "model = BPR()\n",
        "W, H = model.fit(implicit_ratings, movie_info)"
      ],
      "execution_count": 44,
      "outputs": [
        {
          "output_type": "stream",
          "text": [
            "end of pre-count\n",
            "step: 1, loss: 23.833533221579742\n",
            "step: 2, loss: 16.245393348301516\n",
            "step: 3, loss: 12.587442696972163\n",
            "step: 4, loss: 9.703274261772291\n",
            "step: 5, loss: 7.495840691940639\n",
            "step: 6, loss: 5.957606344649264\n",
            "step: 7, loss: 4.937902091957213\n",
            "step: 8, loss: 4.2566089809862815\n",
            "step: 9, loss: 3.781963569411705\n",
            "step: 10, loss: 3.419116622202569\n"
          ],
          "name": "stdout"
        }
      ]
    },
    {
      "cell_type": "code",
      "metadata": {
        "id": "BFyb7MrhH1To",
        "outputId": "60539619-6269-4fec-a52b-81d4aaa41b24",
        "colab": {
          "base_uri": "https://localhost:8080/"
        }
      },
      "source": [
        "get_similars(1, model)"
      ],
      "execution_count": 50,
      "outputs": [
        {
          "output_type": "execute_result",
          "data": {
            "text/plain": [
              "['0    Toy Story (1995)',\n",
              " '3045    Toy Story 2 (1999)',\n",
              " \"2286    Bug's Life, A (1998)\",\n",
              " '2252    Pleasantville (1998)',\n",
              " '584    Aladdin (1992)',\n",
              " '2225    Antz (1998)',\n",
              " '2012    Little Mermaid, The (1989)',\n",
              " '1382    Beavis and Butt-head Do America (1996)',\n",
              " \"1854    There's Something About Mary (1998)\",\n",
              " '1595    Full Monty, The (1997)']"
            ]
          },
          "metadata": {
            "tags": []
          },
          "execution_count": 50
        }
      ]
    },
    {
      "cell_type": "code",
      "metadata": {
        "id": "Gy3xTL45H1Tr",
        "outputId": "a977096b-65cb-4bc7-f304-230055760805",
        "colab": {
          "base_uri": "https://localhost:8080/"
        }
      },
      "source": [
        "get_recommendations(4, model)"
      ],
      "execution_count": 51,
      "outputs": [
        {
          "output_type": "execute_result",
          "data": {
            "text/plain": [
              "['257    Star Wars: Episode IV - A New Hope (1977)',\n",
              " '847    Godfather, The (1972)',\n",
              " '1178    Star Wars: Episode V - The Empire Strikes Back...',\n",
              " '1180    Raiders of the Lost Ark (1981)',\n",
              " '1220    Terminator, The (1984)',\n",
              " '585    Terminator 2: Judgment Day (1991)',\n",
              " '1196    Alien (1979)',\n",
              " '1183    Good, The Bad and The Ugly, The (1966)',\n",
              " '1023    Die Hard (1988)',\n",
              " '108    Braveheart (1995)']"
            ]
          },
          "metadata": {
            "tags": []
          },
          "execution_count": 51
        }
      ]
    },
    {
      "cell_type": "markdown",
      "metadata": {
        "id": "zQkpeX2aH1Tu"
      },
      "source": [
        "### Задание 4. Не использую готовые решения, реализовать матричное разложение WARP на implicit данных"
      ]
    },
    {
      "cell_type": "code",
      "metadata": {
        "id": "25dejmmEH1Tu"
      },
      "source": [
        "class WARP:\n",
        "    def __init__(self, r = 64, reg_par = 0.001, lr = 1e-2, eps = 1e-3, iters = int(10)):\n",
        "        self.r = r\n",
        "        self.reg_par = reg_par\n",
        "        self.lr = lr\n",
        "        self.eps = eps\n",
        "        self.iters = iters\n",
        "        self.movie_info = movie_info\n",
        "            \n",
        "\n",
        "    def fit(self, M, movie_info):     \n",
        "        row = np.max(M['user_id'])\n",
        "        col = np.max(M['movie_id'])\n",
        "        self.W = np.random.uniform(0, 1/np.sqrt(self.r), (row, self.r))\n",
        "        self.H = np.random.uniform(0, 1/np.sqrt(self.r), (self.r, col))\n",
        "        self.B_i = np.zeros((1, col))\n",
        "        total_len = len(M)\n",
        "        \n",
        "        watched_movies = {}\n",
        "        unwatched_movies = {}\n",
        "        unique_users = M[\"user_id\"].unique()-1 \n",
        "        unique_items = M[\"movie_id\"].unique()\n",
        "        \n",
        "        for u in range(1, row + 1):\n",
        "            watched_movies[u] = np.array(M[M['user_id'] == u]['movie_id'])\n",
        "            unwatched_movies[u] = np.array([i for i in unique_items if i not in watched_movies[u]])\n",
        "        print(\"end of pre-count\")\n",
        "        \n",
        "        t = 0\n",
        "        while t < self.iters:\n",
        "            total_loss = 0\n",
        "            for u in unique_users:\n",
        "                unwatched_movies_for_u = unwatched_movies[u+1] - 1\n",
        "                for i in watched_movies[u+1]:\n",
        "                    i-=1\n",
        "                    WH = self.W[u]@self.H[:, i] + self.B_i[:,i]\n",
        "                    count = 0\n",
        "                    for j in np.random.permutation(unwatched_movies_for_u)[:20]:\n",
        "                        count  += 1\n",
        "                        \n",
        "                        if self.W[u]@self.H[:, j]+self.B_i[:,j] + 1 > WH:\n",
        "                            self.W[u] -= self.lr * (np.log(len(unwatched_movies_for_u[:20]) / count ) * (self.H[:, j] - self.H[:, i]) + \\\n",
        "                                                    self.reg_par*self.W[u])\n",
        "                            self.H[:, i] += self.lr * (np.log(len(unwatched_movies_for_u[:20]) / count ) * self.W[u] - \\\n",
        "                                                       self.reg_par * self.H[:, i])\n",
        "                            self.H[:, j] -= self.lr * (np.log(len(unwatched_movies_for_u[:20]) / count ) * self.W[u] + \\\n",
        "                                                       self.reg_par * self.H[:, j])\n",
        "                            \n",
        "                            self.B_i[:,i] += self.lr * (np.log(len(unwatched_movies_for_u[:20]) / count ) - \\\n",
        "                                                       self.reg_par * self.B_i[:,i])\n",
        "                            self.B_i[:,j] -= self.lr * (np.log(len(unwatched_movies_for_u[:20]) / count ) + \\\n",
        "                                                       self.reg_par * self.B_i[:,j])\n",
        "                            total_loss+=np.log(len(unwatched_movies_for_u[:20]) / count ) \n",
        "                            break            \n",
        "\n",
        "            if t%1 == 0:\n",
        "                print(f\"step: {t}, loss: {total_loss/len(unique_users)}\")                \n",
        "                if total_loss/len(unique_users) < self.eps:\n",
        "                    break\n",
        "                \n",
        "            t+=1\n",
        "        \n",
        "        return self.W, self.H, self.B_i  \n",
        "    \n",
        "    def similar_items(self,item_id):\n",
        "        item_id-=1\n",
        "        nbrs = NearestNeighbors(n_neighbors=10).fit((self.H+self.B_i).T)\n",
        "        distances, indices = nbrs.kneighbors(((self.H+self.B_i).T)[item_id].reshape(1,-1))\n",
        "        return list(zip(indices[0] + 1, distances[0]))\n",
        "    \n",
        "    def recommend(self, user_id, M, movie_info):\n",
        "        user_movie_matrix = self.W@self.H+self.B_i\n",
        "        user_row = user_movie_matrix[user_id - 1]\n",
        "        watched_movies = M[M['user_id'] == user_id]['movie_id']\n",
        "        unwatched_movies = [i for i in movie_info['movie_id'] if i not in watched_movies]\n",
        "        unwatched_movies.sort(key = lambda x: user_row[x-1], reverse = True)\n",
        "        return list(zip(unwatched_movies[:10], user_row[unwatched_movies[:10]]))\n",
        "    "
      ],
      "execution_count": 52,
      "outputs": []
    },
    {
      "cell_type": "code",
      "metadata": {
        "id": "abVhS3QFWAGB",
        "outputId": "f2319f69-b7df-487f-f466-4b13fb85ad54",
        "colab": {
          "base_uri": "https://localhost:8080/"
        }
      },
      "source": [
        "%%time\n",
        "model = WARP(iters = int(10))\n",
        "W, H, B_i = model.fit(implicit_ratings, movie_info)"
      ],
      "execution_count": 53,
      "outputs": [
        {
          "output_type": "stream",
          "text": [
            "end of pre-count\n",
            "step: 0, loss: 175.36033314524676\n",
            "step: 1, loss: 148.03828865796763\n",
            "step: 2, loss: 130.82973949673115\n",
            "step: 3, loss: 115.97277255154448\n",
            "step: 4, loss: 103.61518203306797\n",
            "step: 5, loss: 93.92725508263634\n",
            "step: 6, loss: 85.67512372177637\n",
            "step: 7, loss: 79.150951913019\n",
            "step: 8, loss: 73.62876231682986\n",
            "step: 9, loss: 69.66579190457696\n",
            "CPU times: user 15min 50s, sys: 1.07 s, total: 15min 51s\n",
            "Wall time: 15min 50s\n"
          ],
          "name": "stdout"
        }
      ]
    },
    {
      "cell_type": "code",
      "metadata": {
        "id": "LtUKXtJJWAQQ",
        "outputId": "23806566-9d17-4a91-b108-2ce1d4843821",
        "colab": {
          "base_uri": "https://localhost:8080/"
        }
      },
      "source": [
        "get_similars(1, model)"
      ],
      "execution_count": 54,
      "outputs": [
        {
          "output_type": "execute_result",
          "data": {
            "text/plain": [
              "['0    Toy Story (1995)',\n",
              " '3045    Toy Story 2 (1999)',\n",
              " '589    Silence of the Lambs, The (1991)',\n",
              " '1250    Back to the Future (1985)',\n",
              " '907    Wizard of Oz, The (1939)',\n",
              " '604    Fargo (1996)',\n",
              " '1180    Raiders of the Lost Ark (1981)',\n",
              " '315    Shawshank Redemption, The (1994)',\n",
              " '33    Babe (1995)',\n",
              " '2728    Big (1988)']"
            ]
          },
          "metadata": {
            "tags": []
          },
          "execution_count": 54
        }
      ]
    },
    {
      "cell_type": "code",
      "metadata": {
        "id": "vSL0jyS-WEEP",
        "outputId": "43d35476-2acd-4fe6-e810-be0547bc5786",
        "colab": {
          "base_uri": "https://localhost:8080/"
        }
      },
      "source": [
        "get_recommendations(4, model)"
      ],
      "execution_count": 55,
      "outputs": [
        {
          "output_type": "execute_result",
          "data": {
            "text/plain": [
              "['1196    Alien (1979)',\n",
              " '257    Star Wars: Episode IV - A New Hope (1977)',\n",
              " '847    Godfather, The (1972)',\n",
              " '537    Blade Runner (1982)',\n",
              " '2502    Matrix, The (1999)',\n",
              " '1183    Good, The Bad and The Ugly, The (1966)',\n",
              " '1220    Terminator, The (1984)',\n",
              " '1366    Jaws (1975)',\n",
              " '1284    Butch Cassidy and the Sundance Kid (1969)',\n",
              " '1203    Godfather: Part II, The (1974)']"
            ]
          },
          "metadata": {
            "tags": []
          },
          "execution_count": 55
        }
      ]
    }
  ]
}