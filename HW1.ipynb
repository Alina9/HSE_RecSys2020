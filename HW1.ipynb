{
 "cells": [
  {
   "cell_type": "markdown",
   "metadata": {},
   "source": [
    "### Матричные факторизации"
   ]
  },
  {
   "cell_type": "markdown",
   "metadata": {},
   "source": [
    "В данной работе вам предстоит познакомиться с практической стороной матричных разложений.\n",
    "Работа поделена на 4 задания:\n",
    "1. Вам необходимо реализовать SVD разложения используя SGD на explicit данных\n",
    "2. Вам необходимо реализовать матричное разложения используя ALS на implicit данных\n",
    "3. Вам необходимо реализовать матричное разложения используя BPR(pair-wise loss) на implicit данных\n",
    "4. Вам необходимо реализовать матричное разложения используя WARP(list-wise loss) на implicit данных\n",
    "\n",
    "Мягкий дедлайн 28 Сентября (пишутся замечания, выставляется оценка, есть возможность исправить до жесткого дедлайна)\n",
    "\n",
    "Жесткий дедлайн 5 Октября (Итоговая проверка)"
   ]
  },
  {
   "cell_type": "code",
   "execution_count": 1,
   "metadata": {},
   "outputs": [
    {
     "name": "stderr",
     "output_type": "stream",
     "text": [
      "C:\\Users\\Alina\\Anaconda3\\lib\\site-packages\\lightfm\\_lightfm_fast.py:9: UserWarning: LightFM was compiled without OpenMP support. Only a single thread will be used.\n",
      "  warnings.warn('LightFM was compiled without OpenMP support. '\n"
     ]
    }
   ],
   "source": [
    "import implicit\n",
    "import pandas as pd\n",
    "import numpy as np\n",
    "import scipy.sparse as sp\n",
    "\n",
    "from lightfm.datasets import fetch_movielens"
   ]
  },
  {
   "cell_type": "markdown",
   "metadata": {},
   "source": [
    "В данной работе мы будем работать с explicit датасетом movieLens, в котором представленны пары user_id movie_id и rating выставленный пользователем фильму\n",
    "\n",
    "Скачать датасет можно по ссылке https://grouplens.org/datasets/movielens/1m/"
   ]
  },
  {
   "cell_type": "code",
   "execution_count": 2,
   "metadata": {},
   "outputs": [],
   "source": [
    "ratings = pd.read_csv('RecSysHSE/ml-1m/ratings.dat', delimiter='::', header=None, \n",
    "        names=['user_id', 'movie_id', 'rating', 'timestamp'], \n",
    "        usecols=['user_id', 'movie_id', 'rating'], engine='python')"
   ]
  },
  {
   "cell_type": "code",
   "execution_count": 3,
   "metadata": {},
   "outputs": [],
   "source": [
    "movie_info = pd.read_csv('RecSysHSE/ml-1m/movies.dat', delimiter='::', header=None, \n",
    "        names=['movie_id', 'name', 'category'], engine='python')"
   ]
  },
  {
   "cell_type": "code",
   "execution_count": 4,
   "metadata": {},
   "outputs": [],
   "source": [
    "ratings = ratings.sort_values(by = ['user_id', 'movie_id'])"
   ]
  },
  {
   "cell_type": "markdown",
   "metadata": {},
   "source": [
    "Explicit данные"
   ]
  },
  {
   "cell_type": "code",
   "execution_count": 5,
   "metadata": {},
   "outputs": [
    {
     "data": {
      "text/html": [
       "<div>\n",
       "<style scoped>\n",
       "    .dataframe tbody tr th:only-of-type {\n",
       "        vertical-align: middle;\n",
       "    }\n",
       "\n",
       "    .dataframe tbody tr th {\n",
       "        vertical-align: top;\n",
       "    }\n",
       "\n",
       "    .dataframe thead th {\n",
       "        text-align: right;\n",
       "    }\n",
       "</style>\n",
       "<table border=\"1\" class=\"dataframe\">\n",
       "  <thead>\n",
       "    <tr style=\"text-align: right;\">\n",
       "      <th></th>\n",
       "      <th>user_id</th>\n",
       "      <th>movie_id</th>\n",
       "      <th>rating</th>\n",
       "    </tr>\n",
       "  </thead>\n",
       "  <tbody>\n",
       "    <tr>\n",
       "      <th>40</th>\n",
       "      <td>1</td>\n",
       "      <td>1</td>\n",
       "      <td>5</td>\n",
       "    </tr>\n",
       "    <tr>\n",
       "      <th>25</th>\n",
       "      <td>1</td>\n",
       "      <td>48</td>\n",
       "      <td>5</td>\n",
       "    </tr>\n",
       "    <tr>\n",
       "      <th>39</th>\n",
       "      <td>1</td>\n",
       "      <td>150</td>\n",
       "      <td>5</td>\n",
       "    </tr>\n",
       "    <tr>\n",
       "      <th>44</th>\n",
       "      <td>1</td>\n",
       "      <td>260</td>\n",
       "      <td>4</td>\n",
       "    </tr>\n",
       "    <tr>\n",
       "      <th>23</th>\n",
       "      <td>1</td>\n",
       "      <td>527</td>\n",
       "      <td>5</td>\n",
       "    </tr>\n",
       "    <tr>\n",
       "      <th>49</th>\n",
       "      <td>1</td>\n",
       "      <td>531</td>\n",
       "      <td>4</td>\n",
       "    </tr>\n",
       "    <tr>\n",
       "      <th>33</th>\n",
       "      <td>1</td>\n",
       "      <td>588</td>\n",
       "      <td>4</td>\n",
       "    </tr>\n",
       "    <tr>\n",
       "      <th>8</th>\n",
       "      <td>1</td>\n",
       "      <td>594</td>\n",
       "      <td>4</td>\n",
       "    </tr>\n",
       "    <tr>\n",
       "      <th>10</th>\n",
       "      <td>1</td>\n",
       "      <td>595</td>\n",
       "      <td>5</td>\n",
       "    </tr>\n",
       "    <tr>\n",
       "      <th>51</th>\n",
       "      <td>1</td>\n",
       "      <td>608</td>\n",
       "      <td>4</td>\n",
       "    </tr>\n",
       "  </tbody>\n",
       "</table>\n",
       "</div>"
      ],
      "text/plain": [
       "    user_id  movie_id  rating\n",
       "40        1         1       5\n",
       "25        1        48       5\n",
       "39        1       150       5\n",
       "44        1       260       4\n",
       "23        1       527       5\n",
       "49        1       531       4\n",
       "33        1       588       4\n",
       "8         1       594       4\n",
       "10        1       595       5\n",
       "51        1       608       4"
      ]
     },
     "execution_count": 5,
     "metadata": {},
     "output_type": "execute_result"
    }
   ],
   "source": [
    "ratings.head(10)"
   ]
  },
  {
   "cell_type": "markdown",
   "metadata": {},
   "source": [
    "Для того, чтобы преобразовать текущий датасет в Implicit, давайте считать что позитивная оценка это оценка >=4"
   ]
  },
  {
   "cell_type": "code",
   "execution_count": 6,
   "metadata": {
    "scrolled": true
   },
   "outputs": [
    {
     "name": "stderr",
     "output_type": "stream",
     "text": [
      "C:\\Users\\Alina\\Anaconda3\\lib\\site-packages\\ipykernel_launcher.py:2: SettingWithCopyWarning: \n",
      "A value is trying to be set on a copy of a slice from a DataFrame.\n",
      "Try using .loc[row_indexer,col_indexer] = value instead\n",
      "\n",
      "See the caveats in the documentation: http://pandas.pydata.org/pandas-docs/stable/user_guide/indexing.html#returning-a-view-versus-a-copy\n",
      "  \n"
     ]
    }
   ],
   "source": [
    "implicit_ratings = ratings.loc[(ratings['rating'] >= 4)]\n",
    "implicit_ratings['rating'] = 1"
   ]
  },
  {
   "cell_type": "code",
   "execution_count": 7,
   "metadata": {},
   "outputs": [
    {
     "data": {
      "text/html": [
       "<div>\n",
       "<style scoped>\n",
       "    .dataframe tbody tr th:only-of-type {\n",
       "        vertical-align: middle;\n",
       "    }\n",
       "\n",
       "    .dataframe tbody tr th {\n",
       "        vertical-align: top;\n",
       "    }\n",
       "\n",
       "    .dataframe thead th {\n",
       "        text-align: right;\n",
       "    }\n",
       "</style>\n",
       "<table border=\"1\" class=\"dataframe\">\n",
       "  <thead>\n",
       "    <tr style=\"text-align: right;\">\n",
       "      <th></th>\n",
       "      <th>user_id</th>\n",
       "      <th>movie_id</th>\n",
       "      <th>rating</th>\n",
       "    </tr>\n",
       "  </thead>\n",
       "  <tbody>\n",
       "    <tr>\n",
       "      <th>40</th>\n",
       "      <td>1</td>\n",
       "      <td>1</td>\n",
       "      <td>1</td>\n",
       "    </tr>\n",
       "    <tr>\n",
       "      <th>25</th>\n",
       "      <td>1</td>\n",
       "      <td>48</td>\n",
       "      <td>1</td>\n",
       "    </tr>\n",
       "    <tr>\n",
       "      <th>39</th>\n",
       "      <td>1</td>\n",
       "      <td>150</td>\n",
       "      <td>1</td>\n",
       "    </tr>\n",
       "    <tr>\n",
       "      <th>44</th>\n",
       "      <td>1</td>\n",
       "      <td>260</td>\n",
       "      <td>1</td>\n",
       "    </tr>\n",
       "    <tr>\n",
       "      <th>23</th>\n",
       "      <td>1</td>\n",
       "      <td>527</td>\n",
       "      <td>1</td>\n",
       "    </tr>\n",
       "    <tr>\n",
       "      <th>49</th>\n",
       "      <td>1</td>\n",
       "      <td>531</td>\n",
       "      <td>1</td>\n",
       "    </tr>\n",
       "    <tr>\n",
       "      <th>33</th>\n",
       "      <td>1</td>\n",
       "      <td>588</td>\n",
       "      <td>1</td>\n",
       "    </tr>\n",
       "    <tr>\n",
       "      <th>8</th>\n",
       "      <td>1</td>\n",
       "      <td>594</td>\n",
       "      <td>1</td>\n",
       "    </tr>\n",
       "    <tr>\n",
       "      <th>10</th>\n",
       "      <td>1</td>\n",
       "      <td>595</td>\n",
       "      <td>1</td>\n",
       "    </tr>\n",
       "    <tr>\n",
       "      <th>51</th>\n",
       "      <td>1</td>\n",
       "      <td>608</td>\n",
       "      <td>1</td>\n",
       "    </tr>\n",
       "  </tbody>\n",
       "</table>\n",
       "</div>"
      ],
      "text/plain": [
       "    user_id  movie_id  rating\n",
       "40        1         1       1\n",
       "25        1        48       1\n",
       "39        1       150       1\n",
       "44        1       260       1\n",
       "23        1       527       1\n",
       "49        1       531       1\n",
       "33        1       588       1\n",
       "8         1       594       1\n",
       "10        1       595       1\n",
       "51        1       608       1"
      ]
     },
     "execution_count": 7,
     "metadata": {},
     "output_type": "execute_result"
    }
   ],
   "source": [
    "implicit_ratings.head(10)"
   ]
  },
  {
   "cell_type": "markdown",
   "metadata": {},
   "source": [
    "Удобнее работать с sparse матричками, давайте преобразуем DataFrame в CSR матрицы"
   ]
  },
  {
   "cell_type": "code",
   "execution_count": 8,
   "metadata": {},
   "outputs": [],
   "source": [
    "users = implicit_ratings[\"user_id\"]\n",
    "movies = implicit_ratings[\"movie_id\"]\n",
    "user_item = sp.coo_matrix((np.ones_like(users), (users, movies)))\n",
    "user_item_t_csr = user_item.T.tocsr()\n",
    "user_item_csr = user_item.tocsr()"
   ]
  },
  {
   "cell_type": "markdown",
   "metadata": {},
   "source": [
    "В качестве примера воспользуемся ALS разложением из библиотеки implicit\n",
    "\n",
    "Зададим размерность латентного пространства равным 64, это же определяет размер user/item эмбедингов"
   ]
  },
  {
   "cell_type": "code",
   "execution_count": 9,
   "metadata": {},
   "outputs": [
    {
     "name": "stderr",
     "output_type": "stream",
     "text": [
      "WARNING:root:Intel MKL BLAS detected. Its highly recommend to set the environment variable 'export MKL_NUM_THREADS=1' to disable its internal multithreading\n"
     ]
    }
   ],
   "source": [
    "model = implicit.als.AlternatingLeastSquares(factors=64, iterations=100, calculate_training_loss=True)"
   ]
  },
  {
   "cell_type": "markdown",
   "metadata": {},
   "source": [
    "В качестве loss здесь всеми любимый RMSE"
   ]
  },
  {
   "cell_type": "code",
   "execution_count": 10,
   "metadata": {},
   "outputs": [
    {
     "data": {
      "application/vnd.jupyter.widget-view+json": {
       "model_id": "3ea4cc61ffae40e7bb7b6c258ba30c14",
       "version_major": 2,
       "version_minor": 0
      },
      "text/plain": [
       "HBox(children=(FloatProgress(value=0.0), HTML(value='')))"
      ]
     },
     "metadata": {},
     "output_type": "display_data"
    },
    {
     "name": "stdout",
     "output_type": "stream",
     "text": [
      "\n"
     ]
    }
   ],
   "source": [
    "model.fit(user_item_t_csr)"
   ]
  },
  {
   "cell_type": "markdown",
   "metadata": {},
   "source": [
    "Построим похожие фильмы по 1 movie_id = Истории игрушек"
   ]
  },
  {
   "cell_type": "code",
   "execution_count": 11,
   "metadata": {},
   "outputs": [
    {
     "data": {
      "text/html": [
       "<div>\n",
       "<style scoped>\n",
       "    .dataframe tbody tr th:only-of-type {\n",
       "        vertical-align: middle;\n",
       "    }\n",
       "\n",
       "    .dataframe tbody tr th {\n",
       "        vertical-align: top;\n",
       "    }\n",
       "\n",
       "    .dataframe thead th {\n",
       "        text-align: right;\n",
       "    }\n",
       "</style>\n",
       "<table border=\"1\" class=\"dataframe\">\n",
       "  <thead>\n",
       "    <tr style=\"text-align: right;\">\n",
       "      <th></th>\n",
       "      <th>movie_id</th>\n",
       "      <th>name</th>\n",
       "      <th>category</th>\n",
       "    </tr>\n",
       "  </thead>\n",
       "  <tbody>\n",
       "    <tr>\n",
       "      <th>0</th>\n",
       "      <td>1</td>\n",
       "      <td>Toy Story (1995)</td>\n",
       "      <td>Animation|Children's|Comedy</td>\n",
       "    </tr>\n",
       "    <tr>\n",
       "      <th>1</th>\n",
       "      <td>2</td>\n",
       "      <td>Jumanji (1995)</td>\n",
       "      <td>Adventure|Children's|Fantasy</td>\n",
       "    </tr>\n",
       "    <tr>\n",
       "      <th>2</th>\n",
       "      <td>3</td>\n",
       "      <td>Grumpier Old Men (1995)</td>\n",
       "      <td>Comedy|Romance</td>\n",
       "    </tr>\n",
       "    <tr>\n",
       "      <th>3</th>\n",
       "      <td>4</td>\n",
       "      <td>Waiting to Exhale (1995)</td>\n",
       "      <td>Comedy|Drama</td>\n",
       "    </tr>\n",
       "    <tr>\n",
       "      <th>4</th>\n",
       "      <td>5</td>\n",
       "      <td>Father of the Bride Part II (1995)</td>\n",
       "      <td>Comedy</td>\n",
       "    </tr>\n",
       "  </tbody>\n",
       "</table>\n",
       "</div>"
      ],
      "text/plain": [
       "   movie_id                                name                      category\n",
       "0         1                    Toy Story (1995)   Animation|Children's|Comedy\n",
       "1         2                      Jumanji (1995)  Adventure|Children's|Fantasy\n",
       "2         3             Grumpier Old Men (1995)                Comedy|Romance\n",
       "3         4            Waiting to Exhale (1995)                  Comedy|Drama\n",
       "4         5  Father of the Bride Part II (1995)                        Comedy"
      ]
     },
     "execution_count": 11,
     "metadata": {},
     "output_type": "execute_result"
    }
   ],
   "source": [
    "movie_info.head(5)"
   ]
  },
  {
   "cell_type": "code",
   "execution_count": 12,
   "metadata": {},
   "outputs": [],
   "source": [
    "get_similars = lambda item_id, model : [movie_info[movie_info[\"movie_id\"] == x[0]][\"name\"].to_string() \n",
    "                                        for x in model.similar_items(item_id)]"
   ]
  },
  {
   "cell_type": "markdown",
   "metadata": {},
   "source": [
    "Как мы видим, симилары действительно оказались симиларами.\n",
    "\n",
    "Качество симиларов часто является хорошим способом проверить качество алгоритмов.\n",
    "\n",
    "P.S. Если хочется поглубже разобраться в том как разные алгоритмы формируют разные латентные пространства, рекомендую загружать полученные вектора в tensorBoard и смотреть на сформированное пространство"
   ]
  },
  {
   "cell_type": "code",
   "execution_count": 13,
   "metadata": {},
   "outputs": [
    {
     "data": {
      "text/plain": [
       "['0    Toy Story (1995)',\n",
       " '3045    Toy Story 2 (1999)',\n",
       " \"2286    Bug's Life, A (1998)\",\n",
       " '33    Babe (1995)',\n",
       " '2315    Babe: Pig in the City (1998)',\n",
       " '584    Aladdin (1992)',\n",
       " '1526    Hercules (1997)',\n",
       " '2252    Pleasantville (1998)',\n",
       " '2692    Iron Giant, The (1999)',\n",
       " '1838    Mulan (1998)']"
      ]
     },
     "execution_count": 13,
     "metadata": {},
     "output_type": "execute_result"
    }
   ],
   "source": [
    "get_similars(1, model)"
   ]
  },
  {
   "cell_type": "markdown",
   "metadata": {},
   "source": [
    "Давайте теперь построим рекомендации для юзеров\n",
    "\n",
    "Как мы видим юзеру нравится фантастика, значит и в рекомендациях ожидаем увидеть фантастику"
   ]
  },
  {
   "cell_type": "code",
   "execution_count": 14,
   "metadata": {},
   "outputs": [],
   "source": [
    "get_user_history = lambda user_id, implicit_ratings : [movie_info[movie_info[\"movie_id\"] == x][\"name\"].to_string() \n",
    "                                            for x in implicit_ratings[implicit_ratings[\"user_id\"] == user_id][\"movie_id\"]]"
   ]
  },
  {
   "cell_type": "code",
   "execution_count": 15,
   "metadata": {},
   "outputs": [
    {
     "data": {
      "text/plain": [
       "['257    Star Wars: Episode IV - A New Hope (1977)',\n",
       " '476    Jurassic Park (1993)',\n",
       " '1023    Die Hard (1988)',\n",
       " '1081    E.T. the Extra-Terrestrial (1982)',\n",
       " '1180    Raiders of the Lost Ark (1981)',\n",
       " '1183    Good, The Bad and The Ugly, The (1966)',\n",
       " '1196    Alien (1979)',\n",
       " '1220    Terminator, The (1984)',\n",
       " '1366    Jaws (1975)',\n",
       " '1885    Rocky (1976)',\n",
       " '1959    Saving Private Ryan (1998)',\n",
       " '2297    King Kong (1933)',\n",
       " '2623    Run Lola Run (Lola rennt) (1998)',\n",
       " '2878    Goldfinger (1964)',\n",
       " '2882    Fistful of Dollars, A (1964)',\n",
       " '3349    Thelma & Louise (1991)',\n",
       " '3399    Hustler, The (1961)',\n",
       " '3633    Mad Max (1979)']"
      ]
     },
     "execution_count": 15,
     "metadata": {},
     "output_type": "execute_result"
    }
   ],
   "source": [
    "get_user_history(4, implicit_ratings)"
   ]
  },
  {
   "cell_type": "markdown",
   "metadata": {},
   "source": [
    "Получилось! \n",
    "\n",
    "Мы действительно порекомендовали пользователю фантастику и боевики, более того встречаются продолжения тех фильмов, которые он высоко оценил"
   ]
  },
  {
   "cell_type": "code",
   "execution_count": 16,
   "metadata": {},
   "outputs": [],
   "source": [
    "get_recommendations = lambda user_id, model : [movie_info[movie_info[\"movie_id\"] == x[0]][\"name\"].to_string() \n",
    "                                               for x in model.recommend(user_id, user_item_csr)]"
   ]
  },
  {
   "cell_type": "code",
   "execution_count": 17,
   "metadata": {},
   "outputs": [
    {
     "data": {
      "text/plain": [
       "['585    Terminator 2: Judgment Day (1991)',\n",
       " '1271    Indiana Jones and the Last Crusade (1989)',\n",
       " '1182    Aliens (1986)',\n",
       " '1284    Butch Cassidy and the Sundance Kid (1969)',\n",
       " '1178    Star Wars: Episode V - The Empire Strikes Back...',\n",
       " '3402    Close Encounters of the Third Kind (1977)',\n",
       " '2502    Matrix, The (1999)',\n",
       " '1884    French Connection, The (1971)',\n",
       " '847    Godfather, The (1972)',\n",
       " '3458    Predator (1987)']"
      ]
     },
     "execution_count": 17,
     "metadata": {},
     "output_type": "execute_result"
    }
   ],
   "source": [
    "get_recommendations(4, model)"
   ]
  },
  {
   "cell_type": "markdown",
   "metadata": {},
   "source": [
    "Теперь ваша очередь реализовать самые популярные алгоритмы матричных разложений\n",
    "\n",
    "Что будет оцениваться:\n",
    "1. Корректность алгоритма\n",
    "2. Качество получившихся симиларов\n",
    "3. Качество итоговых рекомендаций для юзера"
   ]
  },
  {
   "cell_type": "markdown",
   "metadata": {},
   "source": [
    "### Задание 1. Не использую готовые решения, реализовать SVD разложение используя SGD на explicit данных"
   ]
  },
  {
   "cell_type": "code",
   "execution_count": 18,
   "metadata": {},
   "outputs": [],
   "source": [
    "from sklearn.neighbors import NearestNeighbors"
   ]
  },
  {
   "cell_type": "code",
   "execution_count": 32,
   "metadata": {},
   "outputs": [],
   "source": [
    "class SGD:\n",
    "    def __init__(self, r = 64, reg_par = 0.01, lr = 0.01, eps = 5e-4, iters = int(5e6)):\n",
    "        self.r = r\n",
    "        self.reg_par = reg_par\n",
    "        self.lr = lr\n",
    "        self.eps = eps\n",
    "        self.iters = iters\n",
    "        \n",
    "    def fit(self, M):   \n",
    "        row = np.max(M['user_id'])\n",
    "        col = np.max(M['movie_id'])\n",
    "        self.W = np.random.uniform(0, 1/np.sqrt(self.r), (row, self.r))\n",
    "        self.H = np.random.uniform(0, 1/np.sqrt(self.r), (self.r, col))\n",
    "        #B = np.random.uniform(0, 1/np.sqrt(self.r), (row, col))\n",
    "        self.B_u = np.zeros((row, 1))\n",
    "        self.B_i = np.zeros((1, col))\n",
    "        self.mu = M['rating'].mean()\n",
    "        total_len = len(M)\n",
    "        rmse = np.linalg.norm((self.W@self.H + self.B_u + self.B_i + self.mu)[M['user_id']-1, M['movie_id']-1]\n",
    "                                                   - M['rating'])/total_len\n",
    "        t = 0\n",
    "        while t < self.iters:\n",
    "            k = np.random.randint(total_len)\n",
    "            i = M.iloc[k]['user_id']-1\n",
    "            j = M.iloc[k]['movie_id']-1     \n",
    "            w, h, b_u, b_i = self.W[i,:], self.H[:,j], self.B_u[i], self.B_i[:,j]\n",
    "            #b = np.array([B[i[t],j[t]] for t in range(len(i))])\n",
    "            error = w@h + b_u + b_i + self.mu - M.iloc[k]['rating']\n",
    "\n",
    "            self.W[i,:] -= self.lr*(error*h.T + self.reg_par*w)\n",
    "            self.H[:, j] -= self.lr*(error*w.T + self.reg_par*h)\n",
    "            #B[i, j] -= self.lr*error\n",
    "            self.B_u[i] -= self.lr*(error + self.reg_par*b_u)\n",
    "            self.B_i[:,j] -= self.lr*(error + self.reg_par*b_i)\n",
    "            if t%500000 == 0:\n",
    "                rmse = np.linalg.norm((self.W@self.H + self.B_u + self.B_i + self.mu)[M['user_id']-1, M['movie_id']-1]\n",
    "                                                   - M['rating'])/total_len\n",
    "                if rmse < self.eps:\n",
    "                    break\n",
    "                print(\"rmse\", rmse)\n",
    "            t+=1\n",
    "        return self.W, self.H, self.B_u, self.B_i, self.mu \n",
    "    \n",
    "    def similar_items(self, item_id):\n",
    "        item_id-=1\n",
    "        nbrs = NearestNeighbors(n_neighbors=6, algorithm = 'kd_tree' ).fit(self.H.T)\n",
    "        distances, indices = nbrs.kneighbors((self.H.T)[item_id].reshape(1,-1))\n",
    "        return list(zip(indices[0] + 1, distances[0]))\n",
    "    \n",
    "    def recommend(self, user_id, M, movie_info):\n",
    "        user_movie_matrix = self.W@self.H + self.B_u + self.B_i + self.mu\n",
    "        user_row = user_movie_matrix[user_id - 1]\n",
    "        watched_movies = M[M['user_id'] == user_id]['movie_id']\n",
    "        unwatched_movies = [i for i in movie_info['movie_id'] if i not in watched_movies]\n",
    "        unwatched_movies.sort(key = lambda x: user_row[x-1], reverse = True)\n",
    "        return list(zip(unwatched_movies[:10], user_row[unwatched_movies[:10]]))"
   ]
  },
  {
   "cell_type": "code",
   "execution_count": 19,
   "metadata": {},
   "outputs": [],
   "source": [
    "get_recommendations = lambda user_id, model : [movie_info[movie_info[\"movie_id\"] == x[0]][\"name\"].to_string() \n",
    "                                               for x in model.recommend(user_id, ratings, movie_info)]"
   ]
  },
  {
   "cell_type": "code",
   "execution_count": 34,
   "metadata": {},
   "outputs": [
    {
     "name": "stdout",
     "output_type": "stream",
     "text": [
      "rmse 0.001145023688262441\n",
      "rmse 0.0009305519983153932\n",
      "rmse 0.0009128954555596631\n",
      "rmse 0.0009044049328397242\n",
      "rmse 0.000898116603460106\n",
      "rmse 0.0008919042464388948\n",
      "rmse 0.0008844346384120224\n",
      "rmse 0.0008756991067001193\n",
      "rmse 0.0008654110640417119\n",
      "rmse 0.0008539762637158209\n"
     ]
    }
   ],
   "source": [
    "model = SGD()\n",
    "W, H, B_u, B_i, mu = model.fit(ratings)"
   ]
  },
  {
   "cell_type": "code",
   "execution_count": 35,
   "metadata": {},
   "outputs": [
    {
     "data": {
      "text/plain": [
       "['0    Toy Story (1995)',\n",
       " '3045    Toy Story 2 (1999)',\n",
       " '1949    Bambi (1942)',\n",
       " '2011    Lady and the Tramp (1955)',\n",
       " '584    Aladdin (1992)',\n",
       " '591    Beauty and the Beast (1991)']"
      ]
     },
     "execution_count": 35,
     "metadata": {},
     "output_type": "execute_result"
    }
   ],
   "source": [
    "get_similars(1, model)"
   ]
  },
  {
   "cell_type": "code",
   "execution_count": 36,
   "metadata": {},
   "outputs": [
    {
     "data": {
      "text/plain": [
       "['847    Godfather, The (1972)',\n",
       " '2836    Sanjuro (1962)',\n",
       " '1189    To Kill a Mockingbird (1962)',\n",
       " '910    Sunset Blvd. (a.k.a. Sunset Boulevard) (1950)',\n",
       " '892    Rear Window (1954)',\n",
       " '1950    Seven Samurai (The Magnificent Seven) (Shichin...',\n",
       " '1162    Paths of Glory (1957)',\n",
       " '735    Close Shave, A (1995)',\n",
       " '315    Shawshank Redemption, The (1994)',\n",
       " '901    Maltese Falcon, The (1941)']"
      ]
     },
     "execution_count": 36,
     "metadata": {},
     "output_type": "execute_result"
    }
   ],
   "source": [
    "get_recommendations(4, model)"
   ]
  },
  {
   "cell_type": "markdown",
   "metadata": {},
   "source": [
    "### Задание 2. Не использую готовые решения, реализовать матричное разложение используя ALS на implicit данных"
   ]
  },
  {
   "cell_type": "code",
   "execution_count": 28,
   "metadata": {},
   "outputs": [],
   "source": [
    "class ALS:\n",
    "    def __init__(self, r = 64, reg_par = 0.001, lr = 1e-3, eps = 1e-3, iters = 100):\n",
    "        self.r = r\n",
    "        self.reg_par = reg_par\n",
    "        self.lr = lr\n",
    "        self.eps = eps\n",
    "        self.iters = iters\n",
    "        self.movie_info = movie_info\n",
    "        \n",
    "    def fit(self, M):   \n",
    "        row = np.max(M['user_id'])\n",
    "        col = np.max(M['movie_id'])\n",
    "        self.W = np.random.uniform(0, 1/np.sqrt(self.r), (row, self.r))\n",
    "        self.H = np.random.uniform(0, 1/np.sqrt(self.r), (self.r, col))\n",
    "        total_len = len(M)\n",
    "        rmse = np.linalg.norm((self.W@self.H)[M['user_id']-1, M['movie_id']-1]\n",
    "                                                   - M['rating'])/total_len\n",
    "        t = 0\n",
    "        while t < self.iters:\n",
    "            WH = self.W@self.H\n",
    "            diff = WH\n",
    "            diff[M['user_id']-1, M['movie_id']-1] = WH[M['user_id']-1, M['movie_id']-1]- M['rating']\n",
    "            \n",
    "            if t % 2 == 0:\n",
    "                self.W = self.W - self.lr * (diff @ self.H.T + self.reg_par * self.W)\n",
    "            else:\n",
    "                self.H = self.H - self.lr * (self.W.T @diff  + self.reg_par * self.H)\n",
    "                \n",
    "            if t%10 == 0:\n",
    "                rmse = np.linalg.norm((self.W@self.H)[M['user_id']-1, M['movie_id']-1]\n",
    "                                                   - M['rating'])/total_len\n",
    "                print(\"rmse\", rmse)\n",
    "                \n",
    "            if rmse < self.eps:\n",
    "                break\n",
    "            t+=1\n",
    "        \n",
    "        return self.W, self.H  \n",
    "    \n",
    "    def similar_items(self,item_id):\n",
    "        item_id-=1\n",
    "        nbrs = NearestNeighbors(n_neighbors=10).fit(self.H.T)\n",
    "        distances, indices = nbrs.kneighbors((self.H.T)[item_id].reshape(1,-1))\n",
    "        return list(zip(indices[0] + 1, distances[0]))\n",
    "    \n",
    "    def recommend(self, user_id, M, movie_info):\n",
    "        user_movie_matrix = self.W@self.H\n",
    "        user_row = user_movie_matrix[user_id - 1]\n",
    "        watched_movies = M[M['user_id'] == user_id]['movie_id']\n",
    "        unwatched_movies = [i for i in movie_info['movie_id'] if i not in watched_movies]\n",
    "        unwatched_movies.sort(key = lambda x: user_row[x-1], reverse = True)\n",
    "        return list(zip(unwatched_movies[:10], user_row[unwatched_movies[:10]]))\n",
    "    "
   ]
  },
  {
   "cell_type": "code",
   "execution_count": 29,
   "metadata": {},
   "outputs": [
    {
     "name": "stdout",
     "output_type": "stream",
     "text": [
      "rmse 0.0012476559992730177\n",
      "rmse 0.0011873506361842945\n",
      "rmse 0.001129319010494593\n",
      "rmse 0.0010986231303928575\n",
      "rmse 0.0010862891137024039\n",
      "rmse 0.001076605644001585\n",
      "rmse 0.0010617294794914153\n",
      "rmse 0.001042069134595005\n",
      "rmse 0.0010228374209121562\n",
      "rmse 0.001005967096743313\n"
     ]
    }
   ],
   "source": [
    "model = ALS()\n",
    "W, H = model.fit(implicit_ratings)"
   ]
  },
  {
   "cell_type": "code",
   "execution_count": 30,
   "metadata": {},
   "outputs": [
    {
     "data": {
      "text/plain": [
       "['0    Toy Story (1995)',\n",
       " '3045    Toy Story 2 (1999)',\n",
       " '1245    Groundhog Day (1993)',\n",
       " \"2286    Bug's Life, A (1998)\",\n",
       " '584    Aladdin (1992)',\n",
       " '33    Babe (1995)',\n",
       " '352    Forrest Gump (1994)',\n",
       " '2327    Shakespeare in Love (1998)',\n",
       " '360    Lion King, The (1994)',\n",
       " \"1854    There's Something About Mary (1998)\"]"
      ]
     },
     "execution_count": 30,
     "metadata": {},
     "output_type": "execute_result"
    }
   ],
   "source": [
    "get_similars(1, model)"
   ]
  },
  {
   "cell_type": "code",
   "execution_count": 31,
   "metadata": {},
   "outputs": [
    {
     "data": {
      "text/plain": [
       "['257    Star Wars: Episode IV - A New Hope (1977)',\n",
       " '1178    Star Wars: Episode V - The Empire Strikes Back...',\n",
       " '1180    Raiders of the Lost Ark (1981)',\n",
       " '1192    Star Wars: Episode VI - Return of the Jedi (1983)',\n",
       " '1220    Terminator, The (1984)',\n",
       " '1196    Alien (1979)',\n",
       " '1182    Aliens (1986)',\n",
       " '585    Terminator 2: Judgment Day (1991)',\n",
       " '2502    Matrix, The (1999)',\n",
       " '1959    Saving Private Ryan (1998)']"
      ]
     },
     "execution_count": 31,
     "metadata": {},
     "output_type": "execute_result"
    }
   ],
   "source": [
    "get_recommendations(4, model)"
   ]
  },
  {
   "cell_type": "markdown",
   "metadata": {},
   "source": [
    "### Задание 3. Не использую готовые решения, реализовать матричное разложение BPR на implicit данных"
   ]
  },
  {
   "cell_type": "code",
   "execution_count": 105,
   "metadata": {},
   "outputs": [],
   "source": [
    "class BPR:\n",
    "    def __init__(self, r = 64, reg_par = 0.001, lr = 1e-3, eps = 1e-5, iters = int(1e6)):\n",
    "        self.r = r\n",
    "        self.reg_par = reg_par\n",
    "        self.lr = lr\n",
    "        self.eps = eps\n",
    "        self.iters = iters\n",
    "        self.movie_info = movie_info\n",
    "    \n",
    "\n",
    "    def fit(self, M, movie_info): \n",
    "        \n",
    "        def partial_BPR(x_uij, partial_x):\n",
    "            exp_x = np.exp(-x_uij)\n",
    "            return exp_x / (1 + exp_x) * partial_x\n",
    "        \n",
    "        row = np.max(M['user_id'])\n",
    "        col = np.max(M['movie_id'])\n",
    "        self.W = np.random.uniform(0, 1/np.sqrt(self.r), (row, self.r))\n",
    "        self.H = np.random.uniform(0, 1/np.sqrt(self.r), (self.r, col))\n",
    "        total_len = len(M)\n",
    "        rmse = np.linalg.norm((self.W@self.H)[M['user_id']-1, M['movie_id']-1]\n",
    "                                                   - M['rating'])/total_len\n",
    "        \n",
    "        watched_movies = {}\n",
    "        unwatched_movies = {}\n",
    "        \n",
    "        for u in range(1, row + 1):\n",
    "            watched_movies[u] = np.array(M[M['user_id'] == u]['movie_id'])\n",
    "            unwatched_movies[u] = np.array([i for i in movie_info['movie_id'] if i not in watched_movies[u]])\n",
    "        print(\"end of pre-count\")\n",
    "        \n",
    "        t = 0\n",
    "        while t < self.iters:\n",
    "            k = np.random.randint(total_len)\n",
    "            u = M.iloc[k]['user_id']-1\n",
    "            #watched_movies = M[M['user_id'] == u + 1]['movie_id']\n",
    "            i = np.random.choice(watched_movies[u+1])-1\n",
    "            #unwatched_movies = [i for i in movie_info['movie_id'] if i not in watched_movies]\n",
    "            j = np.random.choice(unwatched_movies[u+1])-1\n",
    "            \n",
    "            WH_i = self.W[u]@self.H[:,i] + self.B_i[:,i]\n",
    "            WH_j = self.W[u]@self.H[:,j] + self.B_i[:,j]\n",
    "            x_uij = WH_i - WH_j\n",
    "            \n",
    "            self.W[u] += self.lr * (partial_BPR(x_uij, self.H[:,i] - self.H[:,j]) - self.reg_par * self.W[u])\n",
    "            self.H[:,i] += self.lr * (partial_BPR(x_uij, self.W[u]) - self.reg_par * self.H[:,i])\n",
    "            self.H[:,j] += self.lr * (partial_BPR(x_uij, -self.W[u]) - self.reg_par * self.H[:,j])\n",
    "            \n",
    "   \n",
    "            if t%100000 == 0:\n",
    "                rmse = np.linalg.norm((self.W@self.H)[M['user_id']-1, M['movie_id']-1]\n",
    "                                                   - M['rating'])/total_len\n",
    "                print(\"rmse\", rmse)\n",
    "                \n",
    "            if rmse < self.eps:\n",
    "                break\n",
    "            t+=1\n",
    "        \n",
    "        return self.W, self.H  \n",
    "    \n",
    "    def similar_items(self, item_id):\n",
    "        item_id-=1\n",
    "        nbrs = NearestNeighbors(n_neighbors=10, algorithm = 'kd_tree' ).fit(self.H.T)\n",
    "        distances, indices = nbrs.kneighbors((self.H.T)[item_id].reshape(1,-1))\n",
    "        return list(zip(indices[0] + 1, distances[0]))\n",
    "    \n",
    "    def recommend(self, user_id, M, movie_info):\n",
    "        user_movie_matrix = self.W@self.H\n",
    "        user_row = user_movie_matrix[user_id - 1]\n",
    "        watched_movies = M[M['user_id'] == user_id]['movie_id']\n",
    "        unwatched_movies = [i for i in movie_info['movie_id'] if i not in watched_movies]\n",
    "        unwatched_movies.sort(key = lambda x: user_row[x-1], reverse = True)\n",
    "        return list(zip(unwatched_movies[:10], user_row[unwatched_movies[:10]]))\n",
    "    "
   ]
  },
  {
   "cell_type": "code",
   "execution_count": 106,
   "metadata": {},
   "outputs": [
    {
     "name": "stdout",
     "output_type": "stream",
     "text": [
      "end of pre-count\n",
      "rmse 0.0009919170868044694\n",
      "rmse 0.0009770220793227254\n",
      "rmse 0.0009631845530290926\n",
      "rmse 0.0009502903026334152\n",
      "rmse 0.0009380619840987668\n",
      "rmse 0.0009265139883945947\n",
      "rmse 0.0009154732609761482\n",
      "rmse 0.0009049266659662641\n",
      "rmse 0.0008948757501341175\n",
      "rmse 0.0008851596311048403\n",
      "Wall time: 5min 54s\n"
     ]
    }
   ],
   "source": [
    "%%time\n",
    "model = BPR(iters = int(1e6))\n",
    "W, H = model.fit(implicit_ratings, movie_info)"
   ]
  },
  {
   "cell_type": "code",
   "execution_count": 107,
   "metadata": {},
   "outputs": [
    {
     "data": {
      "text/plain": [
       "['0    Toy Story (1995)',\n",
       " '476    Jurassic Park (1993)',\n",
       " '373    Speed (1994)',\n",
       " '1179    Princess Bride, The (1987)',\n",
       " '1180    Raiders of the Lost Ark (1981)',\n",
       " '2647    Ghostbusters (1984)',\n",
       " '589    Silence of the Lambs, The (1991)',\n",
       " '1195    GoodFellas (1990)',\n",
       " '315    Shawshank Redemption, The (1994)',\n",
       " '2502    Matrix, The (1999)']"
      ]
     },
     "execution_count": 107,
     "metadata": {},
     "output_type": "execute_result"
    }
   ],
   "source": [
    "get_similars(1, model)"
   ]
  },
  {
   "cell_type": "code",
   "execution_count": 108,
   "metadata": {},
   "outputs": [
    {
     "data": {
      "text/plain": [
       "['2789    American Beauty (1999)',\n",
       " '257    Star Wars: Episode IV - A New Hope (1977)',\n",
       " '1178    Star Wars: Episode V - The Empire Strikes Back...',\n",
       " '1180    Raiders of the Lost Ark (1981)',\n",
       " '1959    Saving Private Ryan (1998)',\n",
       " '589    Silence of the Lambs, The (1991)',\n",
       " '1192    Star Wars: Episode VI - Return of the Jedi (1983)',\n",
       " '2693    Sixth Sense, The (1999)',\n",
       " '2502    Matrix, The (1999)',\n",
       " \"523    Schindler's List (1993)\"]"
      ]
     },
     "execution_count": 108,
     "metadata": {},
     "output_type": "execute_result"
    }
   ],
   "source": [
    "get_recommendations(4, model)"
   ]
  },
  {
   "cell_type": "markdown",
   "metadata": {},
   "source": [
    "### Задание 4. Не использую готовые решения, реализовать матричное разложение WARP на implicit данных"
   ]
  },
  {
   "cell_type": "code",
   "execution_count": 127,
   "metadata": {},
   "outputs": [],
   "source": [
    "class WARP:\n",
    "    def __init__(self, r = 64, reg_par = 0.0001, lr = 1e-4, eps = 1e-5, iters = int(1e6)):\n",
    "        self.r = r\n",
    "        self.reg_par = reg_par\n",
    "        self.lr = lr\n",
    "        self.eps = eps\n",
    "        self.iters = iters\n",
    "        self.movie_info = movie_info\n",
    "    \n",
    "\n",
    "    def fit(self, M, movie_info):     \n",
    "        row = np.max(M['user_id'])\n",
    "        col = np.max(M['movie_id'])\n",
    "        self.W = np.random.uniform(0, 1/np.sqrt(self.r), (row, self.r))\n",
    "        self.H = np.random.uniform(0, 1/np.sqrt(self.r), (self.r, col))\n",
    "        total_len = len(M)\n",
    "        rmse = np.linalg.norm((self.W@self.H)[M['user_id']-1, M['movie_id']-1]\n",
    "                                                   - M['rating'])/total_len\n",
    "        \n",
    "        watched_movies = {}\n",
    "        unwatched_movies = {}\n",
    "        for u in range(1, row + 1):\n",
    "            watched_movies[u] = np.array(M[M['user_id'] == u]['movie_id'])\n",
    "            unwatched_movies[u] = np.array([i for i in movie_info['movie_id'] if i not in watched_movies[u]])\n",
    "        print(\"end of pre-count\")\n",
    "        \n",
    "        t = 0\n",
    "        while t < self.iters:\n",
    "            k = np.random.randint(total_len)\n",
    "            u = M.iloc[k]['user_id']-1\n",
    "            i = np.random.choice(watched_movies[u+1])-1\n",
    "            unwatched_movies_for_u = unwatched_movies[u+1] - 1\n",
    "           \n",
    "            WH = self.W[u]@self.H[:, i]\n",
    "            count = 0\n",
    "            for j in np.random.permutation(unwatched_movies_for_u):\n",
    "                count  += 1\n",
    "                if self.W[u]@self.H[:, j] + 1 > WH:\n",
    "                    self.W[u] -= self.lr * (np.log(len(unwatched_movies_for_u) / count ) * (self.H[:, j] - self.H[:, i]) + \\\n",
    "                                            self.reg_par*self.W[u])\n",
    "                    self.H[:, i] += self.lr * (np.log(len(unwatched_movies_for_u) / count ) * self.W[u] - \\\n",
    "                                               self.reg_par * self.H[:, i])\n",
    "                    self.H[:, j] -= self.lr * (np.log(len(unwatched_movies_for_u) / count ) * self.W[u] + \\\n",
    "                                               self.reg_par * self.H[:, j])\n",
    "                    break            \n",
    "   \n",
    "            if t%100000 == 0:\n",
    "                rmse = np.linalg.norm((self.W@self.H)[M['user_id']-1, M['movie_id']-1]\n",
    "                                                   - M['rating'])/total_len\n",
    "                print(\"rmse\", rmse)\n",
    "                \n",
    "            if rmse < self.eps:\n",
    "                break\n",
    "            t+=1\n",
    "        \n",
    "        return self.W, self.H  \n",
    "    \n",
    "    def similar_items(self,item_id):\n",
    "        item_id-=1\n",
    "        nbrs = NearestNeighbors(n_neighbors=10).fit(self.H.T)\n",
    "        distances, indices = nbrs.kneighbors((self.H.T)[item_id].reshape(1,-1))\n",
    "        return list(zip(indices[0] + 1, distances[0]))\n",
    "    \n",
    "    def recommend(self, user_id, M, movie_info):\n",
    "        user_movie_matrix = self.W@self.H\n",
    "        user_row = user_movie_matrix[user_id - 1]\n",
    "        watched_movies = M[M['user_id'] == user_id]['movie_id']\n",
    "        unwatched_movies = [i for i in movie_info['movie_id'] if i not in watched_movies]\n",
    "        unwatched_movies.sort(key = lambda x: user_row[x-1], reverse = True)\n",
    "        return list(zip(unwatched_movies[:10], user_row[unwatched_movies[:10]]))\n",
    "    "
   ]
  },
  {
   "cell_type": "code",
   "execution_count": 128,
   "metadata": {},
   "outputs": [
    {
     "name": "stdout",
     "output_type": "stream",
     "text": [
      "end of pre-count\n",
      "rmse 0.0009875700471273963\n",
      "rmse 0.0009620998988249654\n",
      "rmse 0.0009368593304117218\n",
      "rmse 0.0009115692308429302\n",
      "rmse 0.0008863046618560765\n",
      "rmse 0.0008610523108657894\n",
      "rmse 0.0008359013135150505\n",
      "rmse 0.0008109487363241949\n",
      "rmse 0.0007866829093494168\n",
      "rmse 0.0007637264332646435\n",
      "Wall time: 10min 2s\n"
     ]
    }
   ],
   "source": [
    "%%time\n",
    "model = WARP(iters = int(1e6))\n",
    "W, H = model.fit(implicit_ratings, movie_info)"
   ]
  },
  {
   "cell_type": "code",
   "execution_count": 129,
   "metadata": {},
   "outputs": [
    {
     "data": {
      "text/plain": [
       "['0    Toy Story (1995)',\n",
       " '1239    Stand by Me (1986)',\n",
       " '2647    Ghostbusters (1984)',\n",
       " '1220    Terminator, The (1984)',\n",
       " '293    Pulp Fiction (1994)',\n",
       " '1081    E.T. the Extra-Terrestrial (1982)',\n",
       " '3509    Gladiator (2000)',\n",
       " '2928    Being John Malkovich (1999)',\n",
       " '1245    Groundhog Day (1993)',\n",
       " '352    Forrest Gump (1994)']"
      ]
     },
     "execution_count": 129,
     "metadata": {},
     "output_type": "execute_result"
    }
   ],
   "source": [
    "get_similars(1, model)"
   ]
  },
  {
   "cell_type": "code",
   "execution_count": 130,
   "metadata": {},
   "outputs": [
    {
     "data": {
      "text/plain": [
       "['2789    American Beauty (1999)',\n",
       " '257    Star Wars: Episode IV - A New Hope (1977)',\n",
       " '1178    Star Wars: Episode V - The Empire Strikes Back...',\n",
       " '1959    Saving Private Ryan (1998)',\n",
       " '589    Silence of the Lambs, The (1991)',\n",
       " '2502    Matrix, The (1999)',\n",
       " '1192    Star Wars: Episode VI - Return of the Jedi (1983)',\n",
       " '1180    Raiders of the Lost Ark (1981)',\n",
       " '315    Shawshank Redemption, The (1994)',\n",
       " '2693    Sixth Sense, The (1999)']"
      ]
     },
     "execution_count": 130,
     "metadata": {},
     "output_type": "execute_result"
    }
   ],
   "source": [
    "get_recommendations(4, model)"
   ]
  },
  {
   "cell_type": "code",
   "execution_count": null,
   "metadata": {},
   "outputs": [],
   "source": []
  }
 ],
 "metadata": {
  "kernelspec": {
   "display_name": "Python 3",
   "language": "python",
   "name": "python3"
  },
  "language_info": {
   "codemirror_mode": {
    "name": "ipython",
    "version": 3
   },
   "file_extension": ".py",
   "mimetype": "text/x-python",
   "name": "python",
   "nbconvert_exporter": "python",
   "pygments_lexer": "ipython3",
   "version": "3.7.3"
  }
 },
 "nbformat": 4,
 "nbformat_minor": 2
}
